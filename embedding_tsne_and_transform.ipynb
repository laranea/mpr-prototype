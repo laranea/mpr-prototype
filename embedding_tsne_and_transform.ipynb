{
  "nbformat": 4,
  "nbformat_minor": 0,
  "metadata": {
    "colab": {
      "name": "embedding visualization.ipynb",
      "provenance": [],
      "collapsed_sections": [],
      "include_colab_link": true
    },
    "kernelspec": {
      "name": "python3",
      "display_name": "Python 3"
    },
    "accelerator": "GPU"
  },
  "cells": [
    {
      "cell_type": "markdown",
      "metadata": {
        "id": "view-in-github",
        "colab_type": "text"
      },
      "source": [
        "<a href=\"https://colab.research.google.com/github/thingumajig/mpr-prototype/blob/master/embedding_tsne_and_transform.ipynb\" target=\"_parent\"><img src=\"https://colab.research.google.com/assets/colab-badge.svg\" alt=\"Open In Colab\"/></a>"
      ]
    },
    {
      "cell_type": "code",
      "metadata": {
        "id": "OBo4XkCma5xd",
        "colab_type": "code",
        "colab": {}
      },
      "source": [
        "# !pip uninstall tf-sentencepiece\n",
        "# !pip uninstall tensorflow"
      ],
      "execution_count": 0,
      "outputs": []
    },
    {
      "cell_type": "markdown",
      "metadata": {
        "id": "pXWyFgygU4hz",
        "colab_type": "text"
      },
      "source": [
        "# Preprocess data"
      ]
    },
    {
      "cell_type": "code",
      "metadata": {
        "id": "FSEupHoIbWD6",
        "colab_type": "code",
        "outputId": "95c078ca-f48d-4d24-a90d-c079ffebb876",
        "colab": {
          "base_uri": "https://localhost:8080/",
          "height": 1000
        }
      },
      "source": [
        "!pip install numpy==1.15.0\n",
        "!pip install sentencepiece==0.1.83\n",
        "!pip install tf-sentencepiece==0.1.83\n",
        "!pip install tensorflow==1.14.0\n",
        "!pip install tensorflow_hub\n"
      ],
      "execution_count": 0,
      "outputs": [
        {
          "output_type": "stream",
          "text": [
            "Collecting numpy==1.15.0\n",
            "\u001b[?25l  Downloading https://files.pythonhosted.org/packages/88/29/f4c845648ed23264e986cdc5fbab5f8eace1be5e62144ef69ccc7189461d/numpy-1.15.0-cp36-cp36m-manylinux1_x86_64.whl (13.9MB)\n",
            "\u001b[K     |████████████████████████████████| 13.9MB 2.7MB/s \n",
            "\u001b[31mERROR: tensorflow 1.15.0 has requirement numpy<2.0,>=1.16.0, but you'll have numpy 1.15.0 which is incompatible.\u001b[0m\n",
            "\u001b[31mERROR: datascience 0.10.6 has requirement folium==0.2.1, but you'll have folium 0.8.3 which is incompatible.\u001b[0m\n",
            "\u001b[31mERROR: albumentations 0.1.12 has requirement imgaug<0.2.7,>=0.2.5, but you'll have imgaug 0.2.9 which is incompatible.\u001b[0m\n",
            "\u001b[?25hInstalling collected packages: numpy\n",
            "  Found existing installation: numpy 1.16.5\n",
            "    Uninstalling numpy-1.16.5:\n",
            "      Successfully uninstalled numpy-1.16.5\n",
            "Successfully installed numpy-1.15.0\n"
          ],
          "name": "stdout"
        },
        {
          "output_type": "display_data",
          "data": {
            "application/vnd.colab-display-data+json": {
              "pip_warning": {
                "packages": [
                  "numpy"
                ]
              }
            }
          },
          "metadata": {
            "tags": []
          }
        },
        {
          "output_type": "stream",
          "text": [
            "Collecting sentencepiece==0.1.83\n",
            "\u001b[?25l  Downloading https://files.pythonhosted.org/packages/14/3d/efb655a670b98f62ec32d66954e1109f403db4d937c50d779a75b9763a29/sentencepiece-0.1.83-cp36-cp36m-manylinux1_x86_64.whl (1.0MB)\n",
            "\u001b[K     |████████████████████████████████| 1.0MB 2.8MB/s \n",
            "\u001b[?25hInstalling collected packages: sentencepiece\n",
            "Successfully installed sentencepiece-0.1.83\n",
            "Collecting tf-sentencepiece==0.1.83\n",
            "\u001b[?25l  Downloading https://files.pythonhosted.org/packages/dc/2c/20800032089a9271757921f3adc1f2c7ec2d294ec9fa07b3115fab9d27c2/tf_sentencepiece-0.1.83-py2.py3-none-manylinux1_x86_64.whl (2.7MB)\n",
            "\u001b[K     |████████████████████████████████| 2.7MB 2.9MB/s \n",
            "\u001b[?25hInstalling collected packages: tf-sentencepiece\n",
            "Successfully installed tf-sentencepiece-0.1.83\n",
            "Collecting tensorflow==1.14.0\n",
            "\u001b[?25l  Downloading https://files.pythonhosted.org/packages/de/f0/96fb2e0412ae9692dbf400e5b04432885f677ad6241c088ccc5fe7724d69/tensorflow-1.14.0-cp36-cp36m-manylinux1_x86_64.whl (109.2MB)\n",
            "\u001b[K     |████████████████████████████████| 109.2MB 307kB/s \n",
            "\u001b[?25hRequirement already satisfied: wheel>=0.26 in /usr/local/lib/python3.6/dist-packages (from tensorflow==1.14.0) (0.33.6)\n",
            "Requirement already satisfied: wrapt>=1.11.1 in /usr/local/lib/python3.6/dist-packages (from tensorflow==1.14.0) (1.11.2)\n",
            "Requirement already satisfied: termcolor>=1.1.0 in /usr/local/lib/python3.6/dist-packages (from tensorflow==1.14.0) (1.1.0)\n",
            "Requirement already satisfied: google-pasta>=0.1.6 in /usr/local/lib/python3.6/dist-packages (from tensorflow==1.14.0) (0.1.7)\n",
            "Requirement already satisfied: absl-py>=0.7.0 in /usr/local/lib/python3.6/dist-packages (from tensorflow==1.14.0) (0.8.1)\n",
            "Requirement already satisfied: keras-applications>=1.0.6 in /usr/local/lib/python3.6/dist-packages (from tensorflow==1.14.0) (1.0.8)\n",
            "Collecting tensorboard<1.15.0,>=1.14.0 (from tensorflow==1.14.0)\n",
            "\u001b[?25l  Downloading https://files.pythonhosted.org/packages/91/2d/2ed263449a078cd9c8a9ba50ebd50123adf1f8cfbea1492f9084169b89d9/tensorboard-1.14.0-py3-none-any.whl (3.1MB)\n",
            "\u001b[K     |████████████████████████████████| 3.2MB 26.9MB/s \n",
            "\u001b[?25hRequirement already satisfied: keras-preprocessing>=1.0.5 in /usr/local/lib/python3.6/dist-packages (from tensorflow==1.14.0) (1.1.0)\n",
            "Collecting tensorflow-estimator<1.15.0rc0,>=1.14.0rc0 (from tensorflow==1.14.0)\n",
            "\u001b[?25l  Downloading https://files.pythonhosted.org/packages/3c/d5/21860a5b11caf0678fbc8319341b0ae21a07156911132e0e71bffed0510d/tensorflow_estimator-1.14.0-py2.py3-none-any.whl (488kB)\n",
            "\u001b[K     |████████████████████████████████| 491kB 40.7MB/s \n",
            "\u001b[?25hRequirement already satisfied: astor>=0.6.0 in /usr/local/lib/python3.6/dist-packages (from tensorflow==1.14.0) (0.8.0)\n",
            "Requirement already satisfied: numpy<2.0,>=1.14.5 in /usr/local/lib/python3.6/dist-packages (from tensorflow==1.14.0) (1.15.0)\n",
            "Requirement already satisfied: gast>=0.2.0 in /usr/local/lib/python3.6/dist-packages (from tensorflow==1.14.0) (0.2.2)\n",
            "Requirement already satisfied: six>=1.10.0 in /usr/local/lib/python3.6/dist-packages (from tensorflow==1.14.0) (1.12.0)\n",
            "Requirement already satisfied: protobuf>=3.6.1 in /usr/local/lib/python3.6/dist-packages (from tensorflow==1.14.0) (3.10.0)\n",
            "Requirement already satisfied: grpcio>=1.8.6 in /usr/local/lib/python3.6/dist-packages (from tensorflow==1.14.0) (1.15.0)\n",
            "Requirement already satisfied: h5py in /usr/local/lib/python3.6/dist-packages (from keras-applications>=1.0.6->tensorflow==1.14.0) (2.8.0)\n",
            "Requirement already satisfied: setuptools>=41.0.0 in /usr/local/lib/python3.6/dist-packages (from tensorboard<1.15.0,>=1.14.0->tensorflow==1.14.0) (41.4.0)\n",
            "Requirement already satisfied: werkzeug>=0.11.15 in /usr/local/lib/python3.6/dist-packages (from tensorboard<1.15.0,>=1.14.0->tensorflow==1.14.0) (0.16.0)\n",
            "Requirement already satisfied: markdown>=2.6.8 in /usr/local/lib/python3.6/dist-packages (from tensorboard<1.15.0,>=1.14.0->tensorflow==1.14.0) (3.1.1)\n",
            "Installing collected packages: tensorboard, tensorflow-estimator, tensorflow\n",
            "  Found existing installation: tensorboard 1.15.0\n",
            "    Uninstalling tensorboard-1.15.0:\n",
            "      Successfully uninstalled tensorboard-1.15.0\n",
            "  Found existing installation: tensorflow-estimator 1.15.1\n",
            "    Uninstalling tensorflow-estimator-1.15.1:\n",
            "      Successfully uninstalled tensorflow-estimator-1.15.1\n",
            "  Found existing installation: tensorflow 1.15.0\n",
            "    Uninstalling tensorflow-1.15.0:\n",
            "      Successfully uninstalled tensorflow-1.15.0\n",
            "Successfully installed tensorboard-1.14.0 tensorflow-1.14.0 tensorflow-estimator-1.14.0\n",
            "Requirement already satisfied: tensorflow_hub in /usr/local/lib/python3.6/dist-packages (0.6.0)\n",
            "Requirement already satisfied: protobuf>=3.4.0 in /usr/local/lib/python3.6/dist-packages (from tensorflow_hub) (3.10.0)\n",
            "Requirement already satisfied: six>=1.10.0 in /usr/local/lib/python3.6/dist-packages (from tensorflow_hub) (1.12.0)\n",
            "Requirement already satisfied: numpy>=1.12.0 in /usr/local/lib/python3.6/dist-packages (from tensorflow_hub) (1.15.0)\n",
            "Requirement already satisfied: setuptools in /usr/local/lib/python3.6/dist-packages (from protobuf>=3.4.0->tensorflow_hub) (41.4.0)\n"
          ],
          "name": "stdout"
        }
      ]
    },
    {
      "cell_type": "code",
      "metadata": {
        "id": "kWNA0W0qkdVi",
        "colab_type": "code",
        "outputId": "a1bb0cc5-1ccc-455f-9059-8a6a73392ca5",
        "colab": {
          "base_uri": "https://localhost:8080/",
          "height": 87
        }
      },
      "source": [
        "%%time\n",
        "import tensorflow as tf\n",
        "import tensorflow_hub as hub\n",
        "import numpy as np\n",
        "import tf_sentencepiece\n",
        "# Graph set up.\n",
        "g = tf.Graph()\n",
        "with g.as_default():\n",
        "  text_input = tf.placeholder(dtype=tf.string, shape=[None])\n",
        "  embed = hub.Module(\"https://tfhub.dev/google/universal-sentence-encoder-multilingual-large/1\")\n",
        "  embedded_text = embed(text_input)\n",
        "  init_op = tf.group([tf.global_variables_initializer(), tf.tables_initializer()])\n",
        "g.finalize()"
      ],
      "execution_count": 0,
      "outputs": [
        {
          "output_type": "stream",
          "text": [
            "INFO:tensorflow:Saver not created because there are no variables in the graph to restore\n"
          ],
          "name": "stdout"
        },
        {
          "output_type": "stream",
          "text": [
            "INFO:tensorflow:Saver not created because there are no variables in the graph to restore\n"
          ],
          "name": "stderr"
        },
        {
          "output_type": "stream",
          "text": [
            "CPU times: user 19.6 s, sys: 397 ms, total: 20 s\n",
            "Wall time: 20.1 s\n"
          ],
          "name": "stdout"
        }
      ]
    },
    {
      "cell_type": "markdown",
      "metadata": {
        "id": "pXyw4sIc2NuS",
        "colab_type": "text"
      },
      "source": [
        "## Preprocess data"
      ]
    },
    {
      "cell_type": "code",
      "metadata": {
        "id": "MhjEoq_A8r9Z",
        "colab_type": "code",
        "outputId": "b20aef99-ea75-422b-88a0-b3300129eb51",
        "colab": {
          "base_uri": "https://localhost:8080/",
          "height": 1000
        }
      },
      "source": [
        "%%time\n",
        "\n",
        "import pandas as pd\n",
        "\n",
        "def load_data():\n",
        "    df = pd.read_hdf('ideas.h5', key='ideas')\n",
        "    return df\n",
        "\n",
        "df = load_data()\n",
        "\n",
        "col2embed=[\n",
        "    'Название',\n",
        "    'Описание ситуации',\n",
        "    'Проблема',\n",
        "    'Решение',\n",
        "    'Ожидаемый эффект'\n",
        "]\n",
        "new_columns = [na+'_emb' for na in col2embed]\n",
        "restricted_columns = set(new_columns)\n",
        "restricted_columns = restricted_columns.difference(set(['Описание ситуации_emb','Решение_emb']))\n",
        "\n",
        "\n",
        "\n",
        "\n",
        "def calculate(df: pd.DataFrame):\n",
        "  # Initialize session.\n",
        "  session = tf.Session(graph=g)\n",
        "  session.run(init_op)\n",
        "  global col2embed, new_columns\n",
        "  \n",
        "  def calc_embedding(row):\n",
        "    l=[str(row[na]) for na in col2embed]\n",
        "    result = session.run(embedded_text, feed_dict={text_input: l})\n",
        "    return list(result)\n",
        "\n",
        "  df[new_columns] = df.apply(lambda row: calc_embedding(row), axis=1, result_type='expand').apply(pd.Series)\n",
        "  return df \n",
        "\n",
        "print(\"Calculate embeddings\")\n",
        "emb_df = calculate(df)\n",
        "\n",
        "\n"
      ],
      "execution_count": 0,
      "outputs": [
        {
          "output_type": "stream",
          "text": [
            "Calculate embeddings\n",
            "Create all_emb & short_emb\n"
          ],
          "name": "stdout"
        },
        {
          "output_type": "error",
          "ename": "ValueError",
          "evalue": "ignored",
          "traceback": [
            "\u001b[0;31m---------------------------------------------------------------------------\u001b[0m",
            "\u001b[0;31mValueError\u001b[0m                                Traceback (most recent call last)",
            "\u001b[0;32m<ipython-input-17-325b1cdb927b>\u001b[0m in \u001b[0;36m<module>\u001b[0;34m()\u001b[0m\n\u001b[0;32m----> 1\u001b[0;31m \u001b[0mget_ipython\u001b[0m\u001b[0;34m(\u001b[0m\u001b[0;34m)\u001b[0m\u001b[0;34m.\u001b[0m\u001b[0mrun_cell_magic\u001b[0m\u001b[0;34m(\u001b[0m\u001b[0;34m'time'\u001b[0m\u001b[0;34m,\u001b[0m \u001b[0;34m''\u001b[0m\u001b[0;34m,\u001b[0m \u001b[0;34m'\\nimport pandas as pd\\n\\ndef load_data():\\n    df = pd.read_hdf(\\'ideas.h5\\', key=\\'ideas\\')\\n    return df\\n\\ndf = load_data()\\n\\ncol2embed=[\\n    \\'Название\\',\\n    \\'Описание ситуации\\',\\n    \\'Проблема\\',\\n    \\'Решение\\',\\n    \\'Ожидаемый эффект\\'\\n]\\nnew_columns = [na+\\'_emb\\' for na in col2embed]\\nrestricted_columns = set(new_columns)\\nrestricted_columns = restricted_columns.difference(set([\\'Описание ситуации_emb\\',\\'Решение_emb\\']))\\n\\ndef concat(row):\\n  global new_columns\\n  all_emb=[]\\n  short_emb = []\\n  for n in new_columns:\\n    val = row[n]\\n    all_emb += val\\n    if n in restricted_columns:\\n      short_emb += val \\n  return [all_emb, short_emb]\\n    \\n\\n\\ndef calculate(df: pd.DataFrame):\\n  # Initialize session.\\n  session = tf.Session(graph=g)\\n  session.run(init_op)\\n  global col2embed, new_columns\\n  \\n  def calc_embedding(row):\\n    l=[str(row[na]) for na in col2embed]\\n    result = session.run(embedded_text, feed_dict={text_input: l})\\n    return list(result)\\n\\n  df[new_columns] = df.apply(lambda row: calc_embedding(row), axis=1, result_type=\\'expand\\').apply(pd.Series)\\n  return df \\n\\nprint(\"Calculate embeddings\")\\nemb_df = calculate(df)\\n\\nprint(\"Create all_emb & short_emb\")\\nemb_df[[\\'all_emb\\',\\'short_emb\\']] = emb_df.apply(lambda row: concat(row), axis=1, result_type=\\'e...\n\u001b[0m",
            "\u001b[0;32m/usr/local/lib/python3.6/dist-packages/IPython/core/interactiveshell.py\u001b[0m in \u001b[0;36mrun_cell_magic\u001b[0;34m(self, magic_name, line, cell)\u001b[0m\n\u001b[1;32m   2115\u001b[0m             \u001b[0mmagic_arg_s\u001b[0m \u001b[0;34m=\u001b[0m \u001b[0mself\u001b[0m\u001b[0;34m.\u001b[0m\u001b[0mvar_expand\u001b[0m\u001b[0;34m(\u001b[0m\u001b[0mline\u001b[0m\u001b[0;34m,\u001b[0m \u001b[0mstack_depth\u001b[0m\u001b[0;34m)\u001b[0m\u001b[0;34m\u001b[0m\u001b[0;34m\u001b[0m\u001b[0m\n\u001b[1;32m   2116\u001b[0m             \u001b[0;32mwith\u001b[0m \u001b[0mself\u001b[0m\u001b[0;34m.\u001b[0m\u001b[0mbuiltin_trap\u001b[0m\u001b[0;34m:\u001b[0m\u001b[0;34m\u001b[0m\u001b[0;34m\u001b[0m\u001b[0m\n\u001b[0;32m-> 2117\u001b[0;31m                 \u001b[0mresult\u001b[0m \u001b[0;34m=\u001b[0m \u001b[0mfn\u001b[0m\u001b[0;34m(\u001b[0m\u001b[0mmagic_arg_s\u001b[0m\u001b[0;34m,\u001b[0m \u001b[0mcell\u001b[0m\u001b[0;34m)\u001b[0m\u001b[0;34m\u001b[0m\u001b[0;34m\u001b[0m\u001b[0m\n\u001b[0m\u001b[1;32m   2118\u001b[0m             \u001b[0;32mreturn\u001b[0m \u001b[0mresult\u001b[0m\u001b[0;34m\u001b[0m\u001b[0;34m\u001b[0m\u001b[0m\n\u001b[1;32m   2119\u001b[0m \u001b[0;34m\u001b[0m\u001b[0m\n",
            "\u001b[0;32m</usr/local/lib/python3.6/dist-packages/decorator.py:decorator-gen-60>\u001b[0m in \u001b[0;36mtime\u001b[0;34m(self, line, cell, local_ns)\u001b[0m\n",
            "\u001b[0;32m/usr/local/lib/python3.6/dist-packages/IPython/core/magic.py\u001b[0m in \u001b[0;36m<lambda>\u001b[0;34m(f, *a, **k)\u001b[0m\n\u001b[1;32m    186\u001b[0m     \u001b[0;31m# but it's overkill for just that one bit of state.\u001b[0m\u001b[0;34m\u001b[0m\u001b[0;34m\u001b[0m\u001b[0;34m\u001b[0m\u001b[0m\n\u001b[1;32m    187\u001b[0m     \u001b[0;32mdef\u001b[0m \u001b[0mmagic_deco\u001b[0m\u001b[0;34m(\u001b[0m\u001b[0marg\u001b[0m\u001b[0;34m)\u001b[0m\u001b[0;34m:\u001b[0m\u001b[0;34m\u001b[0m\u001b[0;34m\u001b[0m\u001b[0m\n\u001b[0;32m--> 188\u001b[0;31m         \u001b[0mcall\u001b[0m \u001b[0;34m=\u001b[0m \u001b[0;32mlambda\u001b[0m \u001b[0mf\u001b[0m\u001b[0;34m,\u001b[0m \u001b[0;34m*\u001b[0m\u001b[0ma\u001b[0m\u001b[0;34m,\u001b[0m \u001b[0;34m**\u001b[0m\u001b[0mk\u001b[0m\u001b[0;34m:\u001b[0m \u001b[0mf\u001b[0m\u001b[0;34m(\u001b[0m\u001b[0;34m*\u001b[0m\u001b[0ma\u001b[0m\u001b[0;34m,\u001b[0m \u001b[0;34m**\u001b[0m\u001b[0mk\u001b[0m\u001b[0;34m)\u001b[0m\u001b[0;34m\u001b[0m\u001b[0;34m\u001b[0m\u001b[0m\n\u001b[0m\u001b[1;32m    189\u001b[0m \u001b[0;34m\u001b[0m\u001b[0m\n\u001b[1;32m    190\u001b[0m         \u001b[0;32mif\u001b[0m \u001b[0mcallable\u001b[0m\u001b[0;34m(\u001b[0m\u001b[0marg\u001b[0m\u001b[0;34m)\u001b[0m\u001b[0;34m:\u001b[0m\u001b[0;34m\u001b[0m\u001b[0;34m\u001b[0m\u001b[0m\n",
            "\u001b[0;32m/usr/local/lib/python3.6/dist-packages/IPython/core/magics/execution.py\u001b[0m in \u001b[0;36mtime\u001b[0;34m(self, line, cell, local_ns)\u001b[0m\n\u001b[1;32m   1191\u001b[0m         \u001b[0;32melse\u001b[0m\u001b[0;34m:\u001b[0m\u001b[0;34m\u001b[0m\u001b[0;34m\u001b[0m\u001b[0m\n\u001b[1;32m   1192\u001b[0m             \u001b[0mst\u001b[0m \u001b[0;34m=\u001b[0m \u001b[0mclock2\u001b[0m\u001b[0;34m(\u001b[0m\u001b[0;34m)\u001b[0m\u001b[0;34m\u001b[0m\u001b[0;34m\u001b[0m\u001b[0m\n\u001b[0;32m-> 1193\u001b[0;31m             \u001b[0mexec\u001b[0m\u001b[0;34m(\u001b[0m\u001b[0mcode\u001b[0m\u001b[0;34m,\u001b[0m \u001b[0mglob\u001b[0m\u001b[0;34m,\u001b[0m \u001b[0mlocal_ns\u001b[0m\u001b[0;34m)\u001b[0m\u001b[0;34m\u001b[0m\u001b[0;34m\u001b[0m\u001b[0m\n\u001b[0m\u001b[1;32m   1194\u001b[0m             \u001b[0mend\u001b[0m \u001b[0;34m=\u001b[0m \u001b[0mclock2\u001b[0m\u001b[0;34m(\u001b[0m\u001b[0;34m)\u001b[0m\u001b[0;34m\u001b[0m\u001b[0;34m\u001b[0m\u001b[0m\n\u001b[1;32m   1195\u001b[0m             \u001b[0mout\u001b[0m \u001b[0;34m=\u001b[0m \u001b[0;32mNone\u001b[0m\u001b[0;34m\u001b[0m\u001b[0;34m\u001b[0m\u001b[0m\n",
            "\u001b[0;32m<timed exec>\u001b[0m in \u001b[0;36m<module>\u001b[0;34m()\u001b[0m\n",
            "\u001b[0;32m/usr/local/lib/python3.6/dist-packages/pandas/core/frame.py\u001b[0m in \u001b[0;36mapply\u001b[0;34m(self, func, axis, broadcast, raw, reduce, result_type, args, **kwds)\u001b[0m\n\u001b[1;32m   6485\u001b[0m                          \u001b[0margs\u001b[0m\u001b[0;34m=\u001b[0m\u001b[0margs\u001b[0m\u001b[0;34m,\u001b[0m\u001b[0;34m\u001b[0m\u001b[0;34m\u001b[0m\u001b[0m\n\u001b[1;32m   6486\u001b[0m                          kwds=kwds)\n\u001b[0;32m-> 6487\u001b[0;31m         \u001b[0;32mreturn\u001b[0m \u001b[0mop\u001b[0m\u001b[0;34m.\u001b[0m\u001b[0mget_result\u001b[0m\u001b[0;34m(\u001b[0m\u001b[0;34m)\u001b[0m\u001b[0;34m\u001b[0m\u001b[0;34m\u001b[0m\u001b[0m\n\u001b[0m\u001b[1;32m   6488\u001b[0m \u001b[0;34m\u001b[0m\u001b[0m\n\u001b[1;32m   6489\u001b[0m     \u001b[0;32mdef\u001b[0m \u001b[0mapplymap\u001b[0m\u001b[0;34m(\u001b[0m\u001b[0mself\u001b[0m\u001b[0;34m,\u001b[0m \u001b[0mfunc\u001b[0m\u001b[0;34m)\u001b[0m\u001b[0;34m:\u001b[0m\u001b[0;34m\u001b[0m\u001b[0;34m\u001b[0m\u001b[0m\n",
            "\u001b[0;32m/usr/local/lib/python3.6/dist-packages/pandas/core/apply.py\u001b[0m in \u001b[0;36mget_result\u001b[0;34m(self)\u001b[0m\n\u001b[1;32m    149\u001b[0m             \u001b[0;32mreturn\u001b[0m \u001b[0mself\u001b[0m\u001b[0;34m.\u001b[0m\u001b[0mapply_raw\u001b[0m\u001b[0;34m(\u001b[0m\u001b[0;34m)\u001b[0m\u001b[0;34m\u001b[0m\u001b[0;34m\u001b[0m\u001b[0m\n\u001b[1;32m    150\u001b[0m \u001b[0;34m\u001b[0m\u001b[0m\n\u001b[0;32m--> 151\u001b[0;31m         \u001b[0;32mreturn\u001b[0m \u001b[0mself\u001b[0m\u001b[0;34m.\u001b[0m\u001b[0mapply_standard\u001b[0m\u001b[0;34m(\u001b[0m\u001b[0;34m)\u001b[0m\u001b[0;34m\u001b[0m\u001b[0;34m\u001b[0m\u001b[0m\n\u001b[0m\u001b[1;32m    152\u001b[0m \u001b[0;34m\u001b[0m\u001b[0m\n\u001b[1;32m    153\u001b[0m     \u001b[0;32mdef\u001b[0m \u001b[0mapply_empty_result\u001b[0m\u001b[0;34m(\u001b[0m\u001b[0mself\u001b[0m\u001b[0;34m)\u001b[0m\u001b[0;34m:\u001b[0m\u001b[0;34m\u001b[0m\u001b[0;34m\u001b[0m\u001b[0m\n",
            "\u001b[0;32m/usr/local/lib/python3.6/dist-packages/pandas/core/apply.py\u001b[0m in \u001b[0;36mapply_standard\u001b[0;34m(self)\u001b[0m\n\u001b[1;32m    255\u001b[0m \u001b[0;34m\u001b[0m\u001b[0m\n\u001b[1;32m    256\u001b[0m         \u001b[0;31m# compute the result using the series generator\u001b[0m\u001b[0;34m\u001b[0m\u001b[0;34m\u001b[0m\u001b[0;34m\u001b[0m\u001b[0m\n\u001b[0;32m--> 257\u001b[0;31m         \u001b[0mself\u001b[0m\u001b[0;34m.\u001b[0m\u001b[0mapply_series_generator\u001b[0m\u001b[0;34m(\u001b[0m\u001b[0;34m)\u001b[0m\u001b[0;34m\u001b[0m\u001b[0;34m\u001b[0m\u001b[0m\n\u001b[0m\u001b[1;32m    258\u001b[0m \u001b[0;34m\u001b[0m\u001b[0m\n\u001b[1;32m    259\u001b[0m         \u001b[0;31m# wrap results\u001b[0m\u001b[0;34m\u001b[0m\u001b[0;34m\u001b[0m\u001b[0;34m\u001b[0m\u001b[0m\n",
            "\u001b[0;32m/usr/local/lib/python3.6/dist-packages/pandas/core/apply.py\u001b[0m in \u001b[0;36mapply_series_generator\u001b[0;34m(self)\u001b[0m\n\u001b[1;32m    284\u001b[0m             \u001b[0;32mtry\u001b[0m\u001b[0;34m:\u001b[0m\u001b[0;34m\u001b[0m\u001b[0;34m\u001b[0m\u001b[0m\n\u001b[1;32m    285\u001b[0m                 \u001b[0;32mfor\u001b[0m \u001b[0mi\u001b[0m\u001b[0;34m,\u001b[0m \u001b[0mv\u001b[0m \u001b[0;32min\u001b[0m \u001b[0menumerate\u001b[0m\u001b[0;34m(\u001b[0m\u001b[0mseries_gen\u001b[0m\u001b[0;34m)\u001b[0m\u001b[0;34m:\u001b[0m\u001b[0;34m\u001b[0m\u001b[0;34m\u001b[0m\u001b[0m\n\u001b[0;32m--> 286\u001b[0;31m                     \u001b[0mresults\u001b[0m\u001b[0;34m[\u001b[0m\u001b[0mi\u001b[0m\u001b[0;34m]\u001b[0m \u001b[0;34m=\u001b[0m \u001b[0mself\u001b[0m\u001b[0;34m.\u001b[0m\u001b[0mf\u001b[0m\u001b[0;34m(\u001b[0m\u001b[0mv\u001b[0m\u001b[0;34m)\u001b[0m\u001b[0;34m\u001b[0m\u001b[0;34m\u001b[0m\u001b[0m\n\u001b[0m\u001b[1;32m    287\u001b[0m                     \u001b[0mkeys\u001b[0m\u001b[0;34m.\u001b[0m\u001b[0mappend\u001b[0m\u001b[0;34m(\u001b[0m\u001b[0mv\u001b[0m\u001b[0;34m.\u001b[0m\u001b[0mname\u001b[0m\u001b[0;34m)\u001b[0m\u001b[0;34m\u001b[0m\u001b[0;34m\u001b[0m\u001b[0m\n\u001b[1;32m    288\u001b[0m             \u001b[0;32mexcept\u001b[0m \u001b[0mException\u001b[0m \u001b[0;32mas\u001b[0m \u001b[0me\u001b[0m\u001b[0;34m:\u001b[0m\u001b[0;34m\u001b[0m\u001b[0;34m\u001b[0m\u001b[0m\n",
            "\u001b[0;32m<timed exec>\u001b[0m in \u001b[0;36m<lambda>\u001b[0;34m(row)\u001b[0m\n",
            "\u001b[0;32m<timed exec>\u001b[0m in \u001b[0;36mconcat\u001b[0;34m(row)\u001b[0m\n",
            "\u001b[0;31mValueError\u001b[0m: ('operands could not be broadcast together with shapes (0,) (512,) ', 'occurred at index 0')"
          ]
        }
      ]
    },
    {
      "cell_type": "code",
      "metadata": {
        "id": "0nTDuKDEsaAG",
        "colab_type": "code",
        "outputId": "a18a72ff-88ee-4b39-ff34-923be85ff87c",
        "colab": {
          "base_uri": "https://localhost:8080/",
          "height": 159
        }
      },
      "source": [
        "def concat(row):\n",
        "  global new_columns\n",
        "  all_emb=[]\n",
        "  short_emb = []\n",
        "  for n in new_columns:\n",
        "    val = list(row[n])\n",
        "    all_emb += val\n",
        "    if n in restricted_columns:\n",
        "      short_emb += val \n",
        "  return [all_emb, short_emb]\n",
        "    \n",
        "print(\"Create all_emb & short_emb\")\n",
        "emb_df[['all_emb','short_emb']] = emb_df.apply(lambda row: concat(row), axis=1, result_type='expand').apply(pd.Series)\n",
        "\n",
        "\n",
        "print(\"Save embeddings\")\n",
        "emb_df.to_hdf('emb.h5', key='emb')\n"
      ],
      "execution_count": 0,
      "outputs": [
        {
          "output_type": "stream",
          "text": [
            "Create all_emb & short_emb\n",
            "Save embeddings\n"
          ],
          "name": "stdout"
        },
        {
          "output_type": "stream",
          "text": [
            "/usr/local/lib/python3.6/dist-packages/pandas/core/generic.py:2377: PerformanceWarning: \n",
            "your performance may suffer as PyTables will pickle object types that it cannot\n",
            "map directly to c-types [inferred_type->mixed,key->block1_values] [items->['Название', 'Предприятие', 'Автор инициативы', 'Категория', 'Направление/Функция', 'Производство/Подразделение', 'Комплекс/Отдел', 'Установка', 'Описание ситуации', 'Проблема', 'Решение', 'Ожидаемый эффект', 'Название_emb', 'Описание ситуации_emb', 'Проблема_emb', 'Решение_emb', 'Ожидаемый эффект_emb', 'all_emb', 'short_emb']]\n",
            "\n",
            "  return pytables.to_hdf(path_or_buf, key, self, **kwargs)\n"
          ],
          "name": "stderr"
        }
      ]
    },
    {
      "cell_type": "code",
      "metadata": {
        "id": "gL9gVyKl9Wq6",
        "colab_type": "code",
        "outputId": "86d16c18-2284-4cf4-bcc6-bf8d2dbd192d",
        "colab": {
          "base_uri": "https://localhost:8080/",
          "height": 603
        }
      },
      "source": [
        "print(\"Show embeddings\")\n",
        "from IPython import display\n",
        "# display(emb_df.head())\n",
        "emb_df.head()"
      ],
      "execution_count": 0,
      "outputs": [
        {
          "output_type": "stream",
          "text": [
            "Show embeddings\n"
          ],
          "name": "stdout"
        },
        {
          "output_type": "execute_result",
          "data": {
            "text/html": [
              "<div>\n",
              "<style scoped>\n",
              "    .dataframe tbody tr th:only-of-type {\n",
              "        vertical-align: middle;\n",
              "    }\n",
              "\n",
              "    .dataframe tbody tr th {\n",
              "        vertical-align: top;\n",
              "    }\n",
              "\n",
              "    .dataframe thead th {\n",
              "        text-align: right;\n",
              "    }\n",
              "</style>\n",
              "<table border=\"1\" class=\"dataframe\">\n",
              "  <thead>\n",
              "    <tr style=\"text-align: right;\">\n",
              "      <th></th>\n",
              "      <th>Название</th>\n",
              "      <th>Дата создания</th>\n",
              "      <th>Предприятие</th>\n",
              "      <th>Автор инициативы</th>\n",
              "      <th>Категория</th>\n",
              "      <th>Направление/Функция</th>\n",
              "      <th>Производство/Подразделение</th>\n",
              "      <th>Комплекс/Отдел</th>\n",
              "      <th>Установка</th>\n",
              "      <th>Описание ситуации</th>\n",
              "      <th>Проблема</th>\n",
              "      <th>Решение</th>\n",
              "      <th>Ожидаемый эффект</th>\n",
              "      <th>Название_emb</th>\n",
              "      <th>Описание ситуации_emb</th>\n",
              "      <th>Проблема_emb</th>\n",
              "      <th>Решение_emb</th>\n",
              "      <th>Ожидаемый эффект_emb</th>\n",
              "      <th>all_emb</th>\n",
              "      <th>short_emb</th>\n",
              "    </tr>\n",
              "  </thead>\n",
              "  <tbody>\n",
              "    <tr>\n",
              "      <th>0</th>\n",
              "      <td>Монтаж кабеля обогрева подкрановых рельс мосто...</td>\n",
              "      <td>2018-04-03 11:47:19</td>\n",
              "      <td>ОНПЗ</td>\n",
              "      <td>Андрей Максименко</td>\n",
              "      <td>Прочее</td>\n",
              "      <td>Надежность оборудования</td>\n",
              "      <td>Производство первичной переработки нефти</td>\n",
              "      <td>Комплекс по получению битумов и кокса</td>\n",
              "      <td>Установка замедленного коксования 21-10/3М</td>\n",
              "      <td>1. В зонах с продолжительными зимними периодам...</td>\n",
              "      <td>Обледенение рельсов Температурной удлинение рельс</td>\n",
              "      <td>Применить обогрев рельса греющим кабелем плоск...</td>\n",
              "      <td>Повышение безопасности эксплуатации ПС, повыше...</td>\n",
              "      <td>[-0.062170576, -0.0609957, 0.046895217, -0.001...</td>\n",
              "      <td>[0.08872238, -0.07770128, 0.038869042, 0.03657...</td>\n",
              "      <td>[0.03992115, -0.057600852, -8.2133825e-05, -0....</td>\n",
              "      <td>[-0.04697304, -0.08458447, 0.056559913, -0.006...</td>\n",
              "      <td>[0.04018711, -0.09316864, 0.051593237, -0.0244...</td>\n",
              "      <td>[-0.062170576, -0.0609957, 0.046895217, -0.001...</td>\n",
              "      <td>[-0.062170576, -0.0609957, 0.046895217, -0.001...</td>\n",
              "    </tr>\n",
              "    <tr>\n",
              "      <th>1</th>\n",
              "      <td>Изменение схемы отключения насоса Н-3 ПСГ</td>\n",
              "      <td>2018-04-17 07:59:32</td>\n",
              "      <td>ОНПЗ</td>\n",
              "      <td>Олег Барышев</td>\n",
              "      <td>ПБ, ОТ, ООС, ГЗ</td>\n",
              "      <td>Промышленная безопасность</td>\n",
              "      <td>Товарное производство</td>\n",
              "      <td>Товарно-сырьевая база - 1 (ТСБ - 1)</td>\n",
              "      <td>-</td>\n",
              "      <td>На участке ПСГ для налива ПТ в автомобильные ц...</td>\n",
              "      <td>После выполнения работ по замене насосного агр...</td>\n",
              "      <td>Изменить эл. схему управления насосом Н-3 и Н-...</td>\n",
              "      <td>Повышение производственной безопасности, преду...</td>\n",
              "      <td>[-0.0913934, 0.03010722, -0.021338332, -0.0190...</td>\n",
              "      <td>[0.09505776, 0.023044746, 0.057588566, 0.00992...</td>\n",
              "      <td>[0.04484966, -0.0153370425, 0.06273806, -0.001...</td>\n",
              "      <td>[-0.07141615, -0.004467138, 0.030811895, 0.036...</td>\n",
              "      <td>[0.04503489, 0.039481945, -0.0044103293, 0.041...</td>\n",
              "      <td>[-0.0913934, 0.03010722, -0.021338332, -0.0190...</td>\n",
              "      <td>[-0.0913934, 0.03010722, -0.021338332, -0.0190...</td>\n",
              "    </tr>\n",
              "    <tr>\n",
              "      <th>2</th>\n",
              "      <td>Устройство азотной подушки на шаровых резервуа...</td>\n",
              "      <td>2018-04-17 08:38:37</td>\n",
              "      <td>ОНПЗ</td>\n",
              "      <td>Олег Барышев</td>\n",
              "      <td>Прочее</td>\n",
              "      <td>Повышение производственной эффективности</td>\n",
              "      <td>Товарное производство</td>\n",
              "      <td>Товарно-сырьевая база - 1 (ТСБ - 1)</td>\n",
              "      <td>Автоматическая станция смешения бензинов АССБ,...</td>\n",
              "      <td>МТБЭ получаемый на комплексе КТ-1/1 перед отгр...</td>\n",
              "      <td>Шаровые резервуары п.т. 3146 не оборудованы аз...</td>\n",
              "      <td>Оборудовать шаровые резервуары п.т. 3146 систе...</td>\n",
              "      <td>Снижение безвозвратных потерь, улучшение эколо...</td>\n",
              "      <td>[-0.03108045, 0.047116138, -0.016765647, -0.01...</td>\n",
              "      <td>[0.028300527, -0.061903544, 0.028284496, -0.00...</td>\n",
              "      <td>[0.032620523, -0.012224519, -0.011042369, -0.0...</td>\n",
              "      <td>[-0.025792079, 0.045215957, -0.0069836243, -0....</td>\n",
              "      <td>[0.041609526, -0.018161789, -0.0045285616, -0....</td>\n",
              "      <td>[-0.03108045, 0.047116138, -0.016765647, -0.01...</td>\n",
              "      <td>[-0.03108045, 0.047116138, -0.016765647, -0.01...</td>\n",
              "    </tr>\n",
              "    <tr>\n",
              "      <th>3</th>\n",
              "      <td>Л-24-6. Направление гидроочищенного компонента...</td>\n",
              "      <td>2018-04-26 08:52:32</td>\n",
              "      <td>ОНПЗ</td>\n",
              "      <td>Ольга Губина</td>\n",
              "      <td>Прочее</td>\n",
              "      <td>Повышение производственной эффективности</td>\n",
              "      <td>-</td>\n",
              "      <td>-</td>\n",
              "      <td>-</td>\n",
              "      <td>В летний период, ввиду низкой потребности рынк...</td>\n",
              "      <td>1. Необходимость изменения режима работы Л-24-...</td>\n",
              "      <td>Организовать работу обоих потоков Л-24-6 на ва...</td>\n",
              "      <td>Эффект достигается за счет увеличения объема п...</td>\n",
              "      <td>[-0.05698898, -0.015411004, 0.05386731, 0.0075...</td>\n",
              "      <td>[0.009528116, -0.0002822983, -0.04869192, 0.03...</td>\n",
              "      <td>[-0.05343011, -0.034242697, 0.03154913, 0.0182...</td>\n",
              "      <td>[-0.037766412, 0.02097129, 0.015651047, 0.0220...</td>\n",
              "      <td>[-0.060153995, -0.05986381, -0.019658998, 0.02...</td>\n",
              "      <td>[-0.05698898, -0.015411004, 0.05386731, 0.0075...</td>\n",
              "      <td>[-0.05698898, -0.015411004, 0.05386731, 0.0075...</td>\n",
              "    </tr>\n",
              "    <tr>\n",
              "      <th>4</th>\n",
              "      <td>Вовлечения в сырье 43-103 масляных остатков с ...</td>\n",
              "      <td>2018-04-26 09:02:26</td>\n",
              "      <td>ОНПЗ</td>\n",
              "      <td>Ольга Губина</td>\n",
              "      <td>Прочее</td>\n",
              "      <td>Повышение производственной эффективности</td>\n",
              "      <td>Производство глубокой переработки нефти</td>\n",
              "      <td>Комплекс переработки вторичного сырья</td>\n",
              "      <td>Установка каталитического крекинг 43-103</td>\n",
              "      <td>В настоящий момент достаточно часто возникает ...</td>\n",
              "      <td>1. Дефицит сырья для максимальной загрузки обо...</td>\n",
              "      <td>Возможность вовлечения в сырье 43-103 масляных...</td>\n",
              "      <td>Эффект достигается за счет двух возможностей: ...</td>\n",
              "      <td>[0.07892673, 0.015526595, -0.005868924, -0.038...</td>\n",
              "      <td>[0.09375272, -0.012271765, 0.0012588714, 0.046...</td>\n",
              "      <td>[0.0822131, 0.019237269, 0.0349393, 0.04293571...</td>\n",
              "      <td>[0.07599184, 0.02402504, 0.026631013, -0.03191...</td>\n",
              "      <td>[-0.0051371306, -0.0015983838, 0.04057836, 0.0...</td>\n",
              "      <td>[0.07892673, 0.015526595, -0.005868924, -0.038...</td>\n",
              "      <td>[0.07892673, 0.015526595, -0.005868924, -0.038...</td>\n",
              "    </tr>\n",
              "  </tbody>\n",
              "</table>\n",
              "</div>"
            ],
            "text/plain": [
              "                                            Название  ...                                          short_emb\n",
              "0  Монтаж кабеля обогрева подкрановых рельс мосто...  ...  [-0.062170576, -0.0609957, 0.046895217, -0.001...\n",
              "1          Изменение схемы отключения насоса Н-3 ПСГ  ...  [-0.0913934, 0.03010722, -0.021338332, -0.0190...\n",
              "2  Устройство азотной подушки на шаровых резервуа...  ...  [-0.03108045, 0.047116138, -0.016765647, -0.01...\n",
              "3  Л-24-6. Направление гидроочищенного компонента...  ...  [-0.05698898, -0.015411004, 0.05386731, 0.0075...\n",
              "4  Вовлечения в сырье 43-103 масляных остатков с ...  ...  [0.07892673, 0.015526595, -0.005868924, -0.038...\n",
              "\n",
              "[5 rows x 20 columns]"
            ]
          },
          "metadata": {
            "tags": []
          },
          "execution_count": 24
        }
      ]
    },
    {
      "cell_type": "code",
      "metadata": {
        "id": "LEEtRFYAEnKb",
        "colab_type": "code",
        "outputId": "71c738f2-e8e7-4389-82ce-7bcffa2246ea",
        "colab": {
          "base_uri": "https://localhost:8080/",
          "height": 173
        }
      },
      "source": [
        "!pip install sklearn-pandas"
      ],
      "execution_count": 0,
      "outputs": [
        {
          "output_type": "stream",
          "text": [
            "Requirement already satisfied: sklearn-pandas in /usr/local/lib/python3.6/dist-packages (1.8.0)\n",
            "Requirement already satisfied: scipy>=0.14 in /usr/local/lib/python3.6/dist-packages (from sklearn-pandas) (1.3.1)\n",
            "Requirement already satisfied: scikit-learn>=0.15.0 in /usr/local/lib/python3.6/dist-packages (from sklearn-pandas) (0.21.3)\n",
            "Requirement already satisfied: numpy>=1.6.1 in /usr/local/lib/python3.6/dist-packages (from sklearn-pandas) (1.15.0)\n",
            "Requirement already satisfied: pandas>=0.11.0 in /usr/local/lib/python3.6/dist-packages (from sklearn-pandas) (0.24.2)\n",
            "Requirement already satisfied: joblib>=0.11 in /usr/local/lib/python3.6/dist-packages (from scikit-learn>=0.15.0->sklearn-pandas) (0.14.0)\n",
            "Requirement already satisfied: python-dateutil>=2.5.0 in /usr/local/lib/python3.6/dist-packages (from pandas>=0.11.0->sklearn-pandas) (2.5.3)\n",
            "Requirement already satisfied: pytz>=2011k in /usr/local/lib/python3.6/dist-packages (from pandas>=0.11.0->sklearn-pandas) (2018.9)\n",
            "Requirement already satisfied: six>=1.5 in /usr/local/lib/python3.6/dist-packages (from python-dateutil>=2.5.0->pandas>=0.11.0->sklearn-pandas) (1.12.0)\n"
          ],
          "name": "stdout"
        }
      ]
    },
    {
      "cell_type": "code",
      "metadata": {
        "id": "lhVWUgpcKSzU",
        "colab_type": "code",
        "outputId": "91f0e9f4-949a-48bd-8281-253955f87544",
        "colab": {
          "base_uri": "https://localhost:8080/",
          "height": 141
        }
      },
      "source": [
        "# df = pd.DataFrame({'name': [1, 2, 3, 4],\n",
        "#                    'emb':[[1,2],[1,2],[2,3],[2,4]]})\n",
        "\n",
        "# df['emb'].tolist()\n",
        "# emb_df['all_emb'].tolist()\n",
        "\n",
        "# tsne_data = pd.DataFrame([[1,2,3],[2,3,4],[3,4,5],[4,5,6]], columns=['x', 'y', 'z'])\n",
        "# df = pd.concat([df, tsne_data], axis=1)\n",
        "# df\n",
        "\n",
        "from sklearn.manifold import TSNE\n",
        "\n",
        "X_embedded = TSNE(n_components=3, init='random', \n",
        "                  random_state=0, perplexity=50).fit_transform(emb_df['all_emb'].tolist())\n",
        "\n",
        "tsne_data = pd.DataFrame(X_embedded, columns=['all_x', 'all_y', 'all_z'])\n",
        "emb_df = pd.concat([emb_df, tsne_data], axis = 1)\n",
        "print(\"Save embeddings\")\n",
        "emb_df.to_hdf('emb.h5', key='emb')\n",
        "\n"
      ],
      "execution_count": 0,
      "outputs": [
        {
          "output_type": "stream",
          "text": [
            "Save embeddings\n"
          ],
          "name": "stdout"
        },
        {
          "output_type": "stream",
          "text": [
            "/usr/local/lib/python3.6/dist-packages/pandas/core/generic.py:2377: PerformanceWarning: \n",
            "your performance may suffer as PyTables will pickle object types that it cannot\n",
            "map directly to c-types [inferred_type->mixed,key->block2_values] [items->['Название', 'Предприятие', 'Автор инициативы', 'Категория', 'Направление/Функция', 'Производство/Подразделение', 'Комплекс/Отдел', 'Установка', 'Описание ситуации', 'Проблема', 'Решение', 'Ожидаемый эффект', 'Название_emb', 'Описание ситуации_emb', 'Проблема_emb', 'Решение_emb', 'Ожидаемый эффект_emb', 'all_emb', 'short_emb']]\n",
            "\n",
            "  return pytables.to_hdf(path_or_buf, key, self, **kwargs)\n"
          ],
          "name": "stderr"
        }
      ]
    },
    {
      "cell_type": "code",
      "metadata": {
        "id": "gBDFlNWTamDg",
        "colab_type": "code",
        "outputId": "0079bba1-6037-4d56-e1a9-476323146a49",
        "colab": {
          "base_uri": "https://localhost:8080/",
          "height": 141
        }
      },
      "source": [
        "from sklearn.manifold import TSNE\n",
        "\n",
        "X_embedded = TSNE(n_components=3, init='random', \n",
        "                  random_state=0, perplexity=100).fit_transform(emb_df['short_emb'].tolist())\n",
        "\n",
        "tsne_data = pd.DataFrame(X_embedded, columns=['short_x', 'short_y', 'short_z'])\n",
        "emb_df = pd.concat([emb_df, tsne_data], axis = 1)\n",
        "print(\"Save embeddings\")\n",
        "emb_df.to_hdf('emb.h5', key='emb')"
      ],
      "execution_count": 0,
      "outputs": [
        {
          "output_type": "stream",
          "text": [
            "Save embeddings\n"
          ],
          "name": "stdout"
        },
        {
          "output_type": "stream",
          "text": [
            "/usr/local/lib/python3.6/dist-packages/pandas/core/generic.py:2377: PerformanceWarning: \n",
            "your performance may suffer as PyTables will pickle object types that it cannot\n",
            "map directly to c-types [inferred_type->mixed,key->block2_values] [items->['Название', 'Предприятие', 'Автор инициативы', 'Категория', 'Направление/Функция', 'Производство/Подразделение', 'Комплекс/Отдел', 'Установка', 'Описание ситуации', 'Проблема', 'Решение', 'Ожидаемый эффект', 'Название_emb', 'Описание ситуации_emb', 'Проблема_emb', 'Решение_emb', 'Ожидаемый эффект_emb', 'all_emb', 'short_emb']]\n",
            "\n",
            "  return pytables.to_hdf(path_or_buf, key, self, **kwargs)\n"
          ],
          "name": "stderr"
        }
      ]
    },
    {
      "cell_type": "code",
      "metadata": {
        "id": "pB_JFe1d0-ED",
        "colab_type": "code",
        "outputId": "fc8fd70a-68e0-4687-af39-c283a6c37ae5",
        "colab": {
          "base_uri": "https://localhost:8080/",
          "height": 586
        }
      },
      "source": [
        "emb_df.head()"
      ],
      "execution_count": 0,
      "outputs": [
        {
          "output_type": "execute_result",
          "data": {
            "text/html": [
              "<div>\n",
              "<style scoped>\n",
              "    .dataframe tbody tr th:only-of-type {\n",
              "        vertical-align: middle;\n",
              "    }\n",
              "\n",
              "    .dataframe tbody tr th {\n",
              "        vertical-align: top;\n",
              "    }\n",
              "\n",
              "    .dataframe thead th {\n",
              "        text-align: right;\n",
              "    }\n",
              "</style>\n",
              "<table border=\"1\" class=\"dataframe\">\n",
              "  <thead>\n",
              "    <tr style=\"text-align: right;\">\n",
              "      <th></th>\n",
              "      <th>Название</th>\n",
              "      <th>Дата создания</th>\n",
              "      <th>Предприятие</th>\n",
              "      <th>Автор инициативы</th>\n",
              "      <th>Категория</th>\n",
              "      <th>Направление/Функция</th>\n",
              "      <th>Производство/Подразделение</th>\n",
              "      <th>Комплекс/Отдел</th>\n",
              "      <th>Установка</th>\n",
              "      <th>Описание ситуации</th>\n",
              "      <th>Проблема</th>\n",
              "      <th>Решение</th>\n",
              "      <th>Ожидаемый эффект</th>\n",
              "      <th>Название_emb</th>\n",
              "      <th>Описание ситуации_emb</th>\n",
              "      <th>Проблема_emb</th>\n",
              "      <th>Решение_emb</th>\n",
              "      <th>Ожидаемый эффект_emb</th>\n",
              "      <th>all_emb</th>\n",
              "      <th>short_emb</th>\n",
              "      <th>all_x</th>\n",
              "      <th>all_y</th>\n",
              "      <th>all_z</th>\n",
              "      <th>short_x</th>\n",
              "      <th>short_y</th>\n",
              "      <th>short_z</th>\n",
              "    </tr>\n",
              "  </thead>\n",
              "  <tbody>\n",
              "    <tr>\n",
              "      <th>0</th>\n",
              "      <td>Монтаж кабеля обогрева подкрановых рельс мосто...</td>\n",
              "      <td>2018-04-03 11:47:19</td>\n",
              "      <td>ОНПЗ</td>\n",
              "      <td>Андрей Максименко</td>\n",
              "      <td>Прочее</td>\n",
              "      <td>Надежность оборудования</td>\n",
              "      <td>Производство первичной переработки нефти</td>\n",
              "      <td>Комплекс по получению битумов и кокса</td>\n",
              "      <td>Установка замедленного коксования 21-10/3М</td>\n",
              "      <td>1. В зонах с продолжительными зимними периодам...</td>\n",
              "      <td>Обледенение рельсов Температурной удлинение рельс</td>\n",
              "      <td>Применить обогрев рельса греющим кабелем плоск...</td>\n",
              "      <td>Повышение безопасности эксплуатации ПС, повыше...</td>\n",
              "      <td>[-0.062170576, -0.0609957, 0.046895217, -0.001...</td>\n",
              "      <td>[0.08872238, -0.07770128, 0.038869042, 0.03657...</td>\n",
              "      <td>[0.03992115, -0.057600852, -8.2133825e-05, -0....</td>\n",
              "      <td>[-0.04697304, -0.08458447, 0.056559913, -0.006...</td>\n",
              "      <td>[0.04018711, -0.09316864, 0.051593237, -0.0244...</td>\n",
              "      <td>[-0.062170576, -0.0609957, 0.046895217, -0.001...</td>\n",
              "      <td>[-0.062170576, -0.0609957, 0.046895217, -0.001...</td>\n",
              "      <td>-15.317044</td>\n",
              "      <td>-41.880203</td>\n",
              "      <td>-0.449970</td>\n",
              "      <td>-8.136565</td>\n",
              "      <td>18.628607</td>\n",
              "      <td>-22.616056</td>\n",
              "    </tr>\n",
              "    <tr>\n",
              "      <th>1</th>\n",
              "      <td>Изменение схемы отключения насоса Н-3 ПСГ</td>\n",
              "      <td>2018-04-17 07:59:32</td>\n",
              "      <td>ОНПЗ</td>\n",
              "      <td>Олег Барышев</td>\n",
              "      <td>ПБ, ОТ, ООС, ГЗ</td>\n",
              "      <td>Промышленная безопасность</td>\n",
              "      <td>Товарное производство</td>\n",
              "      <td>Товарно-сырьевая база - 1 (ТСБ - 1)</td>\n",
              "      <td>-</td>\n",
              "      <td>На участке ПСГ для налива ПТ в автомобильные ц...</td>\n",
              "      <td>После выполнения работ по замене насосного агр...</td>\n",
              "      <td>Изменить эл. схему управления насосом Н-3 и Н-...</td>\n",
              "      <td>Повышение производственной безопасности, преду...</td>\n",
              "      <td>[-0.0913934, 0.03010722, -0.021338332, -0.0190...</td>\n",
              "      <td>[0.09505776, 0.023044746, 0.057588566, 0.00992...</td>\n",
              "      <td>[0.04484966, -0.0153370425, 0.06273806, -0.001...</td>\n",
              "      <td>[-0.07141615, -0.004467138, 0.030811895, 0.036...</td>\n",
              "      <td>[0.04503489, 0.039481945, -0.0044103293, 0.041...</td>\n",
              "      <td>[-0.0913934, 0.03010722, -0.021338332, -0.0190...</td>\n",
              "      <td>[-0.0913934, 0.03010722, -0.021338332, -0.0190...</td>\n",
              "      <td>21.009214</td>\n",
              "      <td>1.525687</td>\n",
              "      <td>-13.756093</td>\n",
              "      <td>11.682576</td>\n",
              "      <td>-9.752286</td>\n",
              "      <td>-32.237122</td>\n",
              "    </tr>\n",
              "    <tr>\n",
              "      <th>2</th>\n",
              "      <td>Устройство азотной подушки на шаровых резервуа...</td>\n",
              "      <td>2018-04-17 08:38:37</td>\n",
              "      <td>ОНПЗ</td>\n",
              "      <td>Олег Барышев</td>\n",
              "      <td>Прочее</td>\n",
              "      <td>Повышение производственной эффективности</td>\n",
              "      <td>Товарное производство</td>\n",
              "      <td>Товарно-сырьевая база - 1 (ТСБ - 1)</td>\n",
              "      <td>Автоматическая станция смешения бензинов АССБ,...</td>\n",
              "      <td>МТБЭ получаемый на комплексе КТ-1/1 перед отгр...</td>\n",
              "      <td>Шаровые резервуары п.т. 3146 не оборудованы аз...</td>\n",
              "      <td>Оборудовать шаровые резервуары п.т. 3146 систе...</td>\n",
              "      <td>Снижение безвозвратных потерь, улучшение эколо...</td>\n",
              "      <td>[-0.03108045, 0.047116138, -0.016765647, -0.01...</td>\n",
              "      <td>[0.028300527, -0.061903544, 0.028284496, -0.00...</td>\n",
              "      <td>[0.032620523, -0.012224519, -0.011042369, -0.0...</td>\n",
              "      <td>[-0.025792079, 0.045215957, -0.0069836243, -0....</td>\n",
              "      <td>[0.041609526, -0.018161789, -0.0045285616, -0....</td>\n",
              "      <td>[-0.03108045, 0.047116138, -0.016765647, -0.01...</td>\n",
              "      <td>[-0.03108045, 0.047116138, -0.016765647, -0.01...</td>\n",
              "      <td>21.206608</td>\n",
              "      <td>-0.929410</td>\n",
              "      <td>13.553578</td>\n",
              "      <td>-7.494962</td>\n",
              "      <td>22.263939</td>\n",
              "      <td>11.601188</td>\n",
              "    </tr>\n",
              "    <tr>\n",
              "      <th>3</th>\n",
              "      <td>Л-24-6. Направление гидроочищенного компонента...</td>\n",
              "      <td>2018-04-26 08:52:32</td>\n",
              "      <td>ОНПЗ</td>\n",
              "      <td>Ольга Губина</td>\n",
              "      <td>Прочее</td>\n",
              "      <td>Повышение производственной эффективности</td>\n",
              "      <td>-</td>\n",
              "      <td>-</td>\n",
              "      <td>-</td>\n",
              "      <td>В летний период, ввиду низкой потребности рынк...</td>\n",
              "      <td>1. Необходимость изменения режима работы Л-24-...</td>\n",
              "      <td>Организовать работу обоих потоков Л-24-6 на ва...</td>\n",
              "      <td>Эффект достигается за счет увеличения объема п...</td>\n",
              "      <td>[-0.05698898, -0.015411004, 0.05386731, 0.0075...</td>\n",
              "      <td>[0.009528116, -0.0002822983, -0.04869192, 0.03...</td>\n",
              "      <td>[-0.05343011, -0.034242697, 0.03154913, 0.0182...</td>\n",
              "      <td>[-0.037766412, 0.02097129, 0.015651047, 0.0220...</td>\n",
              "      <td>[-0.060153995, -0.05986381, -0.019658998, 0.02...</td>\n",
              "      <td>[-0.05698898, -0.015411004, 0.05386731, 0.0075...</td>\n",
              "      <td>[-0.05698898, -0.015411004, 0.05386731, 0.0075...</td>\n",
              "      <td>30.574478</td>\n",
              "      <td>-24.617987</td>\n",
              "      <td>20.526367</td>\n",
              "      <td>1.147984</td>\n",
              "      <td>33.979450</td>\n",
              "      <td>20.862942</td>\n",
              "    </tr>\n",
              "    <tr>\n",
              "      <th>4</th>\n",
              "      <td>Вовлечения в сырье 43-103 масляных остатков с ...</td>\n",
              "      <td>2018-04-26 09:02:26</td>\n",
              "      <td>ОНПЗ</td>\n",
              "      <td>Ольга Губина</td>\n",
              "      <td>Прочее</td>\n",
              "      <td>Повышение производственной эффективности</td>\n",
              "      <td>Производство глубокой переработки нефти</td>\n",
              "      <td>Комплекс переработки вторичного сырья</td>\n",
              "      <td>Установка каталитического крекинг 43-103</td>\n",
              "      <td>В настоящий момент достаточно часто возникает ...</td>\n",
              "      <td>1. Дефицит сырья для максимальной загрузки обо...</td>\n",
              "      <td>Возможность вовлечения в сырье 43-103 масляных...</td>\n",
              "      <td>Эффект достигается за счет двух возможностей: ...</td>\n",
              "      <td>[0.07892673, 0.015526595, -0.005868924, -0.038...</td>\n",
              "      <td>[0.09375272, -0.012271765, 0.0012588714, 0.046...</td>\n",
              "      <td>[0.0822131, 0.019237269, 0.0349393, 0.04293571...</td>\n",
              "      <td>[0.07599184, 0.02402504, 0.026631013, -0.03191...</td>\n",
              "      <td>[-0.0051371306, -0.0015983838, 0.04057836, 0.0...</td>\n",
              "      <td>[0.07892673, 0.015526595, -0.005868924, -0.038...</td>\n",
              "      <td>[0.07892673, 0.015526595, -0.005868924, -0.038...</td>\n",
              "      <td>40.435352</td>\n",
              "      <td>2.809479</td>\n",
              "      <td>7.446868</td>\n",
              "      <td>8.120017</td>\n",
              "      <td>18.401508</td>\n",
              "      <td>22.677299</td>\n",
              "    </tr>\n",
              "  </tbody>\n",
              "</table>\n",
              "</div>"
            ],
            "text/plain": [
              "                                            Название  ...    short_z\n",
              "0  Монтаж кабеля обогрева подкрановых рельс мосто...  ... -22.616056\n",
              "1          Изменение схемы отключения насоса Н-3 ПСГ  ... -32.237122\n",
              "2  Устройство азотной подушки на шаровых резервуа...  ...  11.601188\n",
              "3  Л-24-6. Направление гидроочищенного компонента...  ...  20.862942\n",
              "4  Вовлечения в сырье 43-103 масляных остатков с ...  ...  22.677299\n",
              "\n",
              "[5 rows x 26 columns]"
            ]
          },
          "metadata": {
            "tags": []
          },
          "execution_count": 36
        }
      ]
    },
    {
      "cell_type": "markdown",
      "metadata": {
        "id": "e6ELSb2g85PQ",
        "colab_type": "text"
      },
      "source": [
        "# Visualization"
      ]
    },
    {
      "cell_type": "code",
      "metadata": {
        "id": "qE8SnwLMXUME",
        "colab_type": "code",
        "outputId": "68cf28ef-328b-46e8-ca50-6847e19c5448",
        "colab": {
          "base_uri": "https://localhost:8080/",
          "height": 225
        }
      },
      "source": [
        "%%time\n",
        "\n",
        "# Some texts of different lengths.\n",
        "russian_sentences = ['Повышение уровня промышленной безопасности и исключение риска травмирования рабочего персонала при ремонтных работах.',\n",
        "                     'Увеличение пространства рабочего места, качества работы , уменьшение времени при выполнении работы, уменьшение риска травматизма при выполнении работ',\n",
        "                     'Уменьшение риска получения травмы при выполнении работ, уменьшение времени выполнения операции.',\n",
        "                     'Модернизация ручной тали в узле сбора высокосернистого бензина (УСВНБ)',\n",
        "                     'Модернизация рабочего места при постановки и снятии заглушек на пк1\\1-3']\n",
        "\n",
        "\n",
        "\n",
        "# Initialize session.\n",
        "session = tf.Session(graph=g)\n",
        "session.run(init_op)\n",
        "\n",
        "# Compute embeddings.\n",
        "ru_result = session.run(embedded_text, feed_dict={text_input: russian_sentences})\n",
        "\n",
        "%time\n",
        "# Compute similarity matrix. Higher score indicates greater similarity.\n",
        "similarity_matrix_ru = np.inner(ru_result, ru_result)\n",
        "print(similarity_matrix_ru)\n"
      ],
      "execution_count": 0,
      "outputs": [
        {
          "output_type": "stream",
          "text": [
            "CPU times: user 3 µs, sys: 1 µs, total: 4 µs\n",
            "Wall time: 5.96 µs\n",
            "[[ 1.          0.5129378   0.49835664  0.06688008  0.17615391]\n",
            " [ 0.5129378   0.9999999   0.7497405   0.04539309  0.25847852]\n",
            " [ 0.49835664  0.7497405   0.9999998  -0.02138579  0.08450961]\n",
            " [ 0.06688008  0.04539309 -0.02138579  0.9999999   0.21910405]\n",
            " [ 0.17615391  0.25847852  0.08450961  0.21910405  1.        ]]\n",
            "[[0.97506666 0.5416357  0.36816865]\n",
            " [0.42757022 0.8418217  0.34224993]\n",
            " [0.2927456  0.3468555  0.8845725 ]]\n",
            "CPU times: user 8.87 s, sys: 1.11 s, total: 9.98 s\n",
            "Wall time: 9.24 s\n"
          ],
          "name": "stdout"
        }
      ]
    },
    {
      "cell_type": "code",
      "metadata": {
        "id": "yof2qoKNqdrj",
        "colab_type": "code",
        "outputId": "03d4e72b-7f7c-44b4-9853-b7b9e16ce327",
        "colab": {
          "base_uri": "https://localhost:8080/",
          "height": 381
        }
      },
      "source": [
        "!pip install altair\n",
        "!pip install pandas\n",
        "\n",
        "!pip install sklearn\n",
        "\n",
        "\n",
        "import altair as alt\n",
        "import pandas as pd"
      ],
      "execution_count": 0,
      "outputs": [
        {
          "output_type": "stream",
          "text": [
            "Requirement already satisfied: altair in /usr/local/lib/python3.6/dist-packages (3.2.0)\n",
            "Requirement already satisfied: six in /usr/local/lib/python3.6/dist-packages (from altair) (1.12.0)\n",
            "Requirement already satisfied: pandas in /usr/local/lib/python3.6/dist-packages (from altair) (0.24.2)\n",
            "Requirement already satisfied: toolz in /usr/local/lib/python3.6/dist-packages (from altair) (0.10.0)\n",
            "Requirement already satisfied: jsonschema in /usr/local/lib/python3.6/dist-packages (from altair) (2.6.0)\n",
            "Requirement already satisfied: jinja2 in /usr/local/lib/python3.6/dist-packages (from altair) (2.10.3)\n",
            "Requirement already satisfied: entrypoints in /usr/local/lib/python3.6/dist-packages (from altair) (0.3)\n",
            "Requirement already satisfied: numpy in /usr/local/lib/python3.6/dist-packages (from altair) (1.15.0)\n",
            "Requirement already satisfied: python-dateutil>=2.5.0 in /usr/local/lib/python3.6/dist-packages (from pandas->altair) (2.5.3)\n",
            "Requirement already satisfied: pytz>=2011k in /usr/local/lib/python3.6/dist-packages (from pandas->altair) (2018.9)\n",
            "Requirement already satisfied: MarkupSafe>=0.23 in /usr/local/lib/python3.6/dist-packages (from jinja2->altair) (1.1.1)\n",
            "Requirement already satisfied: pandas in /usr/local/lib/python3.6/dist-packages (0.24.2)\n",
            "Requirement already satisfied: pytz>=2011k in /usr/local/lib/python3.6/dist-packages (from pandas) (2018.9)\n",
            "Requirement already satisfied: python-dateutil>=2.5.0 in /usr/local/lib/python3.6/dist-packages (from pandas) (2.5.3)\n",
            "Requirement already satisfied: numpy>=1.12.0 in /usr/local/lib/python3.6/dist-packages (from pandas) (1.15.0)\n",
            "Requirement already satisfied: six>=1.5 in /usr/local/lib/python3.6/dist-packages (from python-dateutil>=2.5.0->pandas) (1.12.0)\n",
            "Requirement already satisfied: sklearn in /usr/local/lib/python3.6/dist-packages (0.0)\n",
            "Requirement already satisfied: scikit-learn in /usr/local/lib/python3.6/dist-packages (from sklearn) (0.21.3)\n",
            "Requirement already satisfied: joblib>=0.11 in /usr/local/lib/python3.6/dist-packages (from scikit-learn->sklearn) (0.14.0)\n",
            "Requirement already satisfied: scipy>=0.17.0 in /usr/local/lib/python3.6/dist-packages (from scikit-learn->sklearn) (1.3.1)\n",
            "Requirement already satisfied: numpy>=1.11.0 in /usr/local/lib/python3.6/dist-packages (from scikit-learn->sklearn) (1.15.0)\n"
          ],
          "name": "stdout"
        }
      ]
    },
    {
      "cell_type": "code",
      "metadata": {
        "id": "q7YDfzQLop-y",
        "colab_type": "code",
        "outputId": "cc06b228-1fa3-4068-9117-63e724da7e6a",
        "colab": {
          "base_uri": "https://localhost:8080/",
          "height": 281
        }
      },
      "source": [
        "alt.renderers.enable('colab')\n",
        "\n",
        "print(ru_result.shape)\n",
        "print(ru_result[0].shape)\n",
        "data = pd.DataFrame({'y0': list(ru_result[0]),\n",
        "                     'y1': list(ru_result[1]),\n",
        "                     'y2': list(ru_result[2]),\n",
        "                     'y3': list(ru_result[3]),\n",
        "                     'y4': list(ru_result[4]),\n",
        "                     'x': [i for i in range(0, len(ru_result[0]))]})\n",
        "step = 40\n",
        "overlap = 1\n",
        "alt.Chart(data).transform_fold(\n",
        "    ['y0', 'y1', 'y2', 'y3', 'y4'],\n",
        "    as_=['embedding', 'lv']\n",
        "  ).mark_area(\n",
        "    interpolate='monotone',\n",
        "    fillOpacity=0.8,\n",
        "    stroke='lightgray',\n",
        "    strokeWidth=0.2\n",
        "  ).encode(\n",
        "    # x='x',\n",
        "    # y='lv:Q',\n",
        "    # alt.Color('embedding:N'),\n",
        "    alt.X('x:Q', title='',scale=alt.Scale(domain=[0,511])), \n",
        "    alt.Y(\n",
        "        'lv:Q',\n",
        "        title=\"\",\n",
        "        # scale=alt.Scale(rangeStep=10),\n",
        "        scale=alt.Scale(range=[step, -step * overlap]),\n",
        "        axis=None\n",
        "    ),\n",
        "    alt.Fill(\n",
        "        'embedding:N',\n",
        "        legend=None,\n",
        "        scale=alt.Scale(scheme='redyellowblue')\n",
        "    ),\n",
        "    row=alt.Row(\n",
        "         'embedding:N',\n",
        "         title=None,\n",
        "        #  header=alt.Header(labelAngle=0, labelAlign='right', format='%B')\n",
        "     )\n",
        " ).properties(\n",
        "     bounds='flush', title='Embeddings', height=step-10, width=800  \n",
        ").configure_facet(\n",
        "    spacing=0\n",
        ").configure_view(\n",
        "    stroke=None\n",
        ").configure_title(\n",
        "    anchor='end'\n",
        ")"
      ],
      "execution_count": 0,
      "outputs": [
        {
          "output_type": "stream",
          "text": [
            "(5, 512)\n",
            "(512,)\n"
          ],
          "name": "stdout"
        },
        {
          "output_type": "execute_result",
          "data": {
            "text/plain": [
              "alt.Chart(...)"
            ],
            "text/html": [
              "<!DOCTYPE html>\n",
              "<html>\n",
              "<head>\n",
              "  <style>\n",
              "    .vega-actions a {\n",
              "        margin-right: 12px;\n",
              "        color: #757575;\n",
              "        font-weight: normal;\n",
              "        font-size: 13px;\n",
              "    }\n",
              "    .error {\n",
              "        color: red;\n",
              "    }\n",
              "  </style>\n",
              "  <script type=\"text/javascript\" src=\"https://cdn.jsdelivr.net/npm//vega@5\"></script>\n",
              "  <script type=\"text/javascript\" src=\"https://cdn.jsdelivr.net/npm//vega-lite@3.4.0\"></script>\n",
              "  <script type=\"text/javascript\" src=\"https://cdn.jsdelivr.net/npm//vega-embed@4\"></script>\n",
              "</head>\n",
              "<body>\n",
              "  <div id=\"altair-viz\"></div>\n",
              "  <script>\n",
              "    (function(vegaEmbed) {\n",
              "      var spec = {\"config\": {\"view\": {\"width\": 400, \"height\": 300, \"stroke\": null}, \"mark\": {\"tooltip\": null}, \"facet\": {\"spacing\": 0}, \"title\": {\"anchor\": \"end\"}}, \"data\": {\"name\": \"data-0333936c6b92e2479ac6f66a83b1fade\"}, \"mark\": {\"type\": \"area\", \"fillOpacity\": 0.8, \"interpolate\": \"monotone\", \"stroke\": \"lightgray\", \"strokeWidth\": 0.2}, \"bounds\": \"flush\", \"encoding\": {\"fill\": {\"type\": \"nominal\", \"field\": \"embedding\", \"legend\": null, \"scale\": {\"scheme\": \"redyellowblue\"}}, \"row\": {\"type\": \"nominal\", \"field\": \"embedding\", \"title\": null}, \"x\": {\"type\": \"quantitative\", \"field\": \"x\", \"scale\": {\"domain\": [0, 511]}, \"title\": \"\"}, \"y\": {\"type\": \"quantitative\", \"axis\": null, \"field\": \"lv\", \"scale\": {\"range\": [40, -40]}, \"title\": \"\"}}, \"height\": 30, \"title\": \"Embeddings\", \"transform\": [{\"fold\": [\"y0\", \"y1\", \"y2\", \"y3\", \"y4\"], \"as\": [\"embedding\", \"lv\"]}], \"width\": 800, \"$schema\": \"https://vega.github.io/schema/vega-lite/v3.4.0.json\", \"datasets\": {\"data-0333936c6b92e2479ac6f66a83b1fade\": [{\"y0\": 0.08270596712827682, \"y1\": 0.08059186488389969, \"y2\": 0.06710909307003021, \"y3\": -0.04175521805882454, \"y4\": 0.027428431436419487, \"x\": 0}, {\"y0\": 0.001387280412018299, \"y1\": 0.04722995683550835, \"y2\": 0.03199724853038788, \"y3\": -0.06258553266525269, \"y4\": -0.024286992847919464, \"x\": 1}, {\"y0\": -0.023970533162355423, \"y1\": 0.015714891254901886, \"y2\": -0.0009827521862462163, \"y3\": 0.05887826532125473, \"y4\": -0.027058016508817673, \"x\": 2}, {\"y0\": -0.006310895085334778, \"y1\": -0.02471248060464859, \"y2\": -0.022286126390099525, \"y3\": -0.0352872796356678, \"y4\": -0.0203133262693882, \"x\": 3}, {\"y0\": -0.0683690533041954, \"y1\": -0.015440857037901878, \"y2\": -0.06627106666564941, \"y3\": 0.00027514185057953, \"y4\": 0.10780134797096252, \"x\": 4}, {\"y0\": -0.005988038145005703, \"y1\": 0.05212503671646118, \"y2\": 0.04242347925901413, \"y3\": 0.008945857174694538, \"y4\": 0.059278704226017, \"x\": 5}, {\"y0\": -0.022379489615559578, \"y1\": 0.023504383862018585, \"y2\": 0.001569744199514389, \"y3\": 0.0033460769336670637, \"y4\": -0.009395916946232319, \"x\": 6}, {\"y0\": -0.029940148815512657, \"y1\": 0.015678497031331062, \"y2\": 0.020553594455122948, \"y3\": -0.049418721348047256, \"y4\": -0.05807200446724892, \"x\": 7}, {\"y0\": 0.019854595884680748, \"y1\": 0.06740890443325043, \"y2\": 0.08808917552232742, \"y3\": -0.02617763541638851, \"y4\": 0.04310765862464905, \"x\": 8}, {\"y0\": -0.0020127794705331326, \"y1\": 0.03612372651696205, \"y2\": 0.04766562953591347, \"y3\": -0.023526335135102272, \"y4\": -0.07955130934715271, \"x\": 9}, {\"y0\": -0.013992924243211746, \"y1\": -0.02684258110821247, \"y2\": -0.05069276690483093, \"y3\": 0.008051383309066296, \"y4\": -0.015057062730193138, \"x\": 10}, {\"y0\": -0.04693251848220825, \"y1\": 0.021518483757972717, \"y2\": -0.011750680394470692, \"y3\": 0.07391931861639023, \"y4\": -0.01211926992982626, \"x\": 11}, {\"y0\": 0.005472484976053238, \"y1\": -0.04049592465162277, \"y2\": 0.005029804538935423, \"y3\": -0.04355892539024353, \"y4\": 0.009840653277933598, \"x\": 12}, {\"y0\": 0.029403047636151314, \"y1\": 0.0019273676443845034, \"y2\": 0.03019610419869423, \"y3\": 0.046912483870983124, \"y4\": 0.01471935585141182, \"x\": 13}, {\"y0\": 0.06975516676902771, \"y1\": 0.025128494948148727, \"y2\": 0.01514692883938551, \"y3\": -0.004885362461209297, \"y4\": -0.047713056206703186, \"x\": 14}, {\"y0\": 0.014211003668606281, \"y1\": 0.02189847081899643, \"y2\": 0.04340734705328941, \"y3\": -0.07860847562551498, \"y4\": -0.02193102240562439, \"x\": 15}, {\"y0\": 0.011783888563513756, \"y1\": -0.03760770335793495, \"y2\": -0.005414612125605345, \"y3\": -0.01614128053188324, \"y4\": 0.03996427729725838, \"x\": 16}, {\"y0\": 0.02542136423289776, \"y1\": -0.036282870918512344, \"y2\": 0.011399048380553722, \"y3\": -0.019308125600218773, \"y4\": 0.006798524409532547, \"x\": 17}, {\"y0\": 0.029386527836322784, \"y1\": 0.06943326443433762, \"y2\": 0.0741628110408783, \"y3\": -0.06650546938180923, \"y4\": 0.005402947310358286, \"x\": 18}, {\"y0\": -0.01756422035396099, \"y1\": 0.06410273909568787, \"y2\": 0.05535872280597687, \"y3\": 0.045900434255599976, \"y4\": 0.02726590447127819, \"x\": 19}, {\"y0\": -0.007192823104560375, \"y1\": 0.02293253317475319, \"y2\": 0.025500118732452393, \"y3\": 0.026212526485323906, \"y4\": -0.024929014965891838, \"x\": 20}, {\"y0\": -0.06922896951436996, \"y1\": -0.04274095967411995, \"y2\": -0.03137337788939476, \"y3\": -0.04710153117775917, \"y4\": 0.023357540369033813, \"x\": 21}, {\"y0\": -0.031716082245111465, \"y1\": -0.0020418777130544186, \"y2\": 0.03453224524855614, \"y3\": 0.020342279225587845, \"y4\": -0.03880777955055237, \"x\": 22}, {\"y0\": 0.04425365477800369, \"y1\": 0.06935203075408936, \"y2\": 0.0906221941113472, \"y3\": 0.039325106889009476, \"y4\": 0.023255102336406708, \"x\": 23}, {\"y0\": -0.004921651910990477, \"y1\": -0.020897801965475082, \"y2\": 0.0235427413135767, \"y3\": 0.05175649747252464, \"y4\": -0.05719233304262161, \"x\": 24}, {\"y0\": 0.018567048013210297, \"y1\": 0.03545248135924339, \"y2\": 0.027453402057290077, \"y3\": 0.09670393168926239, \"y4\": -0.015707029029726982, \"x\": 25}, {\"y0\": 0.035923585295677185, \"y1\": 0.030619770288467407, \"y2\": 0.029858389869332314, \"y3\": -0.04583481326699257, \"y4\": 0.03496972844004631, \"x\": 26}, {\"y0\": -0.002790626836940646, \"y1\": 0.030623171478509903, \"y2\": -0.006497597321867943, \"y3\": -0.023694029077887535, \"y4\": 0.061649490147829056, \"x\": 27}, {\"y0\": -0.037455152720212936, \"y1\": -0.006040620151907206, \"y2\": -0.01531093567609787, \"y3\": -0.017199361696839333, \"y4\": 0.0020625097677111626, \"x\": 28}, {\"y0\": 0.009240140207111835, \"y1\": 0.016905678436160088, \"y2\": -0.005799646023660898, \"y3\": 0.052557531744241714, \"y4\": 0.074895478785038, \"x\": 29}, {\"y0\": 0.042150355875492096, \"y1\": 0.03475859761238098, \"y2\": 0.07012799382209778, \"y3\": -0.04505695402622223, \"y4\": -0.037378206849098206, \"x\": 30}, {\"y0\": 0.0279841311275959, \"y1\": 0.0074310507625341415, \"y2\": 0.016889173537492752, \"y3\": -0.010130801238119602, \"y4\": -0.04396593198180199, \"x\": 31}, {\"y0\": -0.07889077812433243, \"y1\": -0.02776583470404148, \"y2\": -0.06678172945976257, \"y3\": -0.017889108508825302, \"y4\": -0.07443796098232269, \"x\": 32}, {\"y0\": 0.04537685215473175, \"y1\": -0.06651881337165833, \"y2\": -0.07608508318662643, \"y3\": 0.022334875538945198, \"y4\": 0.04837985709309578, \"x\": 33}, {\"y0\": -0.03956763073801994, \"y1\": -0.05570846423506737, \"y2\": -0.03869348019361496, \"y3\": 0.06348944455385208, \"y4\": -0.0055120945908129215, \"x\": 34}, {\"y0\": 0.017863985151052475, \"y1\": -0.03327733650803566, \"y2\": 0.0017735407454892993, \"y3\": -0.018491046503186226, \"y4\": -0.010599303059279919, \"x\": 35}, {\"y0\": 0.03664781153202057, \"y1\": -0.028450701385736465, \"y2\": -0.015419465489685535, \"y3\": 0.06771114468574524, \"y4\": 0.010973460972309113, \"x\": 36}, {\"y0\": 0.06767413020133972, \"y1\": 0.03717060014605522, \"y2\": 0.037545133382081985, \"y3\": 0.07359610497951508, \"y4\": 0.0646919533610344, \"x\": 37}, {\"y0\": -0.018861908465623856, \"y1\": 0.026639536023139954, \"y2\": 0.022211043164134026, \"y3\": 0.041994962841272354, \"y4\": 0.04803471639752388, \"x\": 38}, {\"y0\": 0.058840762823820114, \"y1\": 0.09155317395925522, \"y2\": 0.11012447625398636, \"y3\": -0.0019414597190916538, \"y4\": 0.025041168555617332, \"x\": 39}, {\"y0\": -0.035925738513469696, \"y1\": 0.019080745056271553, \"y2\": -0.017688194289803505, \"y3\": 0.03115958347916603, \"y4\": 0.03005552664399147, \"x\": 40}, {\"y0\": -0.05428360775113106, \"y1\": 0.05643617734313011, \"y2\": 0.001534133916720748, \"y3\": -0.0429765023291111, \"y4\": -0.050014421343803406, \"x\": 41}, {\"y0\": 0.11437145620584488, \"y1\": 0.07264433056116104, \"y2\": 0.07450323551893234, \"y3\": -0.0439823754131794, \"y4\": -0.01900424249470234, \"x\": 42}, {\"y0\": 0.005601488519459963, \"y1\": -0.002095104893669486, \"y2\": -0.002516385866329074, \"y3\": -0.04422856122255325, \"y4\": -0.027394188567996025, \"x\": 43}, {\"y0\": -0.03028065524995327, \"y1\": 0.001265559229068458, \"y2\": -0.04778845235705376, \"y3\": -0.02068106085062027, \"y4\": 0.0031503408681601286, \"x\": 44}, {\"y0\": -0.02010161429643631, \"y1\": -0.020919643342494965, \"y2\": 0.033939629793167114, \"y3\": 0.027836740016937256, \"y4\": -0.011674580164253712, \"x\": 45}, {\"y0\": 0.07045111060142517, \"y1\": 0.045625217258930206, \"y2\": 0.026879223063588142, \"y3\": -0.00017901840328704566, \"y4\": 0.08811477571725845, \"x\": 46}, {\"y0\": 0.015049295499920845, \"y1\": -0.013687810860574245, \"y2\": -0.03103787638247013, \"y3\": 0.0038478451315313578, \"y4\": 0.016087481752038002, \"x\": 47}, {\"y0\": -0.01840972900390625, \"y1\": -0.024060850962996483, \"y2\": 0.0022665115538984537, \"y3\": -0.03357268124818802, \"y4\": 0.04948236048221588, \"x\": 48}, {\"y0\": 0.0454535037279129, \"y1\": 0.0395553857088089, \"y2\": 0.022523444145917892, \"y3\": 0.08978066593408585, \"y4\": -0.04382548853754997, \"x\": 49}, {\"y0\": 0.060422033071517944, \"y1\": 0.03284044936299324, \"y2\": 0.02857215888798237, \"y3\": 0.0639260858297348, \"y4\": 0.01585175283253193, \"x\": 50}, {\"y0\": 0.04687746614217758, \"y1\": 0.011643349193036556, \"y2\": 0.020879212766885757, \"y3\": -0.02596287988126278, \"y4\": 0.013394723646342754, \"x\": 51}, {\"y0\": 0.012691806070506573, \"y1\": 0.08316578716039658, \"y2\": 0.07040973752737045, \"y3\": -0.003098889021202922, \"y4\": -0.022689364850521088, \"x\": 52}, {\"y0\": -0.010520768351852894, \"y1\": -0.028844065964221954, \"y2\": -0.0042957221157848835, \"y3\": -0.04942750558257103, \"y4\": -0.08234629034996033, \"x\": 53}, {\"y0\": -0.03831327334046364, \"y1\": -0.055338140577077866, \"y2\": -0.07309561967849731, \"y3\": 0.05332201346755028, \"y4\": 0.019078431650996208, \"x\": 54}, {\"y0\": -0.021524228155612946, \"y1\": -0.00964571163058281, \"y2\": -0.028802698478102684, \"y3\": -0.034920819103717804, \"y4\": -0.03919415920972824, \"x\": 55}, {\"y0\": -0.026630127802491188, \"y1\": -0.0037001799792051315, \"y2\": -0.016914671286940575, \"y3\": -0.034253522753715515, \"y4\": -0.015921059995889664, \"x\": 56}, {\"y0\": -0.02949592098593712, \"y1\": 0.04573940485715866, \"y2\": -0.02386048249900341, \"y3\": 0.053558580577373505, \"y4\": 0.05191740393638611, \"x\": 57}, {\"y0\": -0.033658307045698166, \"y1\": -0.06528233736753464, \"y2\": -0.08014717698097229, \"y3\": -0.006768751889467239, \"y4\": 0.07556717842817307, \"x\": 58}, {\"y0\": 0.030931124463677406, \"y1\": 0.019404448568820953, \"y2\": 0.0054924264550209045, \"y3\": 0.03705918416380882, \"y4\": 0.03337325155735016, \"x\": 59}, {\"y0\": -0.02998727560043335, \"y1\": -0.08279858529567719, \"y2\": -0.07258133590221405, \"y3\": -0.09235356003046036, \"y4\": -0.07211223989725113, \"x\": 60}, {\"y0\": -0.04745250195264816, \"y1\": 0.002516269451007247, \"y2\": -0.0031291700433939695, \"y3\": -0.05868222564458847, \"y4\": -0.04785580933094025, \"x\": 61}, {\"y0\": 0.022302810102701187, \"y1\": 0.05729084461927414, \"y2\": 0.018623940646648407, \"y3\": 0.059111934155225754, \"y4\": 0.02004978433251381, \"x\": 62}, {\"y0\": 0.018517320975661278, \"y1\": 0.02795412391424179, \"y2\": 0.05903768166899681, \"y3\": 0.00661746459081769, \"y4\": 9.0111541794613e-05, \"x\": 63}, {\"y0\": -0.023411443457007408, \"y1\": -0.07994624972343445, \"y2\": -0.07054252177476883, \"y3\": -0.05725209414958954, \"y4\": -0.011017726734280586, \"x\": 64}, {\"y0\": -0.025180449709296227, \"y1\": -0.04803834483027458, \"y2\": -0.07142138481140137, \"y3\": -0.004217513371258974, \"y4\": -0.05707402899861336, \"x\": 65}, {\"y0\": -0.019651170819997787, \"y1\": -0.05626495182514191, \"y2\": -0.027339249849319458, \"y3\": 0.03095116838812828, \"y4\": 0.024936389178037643, \"x\": 66}, {\"y0\": 0.027762599289417267, \"y1\": -0.04952486976981163, \"y2\": 0.008261190727353096, \"y3\": -0.010354862548410892, \"y4\": -0.07754159718751907, \"x\": 67}, {\"y0\": -0.04620465636253357, \"y1\": -0.005485016852617264, \"y2\": -0.04567164182662964, \"y3\": -0.07106620818376541, \"y4\": -0.0241729486733675, \"x\": 68}, {\"y0\": -0.052653633058071136, \"y1\": -0.048776209354400635, \"y2\": -0.004747378174215555, \"y3\": 0.029262548312544823, \"y4\": -0.012492123991250992, \"x\": 69}, {\"y0\": 0.018308507278561592, \"y1\": 0.01705770008265972, \"y2\": 0.05604155734181404, \"y3\": -0.045208849012851715, \"y4\": -0.05978655815124512, \"x\": 70}, {\"y0\": 0.02533743903040886, \"y1\": -0.06541094928979874, \"y2\": 0.012683127075433731, \"y3\": 0.008048377931118011, \"y4\": -0.021884186193346977, \"x\": 71}, {\"y0\": 0.02064352110028267, \"y1\": 0.05400359630584717, \"y2\": 0.06474398821592331, \"y3\": 0.020474979653954506, \"y4\": 0.048674315214157104, \"x\": 72}, {\"y0\": 0.022634366527199745, \"y1\": 0.0776749700307846, \"y2\": 0.046389538794755936, \"y3\": 0.02617906779050827, \"y4\": 0.04724450781941414, \"x\": 73}, {\"y0\": 0.04438692331314087, \"y1\": 0.009230687282979488, \"y2\": 0.07322832196950912, \"y3\": -0.05811982974410057, \"y4\": -0.06819026172161102, \"x\": 74}, {\"y0\": 0.06178435683250427, \"y1\": 0.06476248055696487, \"y2\": 0.04393475130200386, \"y3\": 0.0631658136844635, \"y4\": -0.026794947683811188, \"x\": 75}, {\"y0\": -0.010918127372860909, \"y1\": -0.003426735056564212, \"y2\": 0.04121106117963791, \"y3\": -0.030013347044587135, \"y4\": 0.029332203790545464, \"x\": 76}, {\"y0\": -0.026538431644439697, \"y1\": 0.029445018619298935, \"y2\": -0.03874009847640991, \"y3\": -0.04889834672212601, \"y4\": 0.06119528040289879, \"x\": 77}, {\"y0\": 0.0012041059089824557, \"y1\": 0.018059207126498222, \"y2\": -0.005500211846083403, \"y3\": -0.02440710738301277, \"y4\": 0.03802186995744705, \"x\": 78}, {\"y0\": 0.060708072036504745, \"y1\": 0.009638644754886627, \"y2\": 0.005786313209682703, \"y3\": -0.05993138998746872, \"y4\": 0.007669408805668354, \"x\": 79}, {\"y0\": -0.04225039482116699, \"y1\": -0.015041652135550976, \"y2\": 0.014326593838632107, \"y3\": -0.006408277433365583, \"y4\": 0.043683312833309174, \"x\": 80}, {\"y0\": 0.09485415369272232, \"y1\": 0.026384180411696434, \"y2\": 0.06085244566202164, \"y3\": -0.026917122304439545, \"y4\": -0.024856440722942352, \"x\": 81}, {\"y0\": 0.036474235355854034, \"y1\": -0.003972048405557871, \"y2\": 0.0007449651602655649, \"y3\": 0.01500424649566412, \"y4\": 0.024665705859661102, \"x\": 82}, {\"y0\": 0.024571474641561508, \"y1\": 0.014295518398284912, \"y2\": 0.029010353609919548, \"y3\": 0.008564431220293045, \"y4\": 0.045899033546447754, \"x\": 83}, {\"y0\": -0.03663482144474983, \"y1\": -0.03327805548906326, \"y2\": -0.07456735521554947, \"y3\": -0.04988008365035057, \"y4\": -0.05381281301379204, \"x\": 84}, {\"y0\": -0.002141630509868264, \"y1\": 0.02879682555794716, \"y2\": -0.02834218181669712, \"y3\": 0.07000923156738281, \"y4\": -0.001715344493277371, \"x\": 85}, {\"y0\": 0.07485636323690414, \"y1\": 0.006940597668290138, \"y2\": 0.03820725157856941, \"y3\": 0.003666098229587078, \"y4\": -0.018266651779413223, \"x\": 86}, {\"y0\": -0.03509264811873436, \"y1\": -0.011102776974439621, \"y2\": -0.02185247279703617, \"y3\": 0.03334680199623108, \"y4\": 0.062109462916851044, \"x\": 87}, {\"y0\": -0.014899378642439842, \"y1\": 0.05984323099255562, \"y2\": -0.007029306143522263, \"y3\": -0.033569712191820145, \"y4\": 0.0014843289973214269, \"x\": 88}, {\"y0\": -0.030194759368896484, \"y1\": 0.00546629773452878, \"y2\": -0.017794732004404068, \"y3\": -0.05884338915348053, \"y4\": -0.05976207181811333, \"x\": 89}, {\"y0\": 0.0453714095056057, \"y1\": -0.007343448232859373, \"y2\": 0.055277906358242035, \"y3\": -0.05757909640669823, \"y4\": -0.036047011613845825, \"x\": 90}, {\"y0\": 0.041974954307079315, \"y1\": 0.02019670605659485, \"y2\": 0.06631392985582352, \"y3\": 0.007909278385341167, \"y4\": 0.018824268132448196, \"x\": 91}, {\"y0\": -0.019186867401003838, \"y1\": 0.03405194357037544, \"y2\": 0.01394331268966198, \"y3\": 0.07425880432128906, \"y4\": 0.06184741109609604, \"x\": 92}, {\"y0\": -0.02825937047600746, \"y1\": 0.016795996576547623, \"y2\": 0.008367285132408142, \"y3\": -0.018730442970991135, \"y4\": 0.015269404277205467, \"x\": 93}, {\"y0\": 0.07116106152534485, \"y1\": 0.08884745091199875, \"y2\": 0.07306455820798874, \"y3\": -0.015719376504421234, \"y4\": -0.012579914182424545, \"x\": 94}, {\"y0\": -0.061335448175668716, \"y1\": 0.008247679099440575, \"y2\": -0.01641114056110382, \"y3\": -0.1103791892528534, \"y4\": 0.062402766197919846, \"x\": 95}, {\"y0\": -0.022023048251867294, \"y1\": -0.0034127861727029085, \"y2\": -0.022215554490685463, \"y3\": 0.049399808049201965, \"y4\": 0.008644106797873974, \"x\": 96}, {\"y0\": -0.07716160267591476, \"y1\": -0.0349399596452713, \"y2\": -0.04688449203968048, \"y3\": 0.0709499642252922, \"y4\": 0.04393555596470833, \"x\": 97}, {\"y0\": 0.027535993605852127, \"y1\": 0.013030755333602428, \"y2\": -0.0015735637862235308, \"y3\": -0.013792570680379868, \"y4\": -0.04329478740692139, \"x\": 98}, {\"y0\": -0.08442457020282745, \"y1\": -0.04467335715889931, \"y2\": -0.07367143779993057, \"y3\": -0.028874019160866737, \"y4\": -0.025890495628118515, \"x\": 99}, {\"y0\": 0.05143990367650986, \"y1\": -0.010050992481410503, \"y2\": -0.020976968109607697, \"y3\": 0.08766251802444458, \"y4\": -0.03574804589152336, \"x\": 100}, {\"y0\": -0.029004059731960297, \"y1\": -0.023010579869151115, \"y2\": -0.01369962003082037, \"y3\": 0.04450673609972, \"y4\": -0.08775115758180618, \"x\": 101}, {\"y0\": -0.06092378497123718, \"y1\": -0.006301341578364372, \"y2\": -0.019383380189538002, \"y3\": -0.014322500675916672, \"y4\": -0.037250109016895294, \"x\": 102}, {\"y0\": -0.06769310683012009, \"y1\": 0.03607296198606491, \"y2\": 0.057618848979473114, \"y3\": 0.03191651403903961, \"y4\": -0.02314235270023346, \"x\": 103}, {\"y0\": 0.0162513330578804, \"y1\": -0.01155052799731493, \"y2\": -0.04830385744571686, \"y3\": -0.0025685655418783426, \"y4\": -0.01368947234004736, \"x\": 104}, {\"y0\": 0.07172410935163498, \"y1\": 0.03927580267190933, \"y2\": 0.06812290847301483, \"y3\": 0.05554430931806564, \"y4\": 0.06533250212669373, \"x\": 105}, {\"y0\": -0.05418234318494797, \"y1\": -0.09603026509284973, \"y2\": -0.09481771290302277, \"y3\": 0.040120553225278854, \"y4\": 0.01762898452579975, \"x\": 106}, {\"y0\": -0.063063845038414, \"y1\": -0.023770568892359734, \"y2\": 0.006502524018287659, \"y3\": -0.0399753712117672, \"y4\": -0.061325687915086746, \"x\": 107}, {\"y0\": -0.009295514784753323, \"y1\": -0.02316046692430973, \"y2\": -0.03458770737051964, \"y3\": -0.008898145519196987, \"y4\": -0.01384178176522255, \"x\": 108}, {\"y0\": 0.018765149638056755, \"y1\": 0.028811199590563774, \"y2\": 0.02134939283132553, \"y3\": -0.055795662105083466, \"y4\": 0.0010328205535188317, \"x\": 109}, {\"y0\": -0.011652563698589802, \"y1\": -0.008540869690477848, \"y2\": -0.021677440032362938, \"y3\": -0.0111417006701231, \"y4\": -0.017326127737760544, \"x\": 110}, {\"y0\": -0.05905437096953392, \"y1\": -0.0444776713848114, \"y2\": -0.08077346533536911, \"y3\": 0.02779434062540531, \"y4\": 0.0033297245390713215, \"x\": 111}, {\"y0\": -0.012871617451310158, \"y1\": -0.04054408147931099, \"y2\": 0.008151799440383911, \"y3\": 0.036932867020368576, \"y4\": 0.021137189120054245, \"x\": 112}, {\"y0\": 0.10821852087974548, \"y1\": 0.07237159460783005, \"y2\": 0.08047003298997879, \"y3\": 0.03838955983519554, \"y4\": 0.08477380126714706, \"x\": 113}, {\"y0\": -0.012810198590159416, \"y1\": -0.015224652364850044, \"y2\": 0.021632572636008263, \"y3\": -0.06217473745346069, \"y4\": 0.034095052629709244, \"x\": 114}, {\"y0\": 0.04238932579755783, \"y1\": -0.043015845119953156, \"y2\": -0.026201436296105385, \"y3\": -0.029545346274971962, \"y4\": -0.016421619802713394, \"x\": 115}, {\"y0\": -0.02535870671272278, \"y1\": -0.010077426210045815, \"y2\": -0.042209457606077194, \"y3\": 0.06640031188726425, \"y4\": -0.0018428333569318056, \"x\": 116}, {\"y0\": -0.0210250336676836, \"y1\": -0.015517369844019413, \"y2\": -0.003542407415807247, \"y3\": -0.01528374943882227, \"y4\": -0.07367715984582901, \"x\": 117}, {\"y0\": -0.02146812155842781, \"y1\": -0.020370546728372574, \"y2\": 0.03395148739218712, \"y3\": -0.03611510619521141, \"y4\": -0.03194883093237877, \"x\": 118}, {\"y0\": 0.010302732698619366, \"y1\": 0.045088451355695724, \"y2\": 0.057510990649461746, \"y3\": -0.013321075588464737, \"y4\": -0.03508313372731209, \"x\": 119}, {\"y0\": -0.014310549944639206, \"y1\": 0.025833139196038246, \"y2\": 0.03264656290411949, \"y3\": 0.02244728058576584, \"y4\": -0.05183935910463333, \"x\": 120}, {\"y0\": 0.041470374912023544, \"y1\": 0.010889056138694286, \"y2\": 0.023905489593744278, \"y3\": -0.006138847209513187, \"y4\": -0.028427807614207268, \"x\": 121}, {\"y0\": -0.08668793737888336, \"y1\": 0.02814209833741188, \"y2\": -0.02267841063439846, \"y3\": -0.03266791254281998, \"y4\": 0.02453530579805374, \"x\": 122}, {\"y0\": -0.011031500063836575, \"y1\": 0.03964879363775253, \"y2\": 0.03784075006842613, \"y3\": -0.02139078825712204, \"y4\": 0.04728947952389717, \"x\": 123}, {\"y0\": 0.05100032687187195, \"y1\": 0.01727013848721981, \"y2\": 0.004953043535351753, \"y3\": 0.0457814559340477, \"y4\": -0.05975848808884621, \"x\": 124}, {\"y0\": -0.005560861900448799, \"y1\": 0.00901937298476696, \"y2\": 0.03869849815964699, \"y3\": -0.06767740845680237, \"y4\": -0.054778896272182465, \"x\": 125}, {\"y0\": -0.033143073320388794, \"y1\": 0.026852883398532867, \"y2\": 0.03970472514629364, \"y3\": 0.0119021600112319, \"y4\": 0.0563376285135746, \"x\": 126}, {\"y0\": 0.0012457492994144559, \"y1\": 0.008067413233220577, \"y2\": 0.014633744023740292, \"y3\": 0.07485580444335938, \"y4\": -0.03350204601883888, \"x\": 127}, {\"y0\": -0.013252596370875835, \"y1\": -0.009484823793172836, \"y2\": -0.012019425630569458, \"y3\": 0.007052160333842039, \"y4\": 0.04440832883119583, \"x\": 128}, {\"y0\": 0.016290728002786636, \"y1\": 0.052736978977918625, \"y2\": 0.049116041511297226, \"y3\": 0.05835094675421715, \"y4\": 0.044915571808815, \"x\": 129}, {\"y0\": -0.013561769388616085, \"y1\": 0.10090026259422302, \"y2\": 0.0059740678407251835, \"y3\": 0.09889833629131317, \"y4\": 0.07226774841547012, \"x\": 130}, {\"y0\": -0.06306854635477066, \"y1\": -0.05604081228375435, \"y2\": -0.0646367073059082, \"y3\": 0.03608981519937515, \"y4\": -0.0464208722114563, \"x\": 131}, {\"y0\": 0.04036954417824745, \"y1\": 0.0256966445595026, \"y2\": -0.03363106772303581, \"y3\": -0.006825016345828772, \"y4\": 0.05699874460697174, \"x\": 132}, {\"y0\": 0.05109793320298195, \"y1\": 0.052292536944150925, \"y2\": 0.016787689179182053, \"y3\": 0.03427840396761894, \"y4\": -1.8953222024720162e-05, \"x\": 133}, {\"y0\": 0.01194316428154707, \"y1\": -0.007098915055394173, \"y2\": -0.01076022069901228, \"y3\": 0.0447484515607357, \"y4\": 0.10054324567317963, \"x\": 134}, {\"y0\": -0.033401478081941605, \"y1\": 0.021388161927461624, \"y2\": -0.019368518143892288, \"y3\": -0.008306450210511684, \"y4\": 0.01812039315700531, \"x\": 135}, {\"y0\": -0.05791284143924713, \"y1\": 0.011136616580188274, \"y2\": 0.043304167687892914, \"y3\": -0.040617432445287704, \"y4\": -0.0507955364882946, \"x\": 136}, {\"y0\": -0.029972868040204048, \"y1\": -0.05495694279670715, \"y2\": -0.05379581078886986, \"y3\": -0.035527076572179794, \"y4\": 0.03607996553182602, \"x\": 137}, {\"y0\": 0.005771634168922901, \"y1\": 0.0030033038929104805, \"y2\": 0.028975119814276695, \"y3\": -0.010597024112939835, \"y4\": -0.01775393635034561, \"x\": 138}, {\"y0\": -0.015181600116193295, \"y1\": -0.03859461843967438, \"y2\": 0.01689418964087963, \"y3\": -0.035635676234960556, \"y4\": 0.018606217578053474, \"x\": 139}, {\"y0\": -0.06869681924581528, \"y1\": 0.00935256015509367, \"y2\": -0.03253501281142235, \"y3\": 0.01892048306763172, \"y4\": -0.04675770923495293, \"x\": 140}, {\"y0\": 0.09525514394044876, \"y1\": 0.01641109399497509, \"y2\": 0.02566942758858204, \"y3\": 0.010410605929791927, \"y4\": 0.06406465172767639, \"x\": 141}, {\"y0\": 0.07567702978849411, \"y1\": -0.012017113156616688, \"y2\": -0.009667684324085712, \"y3\": 0.0069170743227005005, \"y4\": 0.07103537023067474, \"x\": 142}, {\"y0\": -0.007689251564443111, \"y1\": -0.008379688486456871, \"y2\": -0.020739538595080376, \"y3\": -0.008051020093262196, \"y4\": -0.061472631990909576, \"x\": 143}, {\"y0\": -0.029175331816077232, \"y1\": 0.02105078473687172, \"y2\": 0.04327106848359108, \"y3\": -0.04027409106492996, \"y4\": -0.0479617640376091, \"x\": 144}, {\"y0\": 0.018824251368641853, \"y1\": 0.06340280920267105, \"y2\": 0.03718484938144684, \"y3\": 0.07214365154504776, \"y4\": 0.03788832202553749, \"x\": 145}, {\"y0\": -0.03390323743224144, \"y1\": -0.02914262004196644, \"y2\": -0.020539483055472374, \"y3\": 0.0589829757809639, \"y4\": -0.00799343828111887, \"x\": 146}, {\"y0\": -0.019119981676340103, \"y1\": -0.03956303745508194, \"y2\": -0.03988485410809517, \"y3\": 0.016711344942450523, \"y4\": -0.004670837428420782, \"x\": 147}, {\"y0\": -0.0613730326294899, \"y1\": -0.09514530003070831, \"y2\": -0.10041752457618713, \"y3\": 0.0595647431910038, \"y4\": -0.021723197773098946, \"x\": 148}, {\"y0\": -0.0693575069308281, \"y1\": -0.06996479630470276, \"y2\": -0.05157138779759407, \"y3\": -0.04433496296405792, \"y4\": 0.02069784700870514, \"x\": 149}, {\"y0\": 0.0449112243950367, \"y1\": 0.029483268037438393, \"y2\": -0.004127430263906717, \"y3\": 0.08218687772750854, \"y4\": 0.016166770830750465, \"x\": 150}, {\"y0\": 0.07451439648866653, \"y1\": 0.06381683051586151, \"y2\": 0.08430959284305573, \"y3\": 0.017920464277267456, \"y4\": 0.03333381935954094, \"x\": 151}, {\"y0\": -0.06400132179260254, \"y1\": -0.06691564619541168, \"y2\": -0.08289093524217606, \"y3\": -0.047935277223587036, \"y4\": -0.07329946011304855, \"x\": 152}, {\"y0\": 0.039963822811841965, \"y1\": 0.030114660039544106, \"y2\": -0.004819362889975309, \"y3\": 0.061206310987472534, \"y4\": 0.026001371443271637, \"x\": 153}, {\"y0\": -0.09670025110244751, \"y1\": -0.04742081090807915, \"y2\": -0.055777326226234436, \"y3\": -0.034011054784059525, \"y4\": -0.03844888508319855, \"x\": 154}, {\"y0\": 0.01066828053444624, \"y1\": -0.01195400208234787, \"y2\": -0.023873016238212585, \"y3\": -0.005662540905177593, \"y4\": -0.03249006345868111, \"x\": 155}, {\"y0\": 0.012400898151099682, \"y1\": -0.01794973760843277, \"y2\": -0.07506013661623001, \"y3\": -0.033960312604904175, \"y4\": 0.03567682206630707, \"x\": 156}, {\"y0\": 0.06189851835370064, \"y1\": 0.059951405972242355, \"y2\": 0.09277407824993134, \"y3\": 0.044469937682151794, \"y4\": -0.05254571512341499, \"x\": 157}, {\"y0\": -0.10983799397945404, \"y1\": -0.06795861572027206, \"y2\": -0.08259259909391403, \"y3\": -0.0072801001369953156, \"y4\": -0.02552986703813076, \"x\": 158}, {\"y0\": -0.0333913117647171, \"y1\": -0.06193229556083679, \"y2\": -0.04029032588005066, \"y3\": -0.03507336974143982, \"y4\": -0.028327949345111847, \"x\": 159}, {\"y0\": -0.009970097802579403, \"y1\": -0.02736828103661537, \"y2\": 0.030929623171687126, \"y3\": 0.003380206413567066, \"y4\": -0.04703816771507263, \"x\": 160}, {\"y0\": -0.053064268082380295, \"y1\": -0.04928835853934288, \"y2\": -0.07572506368160248, \"y3\": -0.05030342563986778, \"y4\": 0.0078083607368171215, \"x\": 161}, {\"y0\": -0.04344489052891731, \"y1\": -0.014410005882382393, \"y2\": -0.051568254828453064, \"y3\": 0.044385045766830444, \"y4\": 0.13283194601535797, \"x\": 162}, {\"y0\": 0.03922230005264282, \"y1\": 0.045274510979652405, \"y2\": 0.05534929782152176, \"y3\": -0.02785472758114338, \"y4\": 0.02269078604876995, \"x\": 163}, {\"y0\": -0.008218470960855484, \"y1\": 0.027098607271909714, \"y2\": 0.006012108642607927, \"y3\": 0.006211884785443544, \"y4\": 0.03555082157254219, \"x\": 164}, {\"y0\": -0.040629785507917404, \"y1\": 0.042619407176971436, \"y2\": 0.01516678836196661, \"y3\": 0.02141733467578888, \"y4\": -0.06461339443922043, \"x\": 165}, {\"y0\": 0.07202738523483276, \"y1\": 0.015345104970037937, \"y2\": 0.030448591336607933, \"y3\": -0.03604445978999138, \"y4\": -0.033346958458423615, \"x\": 166}, {\"y0\": -0.09225590527057648, \"y1\": -0.06641238182783127, \"y2\": -0.06303858757019043, \"y3\": 0.07100912183523178, \"y4\": -0.06819982826709747, \"x\": 167}, {\"y0\": -0.042535942047834396, \"y1\": -0.010736112482845783, \"y2\": 0.026970332488417625, \"y3\": 0.027178920805454254, \"y4\": -0.003914661705493927, \"x\": 168}, {\"y0\": 0.009122801944613457, \"y1\": 0.023015405982732773, \"y2\": -0.02979751117527485, \"y3\": 0.05496111139655113, \"y4\": -0.0029415376484394073, \"x\": 169}, {\"y0\": -0.04606971889734268, \"y1\": -0.08015333116054535, \"y2\": -0.03892523795366287, \"y3\": 0.002026953035965562, \"y4\": -0.014871297404170036, \"x\": 170}, {\"y0\": -0.0688151866197586, \"y1\": -0.05529378354549408, \"y2\": -0.046427011489868164, \"y3\": 0.020779414102435112, \"y4\": -0.026949090883135796, \"x\": 171}, {\"y0\": -0.005856780335307121, \"y1\": 0.05100366100668907, \"y2\": -0.026417193934321404, \"y3\": -0.016106214374303818, \"y4\": 0.04571434110403061, \"x\": 172}, {\"y0\": 0.0029349836986511946, \"y1\": -0.03974821791052818, \"y2\": -0.04210783168673515, \"y3\": 0.09250165522098541, \"y4\": -0.07599945366382599, \"x\": 173}, {\"y0\": -0.06298431754112244, \"y1\": -0.036064766347408295, \"y2\": -0.037261538207530975, \"y3\": 0.017090201377868652, \"y4\": 0.004211540799587965, \"x\": 174}, {\"y0\": -0.11316211521625519, \"y1\": -0.0029102060943841934, \"y2\": 0.03356606140732765, \"y3\": 0.06204334646463394, \"y4\": -0.10211072117090225, \"x\": 175}, {\"y0\": 0.007825874723494053, \"y1\": 0.037286605685949326, \"y2\": 0.046702899038791656, \"y3\": 0.028321394696831703, \"y4\": 0.04630255699157715, \"x\": 176}, {\"y0\": -0.0036388589069247246, \"y1\": 0.03278781846165657, \"y2\": 0.01480420958250761, \"y3\": 0.005196764133870602, \"y4\": -0.08021280914545059, \"x\": 177}, {\"y0\": -0.0519958958029747, \"y1\": -0.017276432365179062, \"y2\": 0.033369213342666626, \"y3\": -0.08057207614183426, \"y4\": -0.05507367104291916, \"x\": 178}, {\"y0\": -0.022590072825551033, \"y1\": 0.03882623091340065, \"y2\": 0.0530499629676342, \"y3\": -0.006363638676702976, \"y4\": 0.006873344536870718, \"x\": 179}, {\"y0\": 0.046285100281238556, \"y1\": -0.04839387908577919, \"y2\": -0.029097650200128555, \"y3\": 0.05140272155404091, \"y4\": 0.054309435188770294, \"x\": 180}, {\"y0\": 0.013342062011361122, \"y1\": -0.03528846055269241, \"y2\": -0.024675071239471436, \"y3\": 0.06387591361999512, \"y4\": 0.008432934060692787, \"x\": 181}, {\"y0\": 0.05679799243807793, \"y1\": 0.05062044411897659, \"y2\": 0.08715875446796417, \"y3\": -0.04835886135697365, \"y4\": 0.02696283906698227, \"x\": 182}, {\"y0\": 0.07482995837926865, \"y1\": 0.0552692748606205, \"y2\": 0.09960479289293289, \"y3\": 0.010583773255348206, \"y4\": 0.033340297639369965, \"x\": 183}, {\"y0\": -0.046898745000362396, \"y1\": 0.04216010123491287, \"y2\": -0.012784876860678196, \"y3\": 0.06399118155241013, \"y4\": 0.11404446512460709, \"x\": 184}, {\"y0\": -0.010405811481177807, \"y1\": -0.018723802641034126, \"y2\": -0.017563486471772194, \"y3\": 0.0220167338848114, \"y4\": 0.04032205417752266, \"x\": 185}, {\"y0\": 0.010407245717942715, \"y1\": 0.030701948329806328, \"y2\": 0.02444332465529442, \"y3\": -0.04844125732779503, \"y4\": -0.030474629253149033, \"x\": 186}, {\"y0\": 0.010396919213235378, \"y1\": 0.0210275761783123, \"y2\": 0.05246243253350258, \"y3\": -0.10117651522159576, \"y4\": -0.03135424479842186, \"x\": 187}, {\"y0\": -0.039563387632369995, \"y1\": 0.024920284748077393, \"y2\": -0.01627073809504509, \"y3\": -0.028612719848752022, \"y4\": -0.0629182681441307, \"x\": 188}, {\"y0\": -0.02167312055826187, \"y1\": -0.04589995741844177, \"y2\": -0.055544156581163406, \"y3\": -0.014055627398192883, \"y4\": -0.05552840977907181, \"x\": 189}, {\"y0\": 0.010322810150682926, \"y1\": 0.056935109198093414, \"y2\": 0.05224068462848663, \"y3\": -0.0030634731519967318, \"y4\": 0.07335103303194046, \"x\": 190}, {\"y0\": 0.004716139752417803, \"y1\": 0.023179324343800545, \"y2\": 0.02326413244009018, \"y3\": 0.029446009546518326, \"y4\": -0.061508145183324814, \"x\": 191}, {\"y0\": -0.023373760282993317, \"y1\": -0.04404139518737793, \"y2\": -0.048598095774650574, \"y3\": -0.056233108043670654, \"y4\": 0.009897153824567795, \"x\": 192}, {\"y0\": 0.03455602005124092, \"y1\": 0.05259576439857483, \"y2\": 0.046082839369773865, \"y3\": 0.022220367565751076, \"y4\": 0.005601355340331793, \"x\": 193}, {\"y0\": -0.016723159700632095, \"y1\": -0.021512797102332115, \"y2\": -0.024991901591420174, \"y3\": 0.02046237140893936, \"y4\": -0.03612465038895607, \"x\": 194}, {\"y0\": 0.06541738659143448, \"y1\": 0.07788491994142532, \"y2\": 0.06390969455242157, \"y3\": 0.07643603533506393, \"y4\": 0.05906093493103981, \"x\": 195}, {\"y0\": 0.05807332322001457, \"y1\": 0.07415490597486496, \"y2\": 0.05454529449343681, \"y3\": -0.015017454512417316, \"y4\": -0.010967726819217205, \"x\": 196}, {\"y0\": -0.02883242815732956, \"y1\": 0.06472917646169662, \"y2\": 0.0266056340187788, \"y3\": 0.02163773588836193, \"y4\": 0.03937981650233269, \"x\": 197}, {\"y0\": 0.008334227837622166, \"y1\": -0.06188887730240822, \"y2\": -0.06165391579270363, \"y3\": 0.0032106281723827124, \"y4\": -0.06033805385231972, \"x\": 198}, {\"y0\": -0.027764173224568367, \"y1\": -0.07233642786741257, \"y2\": -0.05613211169838905, \"y3\": -0.09424800425767899, \"y4\": -0.001982741756364703, \"x\": 199}, {\"y0\": -0.025355976074934006, \"y1\": 0.0031535346060991287, \"y2\": 0.012621994130313396, \"y3\": -0.0017006946727633476, \"y4\": 0.05786721408367157, \"x\": 200}, {\"y0\": 0.009014313109219074, \"y1\": -0.022202488034963608, \"y2\": -0.030683092772960663, \"y3\": -0.0362873338162899, \"y4\": 0.06958580017089844, \"x\": 201}, {\"y0\": -0.057080309838056564, \"y1\": -0.01162903755903244, \"y2\": -0.014609226025640965, \"y3\": 0.030965784564614296, \"y4\": -0.047795362770557404, \"x\": 202}, {\"y0\": 0.013958941213786602, \"y1\": 0.02368110604584217, \"y2\": 0.03164707124233246, \"y3\": -0.021030256524682045, \"y4\": -0.034745194017887115, \"x\": 203}, {\"y0\": 0.05580969527363777, \"y1\": 0.023565659299492836, \"y2\": -0.02540433406829834, \"y3\": 0.02873404324054718, \"y4\": 0.01439143531024456, \"x\": 204}, {\"y0\": 0.03228772059082985, \"y1\": 0.059739816933870316, \"y2\": 0.04303889721632004, \"y3\": 0.04023456200957298, \"y4\": 0.019754301756620407, \"x\": 205}, {\"y0\": 0.055869247764348984, \"y1\": 0.060524050146341324, \"y2\": 0.04809607192873955, \"y3\": 0.03276212885975838, \"y4\": -0.007008187007158995, \"x\": 206}, {\"y0\": -0.0298412274569273, \"y1\": -0.06777245551347733, \"y2\": -0.045779310166835785, \"y3\": 0.02072826214134693, \"y4\": -0.094176284968853, \"x\": 207}, {\"y0\": 0.00835333950817585, \"y1\": 0.034030284732580185, \"y2\": 0.006650141440331936, \"y3\": -0.060020677745342255, \"y4\": 0.004381987266242504, \"x\": 208}, {\"y0\": 0.05669241398572922, \"y1\": -0.033508241176605225, \"y2\": -0.0076027242466807365, \"y3\": 0.012264382094144821, \"y4\": -0.06342382729053497, \"x\": 209}, {\"y0\": 0.014888815581798553, \"y1\": 0.02424606867134571, \"y2\": 0.03573525324463844, \"y3\": 0.029149141162633896, \"y4\": 0.019112268462777138, \"x\": 210}, {\"y0\": -0.05988224595785141, \"y1\": -0.04241951182484627, \"y2\": -0.06308944523334503, \"y3\": -0.0717291459441185, \"y4\": -0.07617270946502686, \"x\": 211}, {\"y0\": 0.046599578112363815, \"y1\": 0.03635463863611221, \"y2\": -0.014766906388103962, \"y3\": 0.01660662516951561, \"y4\": -0.053001534193754196, \"x\": 212}, {\"y0\": -0.01214717049151659, \"y1\": -0.051843103021383286, \"y2\": -0.05703579634428024, \"y3\": -0.03658429533243179, \"y4\": -0.03150105103850365, \"x\": 213}, {\"y0\": 0.04789840430021286, \"y1\": -0.0022890125401318073, \"y2\": -0.004714577458798885, \"y3\": 0.033052925020456314, \"y4\": 0.05865096673369408, \"x\": 214}, {\"y0\": 0.010645691305398941, \"y1\": 0.03034493513405323, \"y2\": -0.019413186237215996, \"y3\": 0.10797696560621262, \"y4\": 0.11087572574615479, \"x\": 215}, {\"y0\": 0.042034126818180084, \"y1\": -0.048593051731586456, \"y2\": -0.07205694168806076, \"y3\": 0.03169386461377144, \"y4\": 0.05330314114689827, \"x\": 216}, {\"y0\": 0.01140236109495163, \"y1\": 0.03357365354895592, \"y2\": 0.0672820433974266, \"y3\": 0.018908733502030373, \"y4\": 0.09004800021648407, \"x\": 217}, {\"y0\": -0.05391081050038338, \"y1\": -0.02474742941558361, \"y2\": -0.020419402047991753, \"y3\": -0.06301254034042358, \"y4\": 0.017864573746919632, \"x\": 218}, {\"y0\": -0.023818299174308777, \"y1\": 0.02929210290312767, \"y2\": 0.056298915296792984, \"y3\": -0.01850488781929016, \"y4\": -0.0046323249116539955, \"x\": 219}, {\"y0\": 0.10675492137670517, \"y1\": 0.07328221946954727, \"y2\": 0.02930755913257599, \"y3\": -0.06278316676616669, \"y4\": -0.029584845528006554, \"x\": 220}, {\"y0\": -0.03337617218494415, \"y1\": 0.01325439102947712, \"y2\": -0.004593720193952322, \"y3\": -0.004760383162647486, \"y4\": 0.06603255867958069, \"x\": 221}, {\"y0\": 0.001721000182442367, \"y1\": -0.003243949729949236, \"y2\": -0.025418009608983994, \"y3\": 0.02321821264922619, \"y4\": -0.030750341713428497, \"x\": 222}, {\"y0\": 0.059352975338697433, \"y1\": 0.007259875535964966, \"y2\": 0.013210681267082691, \"y3\": -0.03011157363653183, \"y4\": 0.02441924437880516, \"x\": 223}, {\"y0\": 0.04677192121744156, \"y1\": -0.005027058068662882, \"y2\": -0.023945849388837814, \"y3\": -0.050468798726797104, \"y4\": 0.004258554894477129, \"x\": 224}, {\"y0\": 0.010038873180747032, \"y1\": -0.025642072781920433, \"y2\": -0.04844750463962555, \"y3\": -0.0037280607502907515, \"y4\": 0.09416013956069946, \"x\": 225}, {\"y0\": 0.07432682812213898, \"y1\": 0.06696201860904694, \"y2\": 0.04248572885990143, \"y3\": -0.07786393165588379, \"y4\": 0.006389159709215164, \"x\": 226}, {\"y0\": 0.05363798514008522, \"y1\": 0.025729013606905937, \"y2\": 0.02340616285800934, \"y3\": -0.008169753476977348, \"y4\": 0.02981436438858509, \"x\": 227}, {\"y0\": -0.0076238540932536125, \"y1\": 0.03732190281152725, \"y2\": 0.010622878558933735, \"y3\": 0.011652529239654541, \"y4\": -0.025311676785349846, \"x\": 228}, {\"y0\": -0.060111209750175476, \"y1\": -0.08298229426145554, \"y2\": -0.10322520136833191, \"y3\": 0.030462412163615227, \"y4\": 0.02145993523299694, \"x\": 229}, {\"y0\": 0.08932474255561829, \"y1\": 0.08744048327207565, \"y2\": 0.05986454337835312, \"y3\": 0.02986312098801136, \"y4\": 0.011120152659714222, \"x\": 230}, {\"y0\": 0.010067165829241276, \"y1\": 0.0462661013007164, \"y2\": 0.008911079727113247, \"y3\": -0.014372926205396652, \"y4\": 0.036029767245054245, \"x\": 231}, {\"y0\": 0.0648253858089447, \"y1\": 0.0464676171541214, \"y2\": 0.08145330101251602, \"y3\": 0.06409382820129395, \"y4\": 0.05295334383845329, \"x\": 232}, {\"y0\": 0.06192049756646156, \"y1\": 0.027085021138191223, \"y2\": -0.02935384213924408, \"y3\": 0.050775859504938126, \"y4\": 0.01825927570462227, \"x\": 233}, {\"y0\": -0.04201145097613335, \"y1\": -0.029470959678292274, \"y2\": -0.039667416363954544, \"y3\": 0.004274697974324226, \"y4\": -0.013964703306555748, \"x\": 234}, {\"y0\": 0.011001113802194595, \"y1\": -0.0455741360783577, \"y2\": -0.005937520880252123, \"y3\": -0.06367997825145721, \"y4\": -0.10981807857751846, \"x\": 235}, {\"y0\": -0.040232542902231216, \"y1\": -0.02383498102426529, \"y2\": -0.02384115383028984, \"y3\": 0.018334247171878815, \"y4\": 0.021630827337503433, \"x\": 236}, {\"y0\": -0.08514473587274551, \"y1\": -0.10959100723266602, \"y2\": -0.11419332772493362, \"y3\": 0.0017780745401978493, \"y4\": 0.011502588167786598, \"x\": 237}, {\"y0\": 0.017003973945975304, \"y1\": -0.013491823337972164, \"y2\": -0.06237605959177017, \"y3\": 0.008886395953595638, \"y4\": -0.019431233406066895, \"x\": 238}, {\"y0\": -0.02074059098958969, \"y1\": 0.012888089753687382, \"y2\": 0.022285977378487587, \"y3\": -0.03584230691194534, \"y4\": -0.023092972114682198, \"x\": 239}, {\"y0\": 0.03732515126466751, \"y1\": -0.001820013509131968, \"y2\": 0.036057550460100174, \"y3\": 0.011231162585318089, \"y4\": 0.0130588598549366, \"x\": 240}, {\"y0\": 0.038040585815906525, \"y1\": 0.053455229848623276, \"y2\": 0.09969250857830048, \"y3\": -0.04534832015633583, \"y4\": -0.08139453828334808, \"x\": 241}, {\"y0\": 0.025103816762566566, \"y1\": -0.025195181369781494, \"y2\": -0.05392996966838837, \"y3\": -0.06949418038129807, \"y4\": -0.016880111768841743, \"x\": 242}, {\"y0\": 0.059444304555654526, \"y1\": 0.004263330716639757, \"y2\": -0.01170120295137167, \"y3\": 0.04325907304883003, \"y4\": -0.03558306023478508, \"x\": 243}, {\"y0\": -0.030390888452529907, \"y1\": -0.0010485965758562088, \"y2\": -0.008346034213900566, \"y3\": -0.0489230640232563, \"y4\": 0.01848725788295269, \"x\": 244}, {\"y0\": -0.011059013195335865, \"y1\": -0.030611032620072365, \"y2\": 0.0331491194665432, \"y3\": -0.05574525520205498, \"y4\": -0.048682451248168945, \"x\": 245}, {\"y0\": 0.013944864273071289, \"y1\": -0.016291234642267227, \"y2\": -0.04136503115296364, \"y3\": -0.0037840360309928656, \"y4\": -0.01834326982498169, \"x\": 246}, {\"y0\": -0.01670273393392563, \"y1\": 0.053401846438646317, \"y2\": 0.05995818227529526, \"y3\": 0.02592580020427704, \"y4\": 0.06567618250846863, \"x\": 247}, {\"y0\": 0.008669598959386349, \"y1\": 0.07199525833129883, \"y2\": 0.09109219908714294, \"y3\": 0.03618314489722252, \"y4\": -0.025301536545157433, \"x\": 248}, {\"y0\": 0.07947665452957153, \"y1\": 0.10414239019155502, \"y2\": 0.0833134725689888, \"y3\": -0.07050599157810211, \"y4\": 0.037190619856119156, \"x\": 249}, {\"y0\": 0.045682333409786224, \"y1\": 0.0025818475987762213, \"y2\": -0.01336584147065878, \"y3\": 0.041004478931427, \"y4\": -0.03001435473561287, \"x\": 250}, {\"y0\": 0.004435524344444275, \"y1\": -0.06917788833379745, \"y2\": -0.08855714648962021, \"y3\": -0.10378198325634003, \"y4\": 0.030296050012111664, \"x\": 251}, {\"y0\": 0.03345916047692299, \"y1\": -0.0520324669778347, \"y2\": -0.06944718211889267, \"y3\": -0.0025230683386325836, \"y4\": -0.006134675350040197, \"x\": 252}, {\"y0\": 0.01934845745563507, \"y1\": 0.083563432097435, \"y2\": 0.01392012182623148, \"y3\": 0.037315960973501205, \"y4\": 0.024031834676861763, \"x\": 253}, {\"y0\": -0.01757020875811577, \"y1\": 0.008664749562740326, \"y2\": 0.0007971352315507829, \"y3\": 0.015871219336986542, \"y4\": 0.05502668768167496, \"x\": 254}, {\"y0\": -0.016646573320031166, \"y1\": 0.008960247971117496, \"y2\": 0.01066682580858469, \"y3\": 0.008512764237821102, \"y4\": 0.012984502129256725, \"x\": 255}, {\"y0\": 0.05410262942314148, \"y1\": 0.009553007781505585, \"y2\": 0.029383057728409767, \"y3\": -0.029431786388158798, \"y4\": 0.04194038361310959, \"x\": 256}, {\"y0\": -0.039748311042785645, \"y1\": -0.08797917515039444, \"y2\": -0.03578471392393112, \"y3\": 0.012004600837826729, \"y4\": -0.06093920022249222, \"x\": 257}, {\"y0\": 0.013881213031709194, \"y1\": 0.03325063735246658, \"y2\": 0.00883538369089365, \"y3\": 0.060290753841400146, \"y4\": 0.03191162273287773, \"x\": 258}, {\"y0\": -0.007772637065500021, \"y1\": -0.049319274723529816, \"y2\": -0.034796588122844696, \"y3\": 0.0071314675733447075, \"y4\": -0.017620276659727097, \"x\": 259}, {\"y0\": -0.0006546123186126351, \"y1\": -0.053511131554841995, \"y2\": -0.062868133187294, \"y3\": 0.025137051939964294, \"y4\": -0.04133998975157738, \"x\": 260}, {\"y0\": 0.05044666305184364, \"y1\": 0.00258424854837358, \"y2\": -0.004643938038498163, \"y3\": 0.02674790844321251, \"y4\": 0.03424938768148422, \"x\": 261}, {\"y0\": -0.04626459255814552, \"y1\": -0.0019812537357211113, \"y2\": -0.05369405448436737, \"y3\": 0.06906160712242126, \"y4\": 0.026986368000507355, \"x\": 262}, {\"y0\": -0.00928744301199913, \"y1\": 0.012796633876860142, \"y2\": -0.014409725554287434, \"y3\": -0.011579440906643867, \"y4\": -0.007950898259878159, \"x\": 263}, {\"y0\": 0.028571953997015953, \"y1\": -0.030079076066613197, \"y2\": -0.004804470110684633, \"y3\": -0.02036886103451252, \"y4\": -0.08584298938512802, \"x\": 264}, {\"y0\": 0.06590457260608673, \"y1\": 0.04132328927516937, \"y2\": 0.0535714328289032, \"y3\": 0.07975339144468307, \"y4\": 0.012363702990114689, \"x\": 265}, {\"y0\": -0.01595335826277733, \"y1\": 0.07095611840486526, \"y2\": -0.00834144838154316, \"y3\": -0.03357226029038429, \"y4\": 0.054593343287706375, \"x\": 266}, {\"y0\": -0.020692111924290657, \"y1\": 0.053871478885412216, \"y2\": 0.05255693197250366, \"y3\": -0.10024459660053253, \"y4\": 0.03728179261088371, \"x\": 267}, {\"y0\": 0.05867862328886986, \"y1\": 0.0595419742166996, \"y2\": 0.09039802849292755, \"y3\": 0.039548877626657486, \"y4\": 0.008393581956624985, \"x\": 268}, {\"y0\": 0.04451555013656616, \"y1\": 0.06348271667957306, \"y2\": 0.028356626629829407, \"y3\": 0.03699806332588196, \"y4\": 0.06394723057746887, \"x\": 269}, {\"y0\": 0.04372381046414375, \"y1\": 0.045867275446653366, \"y2\": 0.05902688950300217, \"y3\": 0.015229404903948307, \"y4\": -0.026183297857642174, \"x\": 270}, {\"y0\": -0.08975180983543396, \"y1\": 0.03800026327371597, \"y2\": 0.014285543002188206, \"y3\": 0.012089306488633156, \"y4\": -0.03439256176352501, \"x\": 271}, {\"y0\": 0.019002877175807953, \"y1\": 0.0976351797580719, \"y2\": 0.07781679928302765, \"y3\": -0.055178601294755936, \"y4\": -0.02850256860256195, \"x\": 272}, {\"y0\": -0.04655248671770096, \"y1\": -0.05616527423262596, \"y2\": 0.025497453287243843, \"y3\": 0.04455249756574631, \"y4\": -0.03534824028611183, \"x\": 273}, {\"y0\": 0.008145132102072239, \"y1\": 0.05434582382440567, \"y2\": 0.021537935361266136, \"y3\": -0.005203963723033667, \"y4\": 0.04218379780650139, \"x\": 274}, {\"y0\": -0.01375854853540659, \"y1\": 0.03267504647374153, \"y2\": 0.019213693216443062, \"y3\": -0.002118369797244668, \"y4\": 0.02534440904855728, \"x\": 275}, {\"y0\": 0.03151773288846016, \"y1\": 0.08348559588193893, \"y2\": 0.07437215745449066, \"y3\": 0.07480967789888382, \"y4\": 0.07381360977888107, \"x\": 276}, {\"y0\": -0.01245855912566185, \"y1\": 0.03629988059401512, \"y2\": 0.011633570306003094, \"y3\": 0.04561830684542656, \"y4\": 0.026798510923981667, \"x\": 277}, {\"y0\": 0.011175653897225857, \"y1\": -0.005791866220533848, \"y2\": -0.007568315602838993, \"y3\": -0.032213106751441956, \"y4\": -0.00909353606402874, \"x\": 278}, {\"y0\": -0.02057119831442833, \"y1\": -0.0006833556108176708, \"y2\": 0.01718781515955925, \"y3\": 0.06264884024858475, \"y4\": -0.09448374807834625, \"x\": 279}, {\"y0\": -0.004974589683115482, \"y1\": -0.04289107024669647, \"y2\": -0.029073083773255348, \"y3\": 0.012781181372702122, \"y4\": -0.03479793295264244, \"x\": 280}, {\"y0\": -0.11319107562303543, \"y1\": -0.04469718039035797, \"y2\": -0.05748103931546211, \"y3\": 0.013141353614628315, \"y4\": -0.1150670275092125, \"x\": 281}, {\"y0\": 0.013185255229473114, \"y1\": -0.011673320084810257, \"y2\": 0.029584554955363274, \"y3\": 0.03372003883123398, \"y4\": -0.024862321093678474, \"x\": 282}, {\"y0\": 0.055026497691869736, \"y1\": 0.06682351976633072, \"y2\": 0.04182528331875801, \"y3\": 0.06519480049610138, \"y4\": -0.035125140100717545, \"x\": 283}, {\"y0\": -0.005580463446676731, \"y1\": 0.01968306303024292, \"y2\": 0.02675093151628971, \"y3\": 0.05313246697187424, \"y4\": 0.010529656894505024, \"x\": 284}, {\"y0\": 0.01023147813975811, \"y1\": 0.01497721765190363, \"y2\": -0.014519226737320423, \"y3\": -0.0031842931639403105, \"y4\": -0.04625104367733002, \"x\": 285}, {\"y0\": 0.06359786540269852, \"y1\": 0.0424225814640522, \"y2\": 0.0603727288544178, \"y3\": -0.06278914213180542, \"y4\": -0.033241093158721924, \"x\": 286}, {\"y0\": -0.019712742418050766, \"y1\": 0.014028556644916534, \"y2\": -0.014312163926661015, \"y3\": 2.725006743276026e-05, \"y4\": -0.04455019161105156, \"x\": 287}, {\"y0\": 0.09990953654050827, \"y1\": 0.09837617725133896, \"y2\": 0.07812248170375824, \"y3\": -0.008272923529148102, \"y4\": 0.004250205587595701, \"x\": 288}, {\"y0\": 0.001832313952036202, \"y1\": -0.06597738713026047, \"y2\": -0.04342455044388771, \"y3\": 0.08743391185998917, \"y4\": -0.018576588481664658, \"x\": 289}, {\"y0\": -0.03957236930727959, \"y1\": -0.047026168555021286, \"y2\": -0.057033419609069824, \"y3\": -0.0341765359044075, \"y4\": -0.019993815571069717, \"x\": 290}, {\"y0\": 0.040773775428533554, \"y1\": 0.0519779697060585, \"y2\": -0.010154105722904205, \"y3\": -0.07656154781579971, \"y4\": 0.01819206215441227, \"x\": 291}, {\"y0\": 0.02037707343697548, \"y1\": 0.014903062023222446, \"y2\": 0.015537948347628117, \"y3\": -0.012931888923048973, \"y4\": -0.045868102461099625, \"x\": 292}, {\"y0\": -0.015498952940106392, \"y1\": 0.05722001567482948, \"y2\": 0.005013562738895416, \"y3\": -0.05821376293897629, \"y4\": -0.032453712075948715, \"x\": 293}, {\"y0\": -0.05220850184559822, \"y1\": -0.07928641885519028, \"y2\": -0.07123996317386627, \"y3\": -0.04264087229967117, \"y4\": -0.07971719652414322, \"x\": 294}, {\"y0\": 0.043100129812955856, \"y1\": 0.01106563862413168, \"y2\": -0.012583650648593903, \"y3\": 0.008035487495362759, \"y4\": -0.008316272869706154, \"x\": 295}, {\"y0\": -0.003483232343569398, \"y1\": 0.022888703271746635, \"y2\": 0.025430748239159584, \"y3\": -0.0709955245256424, \"y4\": 0.02302078902721405, \"x\": 296}, {\"y0\": 0.0346948467195034, \"y1\": 0.011679179966449738, \"y2\": -0.015679119154810905, \"y3\": -0.0863051563501358, \"y4\": 0.002451288979500532, \"x\": 297}, {\"y0\": -0.00941526796668768, \"y1\": -0.07701398432254791, \"y2\": -0.09201060980558395, \"y3\": 0.032102346420288086, \"y4\": 0.07330749183893204, \"x\": 298}, {\"y0\": 0.07304619997739792, \"y1\": 0.005712762009352446, \"y2\": 0.00018204448861069977, \"y3\": -0.015483471564948559, \"y4\": -0.027998367324471474, \"x\": 299}, {\"y0\": 0.08770467340946198, \"y1\": 0.03329816833138466, \"y2\": -0.017220012843608856, \"y3\": 0.015524663031101227, \"y4\": 0.04253850132226944, \"x\": 300}, {\"y0\": 0.010969432070851326, \"y1\": 0.06108477711677551, \"y2\": 0.0032651633955538273, \"y3\": 0.01351566519588232, \"y4\": 0.020351743325591087, \"x\": 301}, {\"y0\": 0.007947858422994614, \"y1\": -0.011983886361122131, \"y2\": -0.030800070613622665, \"y3\": -0.01261893194168806, \"y4\": 0.0015829135663807392, \"x\": 302}, {\"y0\": -0.0010737598640844226, \"y1\": -0.05574284866452217, \"y2\": -0.07614502310752869, \"y3\": 0.06209372729063034, \"y4\": 0.048021383583545685, \"x\": 303}, {\"y0\": -0.07680618762969971, \"y1\": 0.005096741020679474, \"y2\": -0.025525761768221855, \"y3\": 0.031210320070385933, \"y4\": 0.08077774941921234, \"x\": 304}, {\"y0\": 0.05116298049688339, \"y1\": 0.052959173917770386, \"y2\": 0.036341775208711624, \"y3\": 0.06895021349191666, \"y4\": -0.05199984461069107, \"x\": 305}, {\"y0\": -0.02534598857164383, \"y1\": 0.0004019117041025311, \"y2\": 0.04877115413546562, \"y3\": -0.007496215403079987, \"y4\": -0.04551341384649277, \"x\": 306}, {\"y0\": -0.06047620624303818, \"y1\": 0.008793102577328682, \"y2\": -0.04057818651199341, \"y3\": 0.015788067132234573, \"y4\": -0.012638484127819538, \"x\": 307}, {\"y0\": 0.007984312251210213, \"y1\": -0.045761868357658386, \"y2\": -0.02454722672700882, \"y3\": -0.0681142657995224, \"y4\": 0.05309518799185753, \"x\": 308}, {\"y0\": 0.012729520909488201, \"y1\": -0.029973052442073822, \"y2\": -0.034156326204538345, \"y3\": -0.0277471411973238, \"y4\": -0.06885828077793121, \"x\": 309}, {\"y0\": -0.11365523934364319, \"y1\": -0.11326375603675842, \"y2\": -0.10872832685709, \"y3\": -0.05318601429462433, \"y4\": -0.12861569225788116, \"x\": 310}, {\"y0\": -0.039869826287031174, \"y1\": 0.03744680434465408, \"y2\": 0.02431103028357029, \"y3\": -0.035033222287893295, \"y4\": 5.3497358749154955e-05, \"x\": 311}, {\"y0\": -0.06951842457056046, \"y1\": -0.0513925738632679, \"y2\": -0.03659382835030556, \"y3\": -0.040069084614515305, \"y4\": -0.06629274785518646, \"x\": 312}, {\"y0\": -0.07287141680717468, \"y1\": -0.10190306603908539, \"y2\": -0.09512251615524292, \"y3\": 0.013163590803742409, \"y4\": 0.03185204043984413, \"x\": 313}, {\"y0\": -0.019370220601558685, \"y1\": 0.0011918316595256329, \"y2\": 0.04845954105257988, \"y3\": -0.0042056795209646225, \"y4\": 0.02203373610973358, \"x\": 314}, {\"y0\": -0.030771490186452866, \"y1\": -0.06005445867776871, \"y2\": -0.006725622806698084, \"y3\": 0.0064883106388151646, \"y4\": -0.024190803989768028, \"x\": 315}, {\"y0\": -0.004492086358368397, \"y1\": 0.04860200732946396, \"y2\": 0.06860265135765076, \"y3\": -0.04601505026221275, \"y4\": -0.007497191429138184, \"x\": 316}, {\"y0\": 0.12247604131698608, \"y1\": 0.05058874934911728, \"y2\": 0.07433626055717468, \"y3\": -0.010076622478663921, \"y4\": -0.05799252539873123, \"x\": 317}, {\"y0\": -0.012891416437923908, \"y1\": 0.06004882603883743, \"y2\": 0.07248632609844208, \"y3\": -0.06621124595403671, \"y4\": -0.05830183997750282, \"x\": 318}, {\"y0\": 0.08266597986221313, \"y1\": 0.05947204679250717, \"y2\": 0.010391208343207836, \"y3\": -0.010205203667283058, \"y4\": 0.0803096666932106, \"x\": 319}, {\"y0\": -0.09319767355918884, \"y1\": -0.060209572315216064, \"y2\": -0.01053661946207285, \"y3\": 0.03952128440141678, \"y4\": -0.08811402320861816, \"x\": 320}, {\"y0\": 0.09090621024370193, \"y1\": 0.06861966103315353, \"y2\": 0.09797009825706482, \"y3\": -0.0022334372624754906, \"y4\": 0.04717376455664635, \"x\": 321}, {\"y0\": 0.020413631573319435, \"y1\": 0.009866895154118538, \"y2\": -0.03273614123463631, \"y3\": 0.018901310861110687, \"y4\": -0.015102584846317768, \"x\": 322}, {\"y0\": 0.00034840492298826575, \"y1\": -0.05511416867375374, \"y2\": -0.07150199264287949, \"y3\": -0.026135554537177086, \"y4\": -0.010296660475432873, \"x\": 323}, {\"y0\": 0.014382650144398212, \"y1\": -0.09562338143587112, \"y2\": -0.04628796502947807, \"y3\": -0.02532491460442543, \"y4\": -0.062348078936338425, \"x\": 324}, {\"y0\": -0.027698135003447533, \"y1\": -0.011798017658293247, \"y2\": -0.0306696780025959, \"y3\": 0.0691501572728157, \"y4\": -0.05366777256131172, \"x\": 325}, {\"y0\": -0.018812669441103935, \"y1\": -0.010022318921983242, \"y2\": -0.004870205651968718, \"y3\": 0.04096164554357529, \"y4\": 0.07465854287147522, \"x\": 326}, {\"y0\": -0.033717360347509384, \"y1\": -0.06500337272882462, \"y2\": -0.05285366252064705, \"y3\": -0.025564145296812057, \"y4\": -0.033212870359420776, \"x\": 327}, {\"y0\": -0.019067971035838127, \"y1\": 0.06354358792304993, \"y2\": 0.038655925542116165, \"y3\": -0.0328669510781765, \"y4\": 0.01030722726136446, \"x\": 328}, {\"y0\": 0.027813896536827087, \"y1\": 0.02563861571252346, \"y2\": 0.01854296773672104, \"y3\": 0.008039195090532303, \"y4\": 0.0280785970389843, \"x\": 329}, {\"y0\": -0.027336634695529938, \"y1\": 0.019539646804332733, \"y2\": 0.024325011298060417, \"y3\": -0.00028076814487576485, \"y4\": 0.004049040377140045, \"x\": 330}, {\"y0\": -0.07944507151842117, \"y1\": -0.04998759925365448, \"y2\": -0.08004329353570938, \"y3\": -0.019268138334155083, \"y4\": 0.05156755447387695, \"x\": 331}, {\"y0\": -0.00329303159378469, \"y1\": 0.0072065116837620735, \"y2\": -0.015380759723484516, \"y3\": -0.0018200901104137301, \"y4\": 0.008781719952821732, \"x\": 332}, {\"y0\": 0.002748853527009487, \"y1\": 0.039857324212789536, \"y2\": 0.007871079258620739, \"y3\": 0.024692608043551445, \"y4\": 0.027040665969252586, \"x\": 333}, {\"y0\": 0.07557297497987747, \"y1\": 0.03554212674498558, \"y2\": -0.012760696932673454, \"y3\": 0.03952709585428238, \"y4\": 0.06406836956739426, \"x\": 334}, {\"y0\": -0.0295668076723814, \"y1\": 0.014983587898314, \"y2\": 0.07174836099147797, \"y3\": 0.014669928699731827, \"y4\": -0.009862405247986317, \"x\": 335}, {\"y0\": 0.0010559086222201586, \"y1\": 0.02098812162876129, \"y2\": 0.008818380534648895, \"y3\": 0.04158501327037811, \"y4\": 0.03184537589550018, \"x\": 336}, {\"y0\": -0.064936064183712, \"y1\": -0.06232013925909996, \"y2\": -0.02219821885228157, \"y3\": 0.06014592945575714, \"y4\": 0.035945113748311996, \"x\": 337}, {\"y0\": 0.014308289624750614, \"y1\": -0.01719781570136547, \"y2\": 0.0023528437595814466, \"y3\": 0.02761162631213665, \"y4\": 0.049827296286821365, \"x\": 338}, {\"y0\": -0.012322725728154182, \"y1\": -0.04890362545847893, \"y2\": 0.004008891526609659, \"y3\": 0.04494249075651169, \"y4\": -0.03919592499732971, \"x\": 339}, {\"y0\": -0.05161833018064499, \"y1\": -0.038789425045251846, \"y2\": 0.020084066316485405, \"y3\": -0.006006758194416761, \"y4\": 0.017933784052729607, \"x\": 340}, {\"y0\": -0.02413104474544525, \"y1\": -0.030868422240018845, \"y2\": 0.020562399178743362, \"y3\": 0.002692257286980748, \"y4\": -0.12285025417804718, \"x\": 341}, {\"y0\": -0.04802995175123215, \"y1\": -0.06835318356752396, \"y2\": 0.03677278012037277, \"y3\": -0.014064770191907883, \"y4\": 0.031158464029431343, \"x\": 342}, {\"y0\": 0.004482338670641184, \"y1\": 0.02326558530330658, \"y2\": -0.023239722475409508, \"y3\": 0.02821541018784046, \"y4\": 0.058062463998794556, \"x\": 343}, {\"y0\": 0.05210588499903679, \"y1\": 0.031927503645420074, \"y2\": 0.02377176657319069, \"y3\": 0.022708415985107422, \"y4\": 0.05282405763864517, \"x\": 344}, {\"y0\": 0.030743811279535294, \"y1\": 0.020926767960190773, \"y2\": -0.00951575580984354, \"y3\": -0.022792773321270943, \"y4\": -0.03239842876791954, \"x\": 345}, {\"y0\": -0.07142164558172226, \"y1\": 0.05985073372721672, \"y2\": 0.0633494183421135, \"y3\": 0.005058392882347107, \"y4\": -0.009179135784506798, \"x\": 346}, {\"y0\": -0.015245627611875534, \"y1\": -0.01950237713754177, \"y2\": 0.001175292651169002, \"y3\": -0.05915619432926178, \"y4\": -0.050816889852285385, \"x\": 347}, {\"y0\": 0.0324205718934536, \"y1\": 0.032853782176971436, \"y2\": 0.029309595003724098, \"y3\": 0.02173522487282753, \"y4\": -0.008329943753778934, \"x\": 348}, {\"y0\": -0.012707803398370743, \"y1\": 0.05561713129281998, \"y2\": 0.09169244766235352, \"y3\": 0.00041406869422644377, \"y4\": 0.04788068309426308, \"x\": 349}, {\"y0\": -0.018422625958919525, \"y1\": 0.047191888093948364, \"y2\": -0.013033932074904442, \"y3\": 0.0008166725165210664, \"y4\": 0.003550157183781266, \"x\": 350}, {\"y0\": -0.04643215611577034, \"y1\": -0.02888420969247818, \"y2\": -0.024347946047782898, \"y3\": -0.06545064598321915, \"y4\": -0.022341599687933922, \"x\": 351}, {\"y0\": -0.00674324668943882, \"y1\": 0.023356828838586807, \"y2\": 0.04237070307135582, \"y3\": 0.04232417792081833, \"y4\": 0.004618640057742596, \"x\": 352}, {\"y0\": -0.023410819470882416, \"y1\": 0.0734391063451767, \"y2\": 0.03646112233400345, \"y3\": -0.07833229005336761, \"y4\": 0.011822129599750042, \"x\": 353}, {\"y0\": -0.06374696642160416, \"y1\": -0.07032230496406555, \"y2\": -0.08146215975284576, \"y3\": -0.06891685724258423, \"y4\": -0.022150589153170586, \"x\": 354}, {\"y0\": -0.08533977717161179, \"y1\": -0.03853887319564819, \"y2\": -0.0565345324575901, \"y3\": 0.028852608054876328, \"y4\": 0.02075461484491825, \"x\": 355}, {\"y0\": 0.0022207279689610004, \"y1\": 0.025082048028707504, \"y2\": -0.012981515377759933, \"y3\": 0.05995964631438255, \"y4\": 0.022407585754990578, \"x\": 356}, {\"y0\": 0.009633109904825687, \"y1\": 0.05030088871717453, \"y2\": 0.03627359867095947, \"y3\": 0.029827391728758812, \"y4\": -0.033213064074516296, \"x\": 357}, {\"y0\": -0.04275698959827423, \"y1\": -0.03335999697446823, \"y2\": -0.05871888995170593, \"y3\": 0.06821876764297485, \"y4\": 0.06672393530607224, \"x\": 358}, {\"y0\": 0.026911871507763863, \"y1\": 0.0484326146543026, \"y2\": 0.04161181300878525, \"y3\": -0.06886859238147736, \"y4\": -0.10079935193061829, \"x\": 359}, {\"y0\": -0.03994634374976158, \"y1\": -0.06503470987081528, \"y2\": 0.03702244162559509, \"y3\": -0.011680918745696545, \"y4\": -0.045003172010183334, \"x\": 360}, {\"y0\": 0.017758965492248535, \"y1\": -0.01691286824643612, \"y2\": -0.048452265560626984, \"y3\": 0.04797918722033501, \"y4\": 0.012330364435911179, \"x\": 361}, {\"y0\": -0.046571310609579086, \"y1\": -0.035625554621219635, \"y2\": -0.010343133471906185, \"y3\": 0.03801525756716728, \"y4\": 0.04504765197634697, \"x\": 362}, {\"y0\": -0.0023519028909504414, \"y1\": 0.022336935624480247, \"y2\": -0.005616280250251293, \"y3\": -0.007295137736946344, \"y4\": 0.006108689121901989, \"x\": 363}, {\"y0\": -0.061122648417949677, \"y1\": 0.010037189349532127, \"y2\": -0.0051707434467971325, \"y3\": 0.00894048623740673, \"y4\": 0.020913876593112946, \"x\": 364}, {\"y0\": 0.11313822120428085, \"y1\": 0.09111865609884262, \"y2\": 0.08520346134901047, \"y3\": 0.06983322650194168, \"y4\": -0.010334760881960392, \"x\": 365}, {\"y0\": -0.061388853937387466, \"y1\": -0.015575753524899483, \"y2\": -0.018630394712090492, \"y3\": 0.05681656673550606, \"y4\": 0.0023711794055998325, \"x\": 366}, {\"y0\": -0.05914917215704918, \"y1\": -0.028110632672905922, \"y2\": -0.03843275457620621, \"y3\": -0.06099789962172508, \"y4\": -0.006297480780631304, \"x\": 367}, {\"y0\": -0.05931513011455536, \"y1\": -0.04008959233760834, \"y2\": -0.0627928152680397, \"y3\": 0.05133726820349693, \"y4\": -0.08271697908639908, \"x\": 368}, {\"y0\": -0.008002149872481823, \"y1\": 0.008587189018726349, \"y2\": -0.030866267159581184, \"y3\": 0.03048042766749859, \"y4\": 0.01466221921145916, \"x\": 369}, {\"y0\": -0.06895136088132858, \"y1\": -0.02664044126868248, \"y2\": -0.05553961172699928, \"y3\": -0.04268687590956688, \"y4\": -0.03847001492977142, \"x\": 370}, {\"y0\": 0.025682415813207626, \"y1\": -0.027486272156238556, \"y2\": -0.04282877966761589, \"y3\": 0.027093200013041496, \"y4\": 0.03155570104718208, \"x\": 371}, {\"y0\": -0.05175789073109627, \"y1\": 0.009522057138383389, \"y2\": -0.013267023488879204, \"y3\": 0.011171589605510235, \"y4\": 0.02487586811184883, \"x\": 372}, {\"y0\": -0.09232571721076965, \"y1\": -0.09510686248540878, \"y2\": -0.07875668257474899, \"y3\": -0.040652986615896225, \"y4\": -0.05333368107676506, \"x\": 373}, {\"y0\": -0.045751772820949554, \"y1\": 0.047426555305719376, \"y2\": 0.0332249291241169, \"y3\": 0.029822638258337975, \"y4\": 0.047522854059934616, \"x\": 374}, {\"y0\": 0.07180673629045486, \"y1\": 0.036254171282052994, \"y2\": 0.020840151235461235, \"y3\": -0.02021505869925022, \"y4\": 0.012102087959647179, \"x\": 375}, {\"y0\": -0.021884270012378693, \"y1\": -0.08708465844392776, \"y2\": -0.11080823093652725, \"y3\": 0.01685280352830887, \"y4\": -0.008346186950802803, \"x\": 376}, {\"y0\": 0.005448338575661182, \"y1\": -0.012804453261196613, \"y2\": -0.008521422743797302, \"y3\": -0.013189644552767277, \"y4\": -0.008607019670307636, \"x\": 377}, {\"y0\": -0.015895426273345947, \"y1\": -0.03463807702064514, \"y2\": -0.025870807468891144, \"y3\": 0.004725780338048935, \"y4\": -0.027317602187395096, \"x\": 378}, {\"y0\": -0.054324571043252945, \"y1\": -0.007107920479029417, \"y2\": -0.03400368243455887, \"y3\": -0.021432051435112953, \"y4\": 0.00682041747495532, \"x\": 379}, {\"y0\": -0.03467102721333504, \"y1\": -0.04595137760043144, \"y2\": -0.038426708430051804, \"y3\": 0.040385689586400986, \"y4\": 0.023520756512880325, \"x\": 380}, {\"y0\": -0.017091671004891396, \"y1\": 0.00972912646830082, \"y2\": 0.0268589835613966, \"y3\": 0.008648051880300045, \"y4\": -0.028739148750901222, \"x\": 381}, {\"y0\": -9.88733081612736e-05, \"y1\": -0.0915922224521637, \"y2\": -0.0600057914853096, \"y3\": 0.01538747176527977, \"y4\": -0.047274380922317505, \"x\": 382}, {\"y0\": 0.040713854134082794, \"y1\": -0.01308254525065422, \"y2\": 0.0010194546775892377, \"y3\": -0.06276779621839523, \"y4\": -0.01681717485189438, \"x\": 383}, {\"y0\": -0.027302509173750877, \"y1\": -0.05494004115462303, \"y2\": -0.04005364701151848, \"y3\": -0.03555106371641159, \"y4\": 0.002108057029545307, \"x\": 384}, {\"y0\": 0.0483323372900486, \"y1\": 0.07891649007797241, \"y2\": 0.06224559247493744, \"y3\": 0.017736759036779404, \"y4\": -0.04475661367177963, \"x\": 385}, {\"y0\": -0.05582598224282265, \"y1\": -0.005158611107617617, \"y2\": -0.05844124034047127, \"y3\": 0.02902906946837902, \"y4\": 0.07040780037641525, \"x\": 386}, {\"y0\": -0.007992643862962723, \"y1\": -0.026164963841438293, \"y2\": -0.024885445833206177, \"y3\": 0.017295578494668007, \"y4\": 0.03823239356279373, \"x\": 387}, {\"y0\": 0.031082965433597565, \"y1\": -0.032043687999248505, \"y2\": -0.03872298076748848, \"y3\": 0.08526788651943207, \"y4\": -0.04135716333985329, \"x\": 388}, {\"y0\": 0.013614526018500328, \"y1\": 0.003090663580223918, \"y2\": 0.0017208100762218237, \"y3\": 0.000992744928225875, \"y4\": 0.003457878017798066, \"x\": 389}, {\"y0\": 0.06719119846820831, \"y1\": 0.019771166145801544, \"y2\": -0.03047695755958557, \"y3\": 0.06311341375112534, \"y4\": -0.05429589003324509, \"x\": 390}, {\"y0\": -0.038587991148233414, \"y1\": 0.08725269883871078, \"y2\": 0.12412511557340622, \"y3\": -0.017628924921154976, \"y4\": -0.03417095169425011, \"x\": 391}, {\"y0\": 0.04490148648619652, \"y1\": -0.031191715970635414, \"y2\": 0.03145705908536911, \"y3\": -0.06813251972198486, \"y4\": -0.012277704663574696, \"x\": 392}, {\"y0\": 0.048867367208004, \"y1\": -0.005244695581495762, \"y2\": -0.014279765076935291, \"y3\": 0.013072694651782513, \"y4\": -0.007370143663138151, \"x\": 393}, {\"y0\": -0.028529830276966095, \"y1\": -0.015322928316891193, \"y2\": 0.002902922686189413, \"y3\": -0.03074725531041622, \"y4\": 0.028754061087965965, \"x\": 394}, {\"y0\": 0.06158256158232689, \"y1\": 0.04021289199590683, \"y2\": 0.05086721107363701, \"y3\": 0.02196001075208187, \"y4\": 0.05863519385457039, \"x\": 395}, {\"y0\": 0.0264924094080925, \"y1\": 0.052154429256916046, \"y2\": 0.025890382006764412, \"y3\": -0.021258752793073654, \"y4\": -0.03615153953433037, \"x\": 396}, {\"y0\": 0.011232099495828152, \"y1\": 0.005962827242910862, \"y2\": 0.08262035995721817, \"y3\": -0.034254979342222214, \"y4\": -0.00829490926116705, \"x\": 397}, {\"y0\": 0.04052076116204262, \"y1\": 0.007986045442521572, \"y2\": 0.01722102239727974, \"y3\": 0.08455441147089005, \"y4\": 0.021561864763498306, \"x\": 398}, {\"y0\": -0.047221675515174866, \"y1\": -0.005171149969100952, \"y2\": -0.013654920272529125, \"y3\": -0.0572604238986969, \"y4\": 0.03938952833414078, \"x\": 399}, {\"y0\": -0.023613732308149338, \"y1\": -0.06364113837480545, \"y2\": -0.05991485342383385, \"y3\": -0.05257083848118782, \"y4\": 0.015643246471881866, \"x\": 400}, {\"y0\": -0.04381009191274643, \"y1\": -0.0770617127418518, \"y2\": -0.03392734006047249, \"y3\": 0.11351174116134644, \"y4\": -0.028991300612688065, \"x\": 401}, {\"y0\": -0.05248911306262016, \"y1\": -0.04367129132151604, \"y2\": -0.025189071893692017, \"y3\": 0.03189558908343315, \"y4\": -0.08049045503139496, \"x\": 402}, {\"y0\": -0.04854084923863411, \"y1\": -0.09575293213129044, \"y2\": -0.08243576437234879, \"y3\": 0.08124086260795593, \"y4\": -0.08035463839769363, \"x\": 403}, {\"y0\": -0.05071112886071205, \"y1\": -0.06747635453939438, \"y2\": -0.01370641402900219, \"y3\": 0.07710368186235428, \"y4\": 0.023431550711393356, \"x\": 404}, {\"y0\": 0.06596601754426956, \"y1\": 0.05762723460793495, \"y2\": 0.04695574939250946, \"y3\": -0.026204019784927368, \"y4\": -0.002021342283114791, \"x\": 405}, {\"y0\": 0.002797101391479373, \"y1\": 0.00986741203814745, \"y2\": -0.021457819268107414, \"y3\": 0.012118954211473465, \"y4\": 0.00478197680786252, \"x\": 406}, {\"y0\": 0.008219790644943714, \"y1\": -0.026874849572777748, \"y2\": -0.046161528676748276, \"y3\": -0.0779532641172409, \"y4\": 0.010304883122444153, \"x\": 407}, {\"y0\": 0.00412748334929347, \"y1\": 0.046741437166929245, \"y2\": -0.006595375947654247, \"y3\": 0.05095495283603668, \"y4\": 0.049560174345970154, \"x\": 408}, {\"y0\": -0.0045852684415876865, \"y1\": -0.040962446480989456, \"y2\": -0.040054138749837875, \"y3\": 0.10312648862600327, \"y4\": -0.0683712363243103, \"x\": 409}, {\"y0\": -0.016030870378017426, \"y1\": -0.023077121004462242, \"y2\": -0.03159968554973602, \"y3\": 0.032926734536886215, \"y4\": -0.05119641125202179, \"x\": 410}, {\"y0\": 0.016341784968972206, \"y1\": 0.027926072478294373, \"y2\": 0.011560473591089249, \"y3\": -0.04350895434617996, \"y4\": -0.016206910833716393, \"x\": 411}, {\"y0\": -0.009675648994743824, \"y1\": -0.06825337558984756, \"y2\": -0.07960493862628937, \"y3\": -0.027172083035111427, \"y4\": -0.08107689768075943, \"x\": 412}, {\"y0\": 0.05815666541457176, \"y1\": -0.009107190184295177, \"y2\": -0.037422336637973785, \"y3\": 0.029152551665902138, \"y4\": 0.010862406343221664, \"x\": 413}, {\"y0\": -0.0075882310047745705, \"y1\": 0.03188498318195343, \"y2\": 0.011799671687185764, \"y3\": 0.03792474418878555, \"y4\": 0.011132662184536457, \"x\": 414}, {\"y0\": 0.0032804268412292004, \"y1\": 0.03934583440423012, \"y2\": -0.0005089565529488027, \"y3\": 0.03541865572333336, \"y4\": 0.003273019567131996, \"x\": 415}, {\"y0\": -0.043447066098451614, \"y1\": -0.042190179228782654, \"y2\": -0.006069554015994072, \"y3\": -0.007734543643891811, \"y4\": -0.05526026338338852, \"x\": 416}, {\"y0\": 0.003950885962694883, \"y1\": -0.007078230381011963, \"y2\": -0.044523533433675766, \"y3\": -0.01314298715442419, \"y4\": 0.01895950548350811, \"x\": 417}, {\"y0\": -0.06357362866401672, \"y1\": -0.07090026140213013, \"y2\": -0.022063300013542175, \"y3\": -0.08853122591972351, \"y4\": -0.06822370737791061, \"x\": 418}, {\"y0\": 0.0214825589209795, \"y1\": -0.04435229301452637, \"y2\": -0.05394598841667175, \"y3\": 0.02323804795742035, \"y4\": 0.06954346597194672, \"x\": 419}, {\"y0\": 0.026961730793118477, \"y1\": -0.014370057731866837, \"y2\": 0.08240875601768494, \"y3\": -0.04486191272735596, \"y4\": -0.06866354495286942, \"x\": 420}, {\"y0\": -0.0014724319335073233, \"y1\": 0.034235015511512756, \"y2\": 0.06677354872226715, \"y3\": 0.0499844066798687, \"y4\": 0.013747415505349636, \"x\": 421}, {\"y0\": -0.07503621280193329, \"y1\": -0.02052476815879345, \"y2\": -0.0708223208785057, \"y3\": -0.10281062871217728, \"y4\": -0.03515753895044327, \"x\": 422}, {\"y0\": -0.011226659640669823, \"y1\": -0.018443364650011063, \"y2\": -0.019226588308811188, \"y3\": -0.009032972157001495, \"y4\": -0.02934163622558117, \"x\": 423}, {\"y0\": -0.03922627866268158, \"y1\": -0.016218097880482674, \"y2\": 0.007817139849066734, \"y3\": -0.033047761768102646, \"y4\": 0.032903723418712616, \"x\": 424}, {\"y0\": -0.10740651935338974, \"y1\": -0.042767323553562164, \"y2\": -0.06570374220609665, \"y3\": 0.02930302359163761, \"y4\": -0.05662114918231964, \"x\": 425}, {\"y0\": 0.02513211965560913, \"y1\": -0.0010841154726222157, \"y2\": -0.020028043538331985, \"y3\": -0.06165088340640068, \"y4\": 0.029168136417865753, \"x\": 426}, {\"y0\": 0.007435229606926441, \"y1\": 0.10309360921382904, \"y2\": 0.04939432814717293, \"y3\": -0.015843410044908524, \"y4\": 0.023155251517891884, \"x\": 427}, {\"y0\": 0.013418938033282757, \"y1\": 0.0066061378456652164, \"y2\": 0.02421078458428383, \"y3\": 0.04142510145902634, \"y4\": 0.004196135327219963, \"x\": 428}, {\"y0\": 0.0026116203516721725, \"y1\": 0.04422694444656372, \"y2\": 0.03849228844046593, \"y3\": 0.035913337022066116, \"y4\": -0.005889847408980131, \"x\": 429}, {\"y0\": -0.03970637544989586, \"y1\": 0.0059835040010511875, \"y2\": 0.0381799191236496, \"y3\": -0.011755204759538174, \"y4\": -0.006465150509029627, \"x\": 430}, {\"y0\": 0.06093432381749153, \"y1\": 0.05408165231347084, \"y2\": 0.031570129096508026, \"y3\": -0.05190703645348549, \"y4\": -0.0046511003747582436, \"x\": 431}, {\"y0\": -0.06425181031227112, \"y1\": -0.02584005706012249, \"y2\": -0.06935449689626694, \"y3\": -0.016091275960206985, \"y4\": 0.019048215821385384, \"x\": 432}, {\"y0\": -0.0013419666793197393, \"y1\": 0.025163469836115837, \"y2\": -0.03577568382024765, \"y3\": -0.002422270830720663, \"y4\": 0.052906330674886703, \"x\": 433}, {\"y0\": -0.003678142325952649, \"y1\": 0.00122373690828681, \"y2\": -0.05980469286441803, \"y3\": -0.0362890399992466, \"y4\": -0.02024449035525322, \"x\": 434}, {\"y0\": 0.016557656228542328, \"y1\": -0.036307886242866516, \"y2\": 0.03417094796895981, \"y3\": 0.04905097186565399, \"y4\": 0.013844787143170834, \"x\": 435}, {\"y0\": 0.03542030230164528, \"y1\": 0.003943991847336292, \"y2\": -0.006111558526754379, \"y3\": 0.00931938923895359, \"y4\": 0.020130056887865067, \"x\": 436}, {\"y0\": 0.11303521692752838, \"y1\": 0.0757446140050888, \"y2\": 0.02228754200041294, \"y3\": 0.07035384327173233, \"y4\": -0.03498304262757301, \"x\": 437}, {\"y0\": 0.000638028490357101, \"y1\": -0.05022188648581505, \"y2\": -0.028250543400645256, \"y3\": 0.08462585508823395, \"y4\": -0.01978956162929535, \"x\": 438}, {\"y0\": -0.012177378870546818, \"y1\": -0.017602642998099327, \"y2\": -0.06125502660870552, \"y3\": 0.03307321295142174, \"y4\": 0.08200308680534363, \"x\": 439}, {\"y0\": 0.032339878380298615, \"y1\": 0.025777405127882957, \"y2\": 0.0656200498342514, \"y3\": -0.032664183527231216, \"y4\": 0.011411502957344055, \"x\": 440}, {\"y0\": 0.04720896854996681, \"y1\": 0.08018184453248978, \"y2\": 0.061410028487443924, \"y3\": -0.060942232608795166, \"y4\": -0.0141442334279418, \"x\": 441}, {\"y0\": 0.009048424661159515, \"y1\": 0.05169805511832237, \"y2\": 0.06278088688850403, \"y3\": 0.0013578914804384112, \"y4\": -0.0035973279736936092, \"x\": 442}, {\"y0\": -0.08291894942522049, \"y1\": -0.06468844413757324, \"y2\": -0.059090591967105865, \"y3\": -0.09387871623039246, \"y4\": -0.04587814584374428, \"x\": 443}, {\"y0\": 0.011594823561608791, \"y1\": 0.005116788670420647, \"y2\": 0.05658745393157005, \"y3\": -0.05874887481331825, \"y4\": -0.03188971430063248, \"x\": 444}, {\"y0\": 0.014039085246622562, \"y1\": -0.01030015293508768, \"y2\": -0.037675343453884125, \"y3\": -0.06164927035570145, \"y4\": -0.034423742443323135, \"x\": 445}, {\"y0\": 0.016909094527363777, \"y1\": 0.0587635412812233, \"y2\": 0.017945174127817154, \"y3\": 0.007072555832564831, \"y4\": 0.04942946135997772, \"x\": 446}, {\"y0\": -0.024672769010066986, \"y1\": 0.02554323337972164, \"y2\": -0.022452453151345253, \"y3\": 0.024706846103072166, \"y4\": -0.025494279339909554, \"x\": 447}, {\"y0\": 0.017974434420466423, \"y1\": -0.020526129752397537, \"y2\": 0.006079170852899551, \"y3\": 0.04869366064667702, \"y4\": 0.04096280783414841, \"x\": 448}, {\"y0\": 0.044740479439496994, \"y1\": -0.01914733462035656, \"y2\": -0.011369497515261173, \"y3\": -0.01749565824866295, \"y4\": -0.032133132219314575, \"x\": 449}, {\"y0\": -0.03947726637125015, \"y1\": -0.032140184193849564, \"y2\": -0.05116700008511543, \"y3\": 0.04778582975268364, \"y4\": -0.026197057217359543, \"x\": 450}, {\"y0\": -0.035121407359838486, \"y1\": -0.050004806369543076, \"y2\": -0.07100839167833328, \"y3\": 0.0019344643224030733, \"y4\": 0.01742655038833618, \"x\": 451}, {\"y0\": 0.0721026286482811, \"y1\": 0.05725162848830223, \"y2\": 0.029689030721783638, \"y3\": 0.022249137982726097, \"y4\": -0.013602335005998611, \"x\": 452}, {\"y0\": 0.03891121223568916, \"y1\": 0.008546127006411552, \"y2\": -0.014529270119965076, \"y3\": -0.012393245473504066, \"y4\": -0.05114377290010452, \"x\": 453}, {\"y0\": 0.03647473454475403, \"y1\": 0.042589206248521805, \"y2\": 0.0435008779168129, \"y3\": -0.004002283327281475, \"y4\": -0.034020811319351196, \"x\": 454}, {\"y0\": -0.005803325213491917, \"y1\": 0.06572041660547256, \"y2\": 0.036273423582315445, \"y3\": 0.07237710803747177, \"y4\": 0.10454300045967102, \"x\": 455}, {\"y0\": -0.0021546422503888607, \"y1\": 0.0308997742831707, \"y2\": 0.03865630552172661, \"y3\": -0.07020306587219238, \"y4\": -0.008662614971399307, \"x\": 456}, {\"y0\": -0.023405207321047783, \"y1\": 0.002132700989022851, \"y2\": -0.019916923716664314, \"y3\": -0.030210139229893684, \"y4\": -0.011816591955721378, \"x\": 457}, {\"y0\": -0.022143766283988953, \"y1\": -0.07031337171792984, \"y2\": -0.0248795747756958, \"y3\": 0.009069456718862057, \"y4\": -0.004620635882019997, \"x\": 458}, {\"y0\": -0.02047029696404934, \"y1\": 0.012375646270811558, \"y2\": -0.006510181352496147, \"y3\": 0.022900061681866646, \"y4\": 0.052358679473400116, \"x\": 459}, {\"y0\": -0.009052335284650326, \"y1\": -0.005858846940100193, \"y2\": -0.0006715150084346533, \"y3\": 0.004725800361484289, \"y4\": 0.03958636149764061, \"x\": 460}, {\"y0\": 0.01432840060442686, \"y1\": 0.030066976323723793, \"y2\": -0.011208887211978436, \"y3\": 0.05196676030755043, \"y4\": 0.04475405812263489, \"x\": 461}, {\"y0\": 0.05607343465089798, \"y1\": -0.04745510593056679, \"y2\": -0.0539352148771286, \"y3\": -0.01512409932911396, \"y4\": -0.004016419406980276, \"x\": 462}, {\"y0\": 0.04882991313934326, \"y1\": 0.04652233421802521, \"y2\": 0.04842745140194893, \"y3\": -0.00991024635732174, \"y4\": 0.013725727796554565, \"x\": 463}, {\"y0\": 0.0028889679815620184, \"y1\": 0.060460444539785385, \"y2\": 0.042090047150850296, \"y3\": -0.025208188220858574, \"y4\": 0.06747668981552124, \"x\": 464}, {\"y0\": 0.1055583506822586, \"y1\": 0.09434319287538528, \"y2\": 0.08622244000434875, \"y3\": -0.00010933485464192927, \"y4\": 0.09950654208660126, \"x\": 465}, {\"y0\": 0.06341195851564407, \"y1\": 0.04424644261598587, \"y2\": -0.004829557612538338, \"y3\": -0.020763400942087173, \"y4\": -0.05217061564326286, \"x\": 466}, {\"y0\": 0.003063678042963147, \"y1\": -0.06213192641735077, \"y2\": -0.010339098051190376, \"y3\": -0.0476895235478878, \"y4\": -0.028564278036355972, \"x\": 467}, {\"y0\": 0.09874831885099411, \"y1\": 0.08978962153196335, \"y2\": 0.06370300054550171, \"y3\": -0.03278842940926552, \"y4\": 0.05240150913596153, \"x\": 468}, {\"y0\": 0.0662788674235344, \"y1\": -0.053844209760427475, \"y2\": -0.019025031477212906, \"y3\": 0.05470556765794754, \"y4\": 0.01113828830420971, \"x\": 469}, {\"y0\": 0.014979030005633831, \"y1\": 0.07361869513988495, \"y2\": 0.0485721156001091, \"y3\": -0.014231212437152863, \"y4\": 0.005498802755028009, \"x\": 470}, {\"y0\": 0.025083500891923904, \"y1\": 0.023654162883758545, \"y2\": 0.005803813226521015, \"y3\": -0.05923909321427345, \"y4\": 0.027886606752872467, \"x\": 471}, {\"y0\": -0.03539251163601875, \"y1\": 0.01191409770399332, \"y2\": 0.02220587618649006, \"y3\": -0.08664560317993164, \"y4\": -0.06828025728464127, \"x\": 472}, {\"y0\": 0.008737257681787014, \"y1\": -0.0024009556509554386, \"y2\": -0.041080158203840256, \"y3\": -0.07832904160022736, \"y4\": -0.08420705795288086, \"x\": 473}, {\"y0\": 0.00883985124528408, \"y1\": -0.034832511097192764, \"y2\": -0.023723116144537926, \"y3\": 0.002317259553819895, \"y4\": -0.0006068986258469522, \"x\": 474}, {\"y0\": -0.022193530574440956, \"y1\": -0.06414186954498291, \"y2\": -0.022777682170271873, \"y3\": 0.05560139939188957, \"y4\": -0.00675823213532567, \"x\": 475}, {\"y0\": -0.008870447054505348, \"y1\": 0.006423110142350197, \"y2\": -0.030253758653998375, \"y3\": 0.009281674399971962, \"y4\": 0.007781764958053827, \"x\": 476}, {\"y0\": 0.00452413922175765, \"y1\": -0.03463773801922798, \"y2\": -0.024700697511434555, \"y3\": -0.027026303112506866, \"y4\": -0.07858263701200485, \"x\": 477}, {\"y0\": 0.002906429348513484, \"y1\": 0.05492647364735603, \"y2\": 0.012797480449080467, \"y3\": 0.06575622409582138, \"y4\": 0.07903095334768295, \"x\": 478}, {\"y0\": 0.015307150781154633, \"y1\": -0.05098819360136986, \"y2\": -0.013441546820104122, \"y3\": -0.03894121199846268, \"y4\": -0.012984972447156906, \"x\": 479}, {\"y0\": 0.044430334120988846, \"y1\": 0.007554722484201193, \"y2\": -0.01476452685892582, \"y3\": 0.004274240229278803, \"y4\": 0.03288022056221962, \"x\": 480}, {\"y0\": 0.05493060499429703, \"y1\": -0.018041258677840233, \"y2\": 0.01772315427660942, \"y3\": -0.050510577857494354, \"y4\": 0.03999138996005058, \"x\": 481}, {\"y0\": 0.0603947676718235, \"y1\": 0.04189254343509674, \"y2\": 0.03445807099342346, \"y3\": 0.04130278900265694, \"y4\": 0.024755610153079033, \"x\": 482}, {\"y0\": -0.059892699122428894, \"y1\": -0.018011832609772682, \"y2\": 0.00270478380843997, \"y3\": 0.017939429730176926, \"y4\": 0.01336273830384016, \"x\": 483}, {\"y0\": 0.06403864175081253, \"y1\": -0.0010188021697103977, \"y2\": 0.03457102179527283, \"y3\": -0.02892978861927986, \"y4\": -0.03562603145837784, \"x\": 484}, {\"y0\": -0.02338208630681038, \"y1\": 0.006162615027278662, \"y2\": 0.015381949953734875, \"y3\": -0.07725891470909119, \"y4\": -0.04447031021118164, \"x\": 485}, {\"y0\": 0.016947066411376, \"y1\": -0.0021548254881054163, \"y2\": 0.01992122270166874, \"y3\": 0.06024353951215744, \"y4\": 0.004491525702178478, \"x\": 486}, {\"y0\": -0.027414489537477493, \"y1\": 0.028371773660182953, \"y2\": -0.03457246720790863, \"y3\": -0.01994398981332779, \"y4\": 0.04829537123441696, \"x\": 487}, {\"y0\": 0.013587039895355701, \"y1\": 0.0019533587619662285, \"y2\": -0.04846595227718353, \"y3\": 0.051290061324834824, \"y4\": 0.03787774592638016, \"x\": 488}, {\"y0\": -0.09090429544448853, \"y1\": -0.050431448966264725, \"y2\": -0.0029129493050277233, \"y3\": -0.032172661274671555, \"y4\": -0.05050322040915489, \"x\": 489}, {\"y0\": 0.005144045688211918, \"y1\": -0.02203923463821411, \"y2\": -0.01388064306229353, \"y3\": 0.06663381308317184, \"y4\": 0.014709227718412876, \"x\": 490}, {\"y0\": 0.02872341498732567, \"y1\": 0.08023633807897568, \"y2\": 0.04165566712617874, \"y3\": 0.010013200342655182, \"y4\": -0.053100597113370895, \"x\": 491}, {\"y0\": -0.08709456771612167, \"y1\": -0.0796208456158638, \"y2\": -0.03841826692223549, \"y3\": 0.009207836352288723, \"y4\": -0.043910253793001175, \"x\": 492}, {\"y0\": 0.04089687764644623, \"y1\": 0.05258555710315704, \"y2\": 0.023967266082763672, \"y3\": 0.0011431357124820352, \"y4\": 0.02499314956367016, \"x\": 493}, {\"y0\": -0.07153452187776566, \"y1\": -0.049425650388002396, \"y2\": -0.05717562884092331, \"y3\": -0.051163218915462494, \"y4\": -0.06135467439889908, \"x\": 494}, {\"y0\": 0.011434574611485004, \"y1\": 0.01661265455186367, \"y2\": 0.002391205634921789, \"y3\": -0.0035409254487603903, \"y4\": -0.04762086644768715, \"x\": 495}, {\"y0\": -0.01350241620093584, \"y1\": 0.011147676967084408, \"y2\": 0.02152261883020401, \"y3\": 0.022269826382398605, \"y4\": -0.029673149809241295, \"x\": 496}, {\"y0\": 0.019292285665869713, \"y1\": -0.0008612858946435153, \"y2\": -0.005095598287880421, \"y3\": -0.07018548250198364, \"y4\": -0.021760981529951096, \"x\": 497}, {\"y0\": -0.04284820705652237, \"y1\": -0.02137192338705063, \"y2\": -0.06570299714803696, \"y3\": 0.029207561165094376, \"y4\": 0.028793366625905037, \"x\": 498}, {\"y0\": 0.01772845908999443, \"y1\": -0.0136417206376791, \"y2\": -0.030545854941010475, \"y3\": 0.005879397504031658, \"y4\": 0.0026334754657000303, \"x\": 499}, {\"y0\": -0.01632821001112461, \"y1\": 0.029717445373535156, \"y2\": -0.04051399976015091, \"y3\": -0.06871990114450455, \"y4\": -0.03335205838084221, \"x\": 500}, {\"y0\": 0.032049473375082016, \"y1\": 0.008917477913200855, \"y2\": 0.025460554286837578, \"y3\": -0.016347208991646767, \"y4\": 0.0857773944735527, \"x\": 501}, {\"y0\": -0.020010879263281822, \"y1\": 0.015939339995384216, \"y2\": 0.00843735784292221, \"y3\": 0.060912586748600006, \"y4\": 0.06721454858779907, \"x\": 502}, {\"y0\": -0.04865957424044609, \"y1\": -0.04231711104512215, \"y2\": -0.06203744187951088, \"y3\": 0.09600232541561127, \"y4\": 0.03125236928462982, \"x\": 503}, {\"y0\": 0.05994798243045807, \"y1\": -0.03673573583364487, \"y2\": -0.019916675984859467, \"y3\": 0.0049856784753501415, \"y4\": -0.04195353016257286, \"x\": 504}, {\"y0\": -0.03991136699914932, \"y1\": -0.03970349580049515, \"y2\": -0.01296911295503378, \"y3\": -0.014047141186892986, \"y4\": 0.02051904983818531, \"x\": 505}, {\"y0\": -0.008535267785191536, \"y1\": -0.006046190392225981, \"y2\": 0.012335008941590786, \"y3\": -0.0595775730907917, \"y4\": -0.02440500445663929, \"x\": 506}, {\"y0\": 0.020205743610858917, \"y1\": 0.050943274050951004, \"y2\": 0.05695262551307678, \"y3\": 0.031357016414403915, \"y4\": 0.0008708381792530417, \"x\": 507}, {\"y0\": 0.02965124510228634, \"y1\": -0.03301754966378212, \"y2\": -0.006460805423557758, \"y3\": 0.081912562251091, \"y4\": 0.016609761863946915, \"x\": 508}, {\"y0\": 0.02673477493226528, \"y1\": 0.02384542115032673, \"y2\": 0.02141868695616722, \"y3\": -0.07427126914262772, \"y4\": 0.008632490411400795, \"x\": 509}, {\"y0\": -0.05322595685720444, \"y1\": -0.025846626609563828, \"y2\": -0.016334425657987595, \"y3\": -0.06284111738204956, \"y4\": -0.022427430376410484, \"x\": 510}, {\"y0\": 0.01793966256082058, \"y1\": 0.013175001367926598, \"y2\": 0.03845823556184769, \"y3\": 0.015098211355507374, \"y4\": -0.005605505313724279, \"x\": 511}]}};\n",
              "      var embedOpt = {\"mode\": \"vega-lite\"};\n",
              "\n",
              "      function showError(el, error){\n",
              "          el.innerHTML = ('<div class=\"error\" style=\"color:red;\">'\n",
              "                          + '<p>JavaScript Error: ' + error.message + '</p>'\n",
              "                          + \"<p>This usually means there's a typo in your chart specification. \"\n",
              "                          + \"See the javascript console for the full traceback.</p>\"\n",
              "                          + '</div>');\n",
              "          throw error;\n",
              "      }\n",
              "      const el = document.getElementById('altair-viz');\n",
              "      vegaEmbed(\"#altair-viz\", spec, embedOpt)\n",
              "        .catch(error => showError(el, error));\n",
              "    })(vegaEmbed);\n",
              "\n",
              "  </script>\n",
              "</body>\n",
              "</html>"
            ]
          },
          "metadata": {
            "tags": []
          },
          "execution_count": 10
        }
      ]
    },
    {
      "cell_type": "code",
      "metadata": {
        "id": "yv7kI7QvqkhE",
        "colab_type": "code",
        "outputId": "cd0efc55-b7a6-42aa-8530-4dfec7ff13fc",
        "colab": {
          "base_uri": "https://localhost:8080/",
          "height": 69
        }
      },
      "source": [
        "!pip install plotly"
      ],
      "execution_count": 0,
      "outputs": [
        {
          "output_type": "stream",
          "text": [
            "Requirement already satisfied: plotly in /usr/local/lib/python3.6/dist-packages (4.1.1)\n",
            "Requirement already satisfied: retrying>=1.3.3 in /usr/local/lib/python3.6/dist-packages (from plotly) (1.3.3)\n",
            "Requirement already satisfied: six in /usr/local/lib/python3.6/dist-packages (from plotly) (1.12.0)\n"
          ],
          "name": "stdout"
        }
      ]
    },
    {
      "cell_type": "code",
      "metadata": {
        "id": "jjbxNUwGkbUV",
        "colab_type": "code",
        "outputId": "1b82f683-6bce-430a-f09f-0fa22814f505",
        "colab": {
          "base_uri": "https://localhost:8080/",
          "height": 739
        }
      },
      "source": [
        "import numpy as np\n",
        "from sklearn.manifold import TSNE\n",
        "\n",
        "X_embedded = TSNE(n_components=3, init='random',\n",
        "                         random_state=0, perplexity=150).fit_transform(ru_result)\n",
        "X_embedded.shape\n",
        "\n",
        "# tsne_data = pd.DataFrame({'emb': ['y0','y1','y2','y3','y4',]\n",
        "#                      'coords': X_embedded\n",
        "#                      })\n",
        "embedding_names = ['y0','y1','y2','y3','y4']\n",
        "tsne_data = pd.DataFrame(X_embedded, columns=['x','y','z'])\n",
        "# tsne_data.index.name = 'embedding'\n",
        "tsne_data['embedding'] = embedding_names\n",
        "print(tsne_data)\n",
        "print(tsne_data.index.name)\n",
        "# tsne_data.pivot(columns='bar', values='baz')\n",
        "# t = tsne_data.unstack(level=1).reset_index()\n",
        "# print(t)\n",
        "\n",
        "\n",
        "import plotly.express as px\n",
        "\n",
        "fig = px.scatter_3d(tsne_data,x='x', y='y',z='z',color='embedding')\n",
        "fig.show()"
      ],
      "execution_count": 0,
      "outputs": [
        {
          "output_type": "stream",
          "text": [
            "            x           y           z embedding\n",
            "0  -74.424400 -335.433411   29.040329        y0\n",
            "1  142.339951  244.818268 -260.685028        y1\n",
            "2  203.134552    3.815986   68.993423        y2\n",
            "3 -173.915787  -14.023599  326.170929        y3\n",
            "4 -279.673035  -56.267796 -232.865051        y4\n",
            "None\n"
          ],
          "name": "stdout"
        },
        {
          "output_type": "display_data",
          "data": {
            "text/html": [
              "<html>\n",
              "<head><meta charset=\"utf-8\" /></head>\n",
              "<body>\n",
              "    <div>\n",
              "            <script src=\"https://cdnjs.cloudflare.com/ajax/libs/mathjax/2.7.5/MathJax.js?config=TeX-AMS-MML_SVG\"></script><script type=\"text/javascript\">if (window.MathJax) {MathJax.Hub.Config({SVG: {font: \"STIX-Web\"}});}</script>\n",
              "                <script type=\"text/javascript\">window.PlotlyConfig = {MathJaxConfig: 'local'};</script>\n",
              "        <script src=\"https://cdn.plot.ly/plotly-latest.min.js\"></script>    \n",
              "            <div id=\"2c805090-7987-4380-8ed5-992356fed0dc\" class=\"plotly-graph-div\" style=\"height:600px; width:100%;\"></div>\n",
              "            <script type=\"text/javascript\">\n",
              "                \n",
              "                    window.PLOTLYENV=window.PLOTLYENV || {};\n",
              "                    \n",
              "                if (document.getElementById(\"2c805090-7987-4380-8ed5-992356fed0dc\")) {\n",
              "                    Plotly.newPlot(\n",
              "                        '2c805090-7987-4380-8ed5-992356fed0dc',\n",
              "                        [{\"hoverlabel\": {\"namelength\": 0}, \"hovertemplate\": \"embedding=y0<br>x=%{x}<br>y=%{y}<br>z=%{z}\", \"legendgroup\": \"embedding=y0\", \"marker\": {\"color\": \"#636efa\", \"symbol\": \"circle\"}, \"mode\": \"markers\", \"name\": \"embedding=y0\", \"scene\": \"scene\", \"showlegend\": true, \"type\": \"scatter3d\", \"x\": [-74.42440032958984], \"y\": [-335.43341064453125], \"z\": [29.040328979492188]}, {\"hoverlabel\": {\"namelength\": 0}, \"hovertemplate\": \"embedding=y1<br>x=%{x}<br>y=%{y}<br>z=%{z}\", \"legendgroup\": \"embedding=y1\", \"marker\": {\"color\": \"#EF553B\", \"symbol\": \"circle\"}, \"mode\": \"markers\", \"name\": \"embedding=y1\", \"scene\": \"scene\", \"showlegend\": true, \"type\": \"scatter3d\", \"x\": [142.33995056152344], \"y\": [244.81826782226562], \"z\": [-260.6850280761719]}, {\"hoverlabel\": {\"namelength\": 0}, \"hovertemplate\": \"embedding=y2<br>x=%{x}<br>y=%{y}<br>z=%{z}\", \"legendgroup\": \"embedding=y2\", \"marker\": {\"color\": \"#00cc96\", \"symbol\": \"circle\"}, \"mode\": \"markers\", \"name\": \"embedding=y2\", \"scene\": \"scene\", \"showlegend\": true, \"type\": \"scatter3d\", \"x\": [203.13455200195312], \"y\": [3.815985918045044], \"z\": [68.99342346191406]}, {\"hoverlabel\": {\"namelength\": 0}, \"hovertemplate\": \"embedding=y3<br>x=%{x}<br>y=%{y}<br>z=%{z}\", \"legendgroup\": \"embedding=y3\", \"marker\": {\"color\": \"#ab63fa\", \"symbol\": \"circle\"}, \"mode\": \"markers\", \"name\": \"embedding=y3\", \"scene\": \"scene\", \"showlegend\": true, \"type\": \"scatter3d\", \"x\": [-173.91578674316406], \"y\": [-14.023598670959473], \"z\": [326.1709289550781]}, {\"hoverlabel\": {\"namelength\": 0}, \"hovertemplate\": \"embedding=y4<br>x=%{x}<br>y=%{y}<br>z=%{z}\", \"legendgroup\": \"embedding=y4\", \"marker\": {\"color\": \"#FFA15A\", \"symbol\": \"circle\"}, \"mode\": \"markers\", \"name\": \"embedding=y4\", \"scene\": \"scene\", \"showlegend\": true, \"type\": \"scatter3d\", \"x\": [-279.67303466796875], \"y\": [-56.26779556274414], \"z\": [-232.86505126953125]}],\n",
              "                        {\"height\": 600, \"legend\": {\"tracegroupgap\": 0}, \"margin\": {\"t\": 60}, \"scene\": {\"domain\": {\"x\": [0.0, 0.98], \"y\": [0.0, 1.0]}, \"xaxis\": {\"title\": {\"text\": \"x\"}}, \"yaxis\": {\"title\": {\"text\": \"y\"}}, \"zaxis\": {\"title\": {\"text\": \"z\"}}}, \"template\": {\"data\": {\"bar\": [{\"error_x\": {\"color\": \"#2a3f5f\"}, \"error_y\": {\"color\": \"#2a3f5f\"}, \"marker\": {\"line\": {\"color\": \"#E5ECF6\", \"width\": 0.5}}, \"type\": \"bar\"}], \"barpolar\": [{\"marker\": {\"line\": {\"color\": \"#E5ECF6\", \"width\": 0.5}}, \"type\": \"barpolar\"}], \"carpet\": [{\"aaxis\": {\"endlinecolor\": \"#2a3f5f\", \"gridcolor\": \"white\", \"linecolor\": \"white\", \"minorgridcolor\": \"white\", \"startlinecolor\": \"#2a3f5f\"}, \"baxis\": {\"endlinecolor\": \"#2a3f5f\", \"gridcolor\": \"white\", \"linecolor\": \"white\", \"minorgridcolor\": \"white\", \"startlinecolor\": \"#2a3f5f\"}, \"type\": \"carpet\"}], \"choropleth\": [{\"colorbar\": {\"outlinewidth\": 0, \"ticks\": \"\"}, \"type\": \"choropleth\"}], \"contour\": [{\"colorbar\": {\"outlinewidth\": 0, \"ticks\": \"\"}, \"colorscale\": [[0.0, \"#0d0887\"], [0.1111111111111111, \"#46039f\"], [0.2222222222222222, \"#7201a8\"], [0.3333333333333333, \"#9c179e\"], [0.4444444444444444, \"#bd3786\"], [0.5555555555555556, \"#d8576b\"], [0.6666666666666666, \"#ed7953\"], [0.7777777777777778, \"#fb9f3a\"], [0.8888888888888888, \"#fdca26\"], [1.0, \"#f0f921\"]], \"type\": \"contour\"}], \"contourcarpet\": [{\"colorbar\": {\"outlinewidth\": 0, \"ticks\": \"\"}, \"type\": \"contourcarpet\"}], \"heatmap\": [{\"colorbar\": {\"outlinewidth\": 0, \"ticks\": \"\"}, \"colorscale\": [[0.0, \"#0d0887\"], [0.1111111111111111, \"#46039f\"], [0.2222222222222222, \"#7201a8\"], [0.3333333333333333, \"#9c179e\"], [0.4444444444444444, \"#bd3786\"], [0.5555555555555556, \"#d8576b\"], [0.6666666666666666, \"#ed7953\"], [0.7777777777777778, \"#fb9f3a\"], [0.8888888888888888, \"#fdca26\"], [1.0, \"#f0f921\"]], \"type\": \"heatmap\"}], \"heatmapgl\": [{\"colorbar\": {\"outlinewidth\": 0, \"ticks\": \"\"}, \"colorscale\": [[0.0, \"#0d0887\"], [0.1111111111111111, \"#46039f\"], [0.2222222222222222, \"#7201a8\"], [0.3333333333333333, \"#9c179e\"], [0.4444444444444444, \"#bd3786\"], [0.5555555555555556, \"#d8576b\"], [0.6666666666666666, \"#ed7953\"], [0.7777777777777778, \"#fb9f3a\"], [0.8888888888888888, \"#fdca26\"], [1.0, \"#f0f921\"]], \"type\": \"heatmapgl\"}], \"histogram\": [{\"marker\": {\"colorbar\": {\"outlinewidth\": 0, \"ticks\": \"\"}}, \"type\": \"histogram\"}], \"histogram2d\": [{\"colorbar\": {\"outlinewidth\": 0, \"ticks\": \"\"}, \"colorscale\": [[0.0, \"#0d0887\"], [0.1111111111111111, \"#46039f\"], [0.2222222222222222, \"#7201a8\"], [0.3333333333333333, \"#9c179e\"], [0.4444444444444444, \"#bd3786\"], [0.5555555555555556, \"#d8576b\"], [0.6666666666666666, \"#ed7953\"], [0.7777777777777778, \"#fb9f3a\"], [0.8888888888888888, \"#fdca26\"], [1.0, \"#f0f921\"]], \"type\": \"histogram2d\"}], \"histogram2dcontour\": [{\"colorbar\": {\"outlinewidth\": 0, \"ticks\": \"\"}, \"colorscale\": [[0.0, \"#0d0887\"], [0.1111111111111111, \"#46039f\"], [0.2222222222222222, \"#7201a8\"], [0.3333333333333333, \"#9c179e\"], [0.4444444444444444, \"#bd3786\"], [0.5555555555555556, \"#d8576b\"], [0.6666666666666666, \"#ed7953\"], [0.7777777777777778, \"#fb9f3a\"], [0.8888888888888888, \"#fdca26\"], [1.0, \"#f0f921\"]], \"type\": \"histogram2dcontour\"}], \"mesh3d\": [{\"colorbar\": {\"outlinewidth\": 0, \"ticks\": \"\"}, \"type\": \"mesh3d\"}], \"parcoords\": [{\"line\": {\"colorbar\": {\"outlinewidth\": 0, \"ticks\": \"\"}}, \"type\": \"parcoords\"}], \"scatter\": [{\"marker\": {\"colorbar\": {\"outlinewidth\": 0, \"ticks\": \"\"}}, \"type\": \"scatter\"}], \"scatter3d\": [{\"line\": {\"colorbar\": {\"outlinewidth\": 0, \"ticks\": \"\"}}, \"marker\": {\"colorbar\": {\"outlinewidth\": 0, \"ticks\": \"\"}}, \"type\": \"scatter3d\"}], \"scattercarpet\": [{\"marker\": {\"colorbar\": {\"outlinewidth\": 0, \"ticks\": \"\"}}, \"type\": \"scattercarpet\"}], \"scattergeo\": [{\"marker\": {\"colorbar\": {\"outlinewidth\": 0, \"ticks\": \"\"}}, \"type\": \"scattergeo\"}], \"scattergl\": [{\"marker\": {\"colorbar\": {\"outlinewidth\": 0, \"ticks\": \"\"}}, \"type\": \"scattergl\"}], \"scattermapbox\": [{\"marker\": {\"colorbar\": {\"outlinewidth\": 0, \"ticks\": \"\"}}, \"type\": \"scattermapbox\"}], \"scatterpolar\": [{\"marker\": {\"colorbar\": {\"outlinewidth\": 0, \"ticks\": \"\"}}, \"type\": \"scatterpolar\"}], \"scatterpolargl\": [{\"marker\": {\"colorbar\": {\"outlinewidth\": 0, \"ticks\": \"\"}}, \"type\": \"scatterpolargl\"}], \"scatterternary\": [{\"marker\": {\"colorbar\": {\"outlinewidth\": 0, \"ticks\": \"\"}}, \"type\": \"scatterternary\"}], \"surface\": [{\"colorbar\": {\"outlinewidth\": 0, \"ticks\": \"\"}, \"colorscale\": [[0.0, \"#0d0887\"], [0.1111111111111111, \"#46039f\"], [0.2222222222222222, \"#7201a8\"], [0.3333333333333333, \"#9c179e\"], [0.4444444444444444, \"#bd3786\"], [0.5555555555555556, \"#d8576b\"], [0.6666666666666666, \"#ed7953\"], [0.7777777777777778, \"#fb9f3a\"], [0.8888888888888888, \"#fdca26\"], [1.0, \"#f0f921\"]], \"type\": \"surface\"}], \"table\": [{\"cells\": {\"fill\": {\"color\": \"#EBF0F8\"}, \"line\": {\"color\": \"white\"}}, \"header\": {\"fill\": {\"color\": \"#C8D4E3\"}, \"line\": {\"color\": \"white\"}}, \"type\": \"table\"}]}, \"layout\": {\"annotationdefaults\": {\"arrowcolor\": \"#2a3f5f\", \"arrowhead\": 0, \"arrowwidth\": 1}, \"colorscale\": {\"diverging\": [[0, \"#8e0152\"], [0.1, \"#c51b7d\"], [0.2, \"#de77ae\"], [0.3, \"#f1b6da\"], [0.4, \"#fde0ef\"], [0.5, \"#f7f7f7\"], [0.6, \"#e6f5d0\"], [0.7, \"#b8e186\"], [0.8, \"#7fbc41\"], [0.9, \"#4d9221\"], [1, \"#276419\"]], \"sequential\": [[0.0, \"#0d0887\"], [0.1111111111111111, \"#46039f\"], [0.2222222222222222, \"#7201a8\"], [0.3333333333333333, \"#9c179e\"], [0.4444444444444444, \"#bd3786\"], [0.5555555555555556, \"#d8576b\"], [0.6666666666666666, \"#ed7953\"], [0.7777777777777778, \"#fb9f3a\"], [0.8888888888888888, \"#fdca26\"], [1.0, \"#f0f921\"]], \"sequentialminus\": [[0.0, \"#0d0887\"], [0.1111111111111111, \"#46039f\"], [0.2222222222222222, \"#7201a8\"], [0.3333333333333333, \"#9c179e\"], [0.4444444444444444, \"#bd3786\"], [0.5555555555555556, \"#d8576b\"], [0.6666666666666666, \"#ed7953\"], [0.7777777777777778, \"#fb9f3a\"], [0.8888888888888888, \"#fdca26\"], [1.0, \"#f0f921\"]]}, \"colorway\": [\"#636efa\", \"#EF553B\", \"#00cc96\", \"#ab63fa\", \"#FFA15A\", \"#19d3f3\", \"#FF6692\", \"#B6E880\", \"#FF97FF\", \"#FECB52\"], \"font\": {\"color\": \"#2a3f5f\"}, \"geo\": {\"bgcolor\": \"white\", \"lakecolor\": \"white\", \"landcolor\": \"#E5ECF6\", \"showlakes\": true, \"showland\": true, \"subunitcolor\": \"white\"}, \"hoverlabel\": {\"align\": \"left\"}, \"hovermode\": \"closest\", \"mapbox\": {\"style\": \"light\"}, \"paper_bgcolor\": \"white\", \"plot_bgcolor\": \"#E5ECF6\", \"polar\": {\"angularaxis\": {\"gridcolor\": \"white\", \"linecolor\": \"white\", \"ticks\": \"\"}, \"bgcolor\": \"#E5ECF6\", \"radialaxis\": {\"gridcolor\": \"white\", \"linecolor\": \"white\", \"ticks\": \"\"}}, \"scene\": {\"xaxis\": {\"backgroundcolor\": \"#E5ECF6\", \"gridcolor\": \"white\", \"gridwidth\": 2, \"linecolor\": \"white\", \"showbackground\": true, \"ticks\": \"\", \"zerolinecolor\": \"white\"}, \"yaxis\": {\"backgroundcolor\": \"#E5ECF6\", \"gridcolor\": \"white\", \"gridwidth\": 2, \"linecolor\": \"white\", \"showbackground\": true, \"ticks\": \"\", \"zerolinecolor\": \"white\"}, \"zaxis\": {\"backgroundcolor\": \"#E5ECF6\", \"gridcolor\": \"white\", \"gridwidth\": 2, \"linecolor\": \"white\", \"showbackground\": true, \"ticks\": \"\", \"zerolinecolor\": \"white\"}}, \"shapedefaults\": {\"line\": {\"color\": \"#2a3f5f\"}}, \"ternary\": {\"aaxis\": {\"gridcolor\": \"white\", \"linecolor\": \"white\", \"ticks\": \"\"}, \"baxis\": {\"gridcolor\": \"white\", \"linecolor\": \"white\", \"ticks\": \"\"}, \"bgcolor\": \"#E5ECF6\", \"caxis\": {\"gridcolor\": \"white\", \"linecolor\": \"white\", \"ticks\": \"\"}}, \"title\": {\"x\": 0.05}, \"xaxis\": {\"automargin\": true, \"gridcolor\": \"white\", \"linecolor\": \"white\", \"ticks\": \"\", \"zerolinecolor\": \"white\", \"zerolinewidth\": 2}, \"yaxis\": {\"automargin\": true, \"gridcolor\": \"white\", \"linecolor\": \"white\", \"ticks\": \"\", \"zerolinecolor\": \"white\", \"zerolinewidth\": 2}}}},\n",
              "                        {\"responsive\": true}\n",
              "                    ).then(function(){\n",
              "                            \n",
              "var gd = document.getElementById('2c805090-7987-4380-8ed5-992356fed0dc');\n",
              "var x = new MutationObserver(function (mutations, observer) {{\n",
              "        var display = window.getComputedStyle(gd).display;\n",
              "        if (!display || display === 'none') {{\n",
              "            console.log([gd, 'removed!']);\n",
              "            Plotly.purge(gd);\n",
              "            observer.disconnect();\n",
              "        }}\n",
              "}});\n",
              "\n",
              "// Listen for the removal of the full notebook cells\n",
              "var notebookContainer = gd.closest('#notebook-container');\n",
              "if (notebookContainer) {{\n",
              "    x.observe(notebookContainer, {childList: true});\n",
              "}}\n",
              "\n",
              "// Listen for the clearing of the current output cell\n",
              "var outputEl = gd.closest('.output');\n",
              "if (outputEl) {{\n",
              "    x.observe(outputEl, {childList: true});\n",
              "}}\n",
              "\n",
              "                        })\n",
              "                };\n",
              "                \n",
              "            </script>\n",
              "        </div>\n",
              "</body>\n",
              "</html>"
            ]
          },
          "metadata": {
            "tags": []
          }
        }
      ]
    }
  ]
}